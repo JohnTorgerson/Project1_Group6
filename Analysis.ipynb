{
 "cells": [
  {
   "cell_type": "code",
   "execution_count": null,
   "id": "ddb171a6",
   "metadata": {},
   "outputs": [],
   "source": [
    "import pandas as pd\n",
    "import numpy as np\n",
    "import matplotlib.pyplot as plt\n",
    "from scipy.stats import linregress\n"
   ]
  },
  {
   "cell_type": "code",
   "execution_count": null,
   "id": "32952f56",
   "metadata": {},
   "outputs": [],
   "source": [
    "file_path = 'cleaned_data.csv'\n",
    "happiness_df = pd.read_csv(file_path)\n",
    "\n",
    "happiness_df.head()"
   ]
  },
  {
   "cell_type": "code",
   "execution_count": null,
   "id": "180ec04f",
   "metadata": {},
   "outputs": [],
   "source": [
    "corr = happiness_df.corr().style.background_gradient(cmap='coolwarm')\n",
    "corr\n"
   ]
  },
  {
   "cell_type": "markdown",
   "id": "0933d585",
   "metadata": {},
   "source": [
    "# Freedom to Make Life Choices\n",
    "\n",
    "Freedom to make life choices is the national average of a binary response (0=no, 1=yes) to the question \"Are you satisfied or dissatisfied with your freedom to choice what you do with your life?\""
   ]
  },
  {
   "cell_type": "markdown",
   "id": "1c23dfa2",
   "metadata": {},
   "source": [
    "Would it be more appropriate to name this \"satisfaction with freedom to make life choices\"?"
   ]
  },
  {
   "cell_type": "code",
   "execution_count": null,
   "id": "1cf09fc5",
   "metadata": {},
   "outputs": [],
   "source": [
    "happiness_df['freedom to make life choices'].hist(bins=25)\n",
    "\n",
    "plt.xlabel('Freedom to Make Life Choices')\n",
    "plt.ylabel('Count')\n",
    "plt.title('Histogram of Freedom To Make Life Choices Results')\n",
    "\n",
    "plt.show()"
   ]
  },
  {
   "cell_type": "markdown",
   "id": "20ff79ac",
   "metadata": {},
   "source": [
    "The data is fairly normally distributed, but with a left skew."
   ]
  },
  {
   "cell_type": "code",
   "execution_count": null,
   "id": "627e2ce8",
   "metadata": {
    "scrolled": true
   },
   "outputs": [],
   "source": [
    "x_axis = happiness_df['freedom to make life choices']\n",
    "y_axis = happiness_df['Happiness score']\n",
    "\n",
    "(slope, intercept, rvalue, pvalue, stderr) = linregress(x_axis, y_axis)\n",
    "regress_values = x_axis * slope + intercept\n",
    "line_eq = f'y = {round(slope, 2)}x + {round(intercept, 2)}'\n",
    "rsquared = f'r squared = {round(rvalue * rvalue, 2)}'\n",
    "\n",
    "plt.plot(x_axis, regress_values, color='red')\n",
    "plt.annotate(line_eq, (0.03,6.9), fontsize=15, color=\"red\")\n",
    "plt.annotate(rsquared, (0.03, 6.4), fontsize=15, color=\"red\")\n",
    "\n",
    "plt.title('Freedom to Make Life Choices vs Happiness')\n",
    "plt.ylabel('Happiness')\n",
    "plt.xlabel('Freedom to Make Life Choices')\n",
    "\n",
    "plt.scatter(x_axis, y_axis)\n",
    "plt.show()"
   ]
  },
  {
   "cell_type": "markdown",
   "id": "1be4cea1",
   "metadata": {},
   "source": [
    "The correlation between Freedom to Make Life Choices and Happiness is low (rsquared = 0.39). This indicates that our regression has poor prediction power. \n",
    "\n",
    "To illustrate this point, let's examine the subset of this data where freedom to make life choices is greater than 0.60 but less than 0.65."
   ]
  },
  {
   "cell_type": "code",
   "execution_count": null,
   "id": "77879aba",
   "metadata": {},
   "outputs": [],
   "source": [
    "freedom_subset = happiness_df.loc[(happiness_df['freedom to make life choices'] > 0.60) & \n",
    "                                  (happiness_df['freedom to make life choices'] < 0.65)]\n",
    "\n",
    "\n",
    "x_axis = freedom_subset['freedom to make life choices']\n",
    "y_axis = freedom_subset['Happiness score']\n",
    "\n",
    "min = f'Rwanda: {y_axis.min()}'\n",
    "max = f'Austria: {y_axis.max()}'\n",
    "\n",
    "plt.annotate(min, (0.623,3.2), fontsize=12, color=\"red\")\n",
    "plt.annotate(max, (0.607, 7), fontsize=12, color=\"red\")\n",
    "\n",
    "plt.title('Freedom to Make Life Choices vs Happiness')\n",
    "plt.ylabel('Happiness')\n",
    "plt.xlabel('Freedom to Make Life Choices')\n",
    "\n",
    "plt.scatter(x_axis, y_axis)\n",
    "plt.show()"
   ]
  },
  {
   "cell_type": "markdown",
   "id": "e1287d3e",
   "metadata": {},
   "source": [
    "Out of the 16 countries in this subset, the happiness scores ranged from 3.268 (Rwanda) to 7.163 (Austria).\n",
    "\n",
    "Would you choose where to live based solely on freedom to make life choices?"
   ]
  },
  {
   "cell_type": "code",
   "execution_count": null,
   "id": "4e13aac0",
   "metadata": {},
   "outputs": [],
   "source": []
  }
 ],
 "metadata": {
  "kernelspec": {
   "display_name": "PythonData38",
   "language": "python",
   "name": "pythondata38"
  },
  "language_info": {
   "codemirror_mode": {
    "name": "ipython",
    "version": 3
   },
   "file_extension": ".py",
   "mimetype": "text/x-python",
   "name": "python",
   "nbconvert_exporter": "python",
   "pygments_lexer": "ipython3",
   "version": "3.9.12"
  }
 },
 "nbformat": 4,
 "nbformat_minor": 5
}
