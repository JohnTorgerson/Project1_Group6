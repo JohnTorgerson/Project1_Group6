{
 "cells": [
  {
   "cell_type": "code",
   "execution_count": 1,
   "id": "3ea990b5",
   "metadata": {},
   "outputs": [],
   "source": [
    "import pandas as pd\n",
    "import numpy as np\n",
    "import matplotlib.pyplot as plt\n"
   ]
  },
  {
   "cell_type": "code",
   "execution_count": 3,
   "id": "6eb3ac3c",
   "metadata": {},
   "outputs": [
    {
     "data": {
      "text/html": [
       "<div>\n",
       "<style scoped>\n",
       "    .dataframe tbody tr th:only-of-type {\n",
       "        vertical-align: middle;\n",
       "    }\n",
       "\n",
       "    .dataframe tbody tr th {\n",
       "        vertical-align: top;\n",
       "    }\n",
       "\n",
       "    .dataframe thead th {\n",
       "        text-align: right;\n",
       "    }\n",
       "</style>\n",
       "<table border=\"1\" class=\"dataframe\">\n",
       "  <thead>\n",
       "    <tr style=\"text-align: right;\">\n",
       "      <th></th>\n",
       "      <th>Unnamed: 0</th>\n",
       "      <th>RANK</th>\n",
       "      <th>Country</th>\n",
       "      <th>Happiness score</th>\n",
       "      <th>Whisker-high</th>\n",
       "      <th>Whisker-low</th>\n",
       "      <th>Dystopia (1.83) + residual</th>\n",
       "      <th>GDP per capita</th>\n",
       "      <th>social support</th>\n",
       "      <th>healthy life expectancy</th>\n",
       "      <th>freedom to make life choices</th>\n",
       "      <th>generosity</th>\n",
       "      <th>perceptions of corruption</th>\n",
       "    </tr>\n",
       "  </thead>\n",
       "  <tbody>\n",
       "    <tr>\n",
       "      <th>0</th>\n",
       "      <td>0</td>\n",
       "      <td>1</td>\n",
       "      <td>Finland</td>\n",
       "      <td>7.821</td>\n",
       "      <td>7.886</td>\n",
       "      <td>7.756</td>\n",
       "      <td>2.518</td>\n",
       "      <td>1.892</td>\n",
       "      <td>1.258</td>\n",
       "      <td>0.775</td>\n",
       "      <td>0.736</td>\n",
       "      <td>0.109</td>\n",
       "      <td>0.534</td>\n",
       "    </tr>\n",
       "  </tbody>\n",
       "</table>\n",
       "</div>"
      ],
      "text/plain": [
       "   Unnamed: 0  RANK  Country  Happiness score  Whisker-high  Whisker-low  \\\n",
       "0           0     1  Finland            7.821         7.886        7.756   \n",
       "\n",
       "   Dystopia (1.83) + residual  GDP per capita  social support  \\\n",
       "0                       2.518           1.892           1.258   \n",
       "\n",
       "   healthy life expectancy  freedom to make life choices  generosity  \\\n",
       "0                    0.775                         0.736       0.109   \n",
       "\n",
       "   perceptions of corruption  \n",
       "0                      0.534  "
      ]
     },
     "execution_count": 3,
     "metadata": {},
     "output_type": "execute_result"
    }
   ],
   "source": [
    "#import clean csv\n",
    "csv_path = \"cleaned_data.csv\"\n",
    "happiness_df = pd.read_csv(csv_path, encoding=\"UTF-8\")\n",
    "happiness_df.head(1)"
   ]
  },
  {
   "cell_type": "code",
   "execution_count": 11,
   "id": "9b22bd6d",
   "metadata": {},
   "outputs": [
    {
     "name": "stdout",
     "output_type": "stream",
     "text": [
      "0      0.775\n",
      "1      0.777\n",
      "2      0.803\n",
      "3      0.822\n",
      "4      0.787\n",
      "       ...  \n",
      "141    0.280\n",
      "142    0.462\n",
      "143    0.270\n",
      "144    0.631\n",
      "145    0.289\n",
      "Name: healthy life expectancy, Length: 146, dtype: float64\n"
     ]
    }
   ],
   "source": [
    "#Set Variables to column lists\n",
    "life_ex = happiness_df[\"healthy life expectancy\"]\n",
    "print(life_ex)"
   ]
  },
  {
   "cell_type": "code",
   "execution_count": 14,
   "id": "a2287eba",
   "metadata": {},
   "outputs": [
    {
     "ename": "TypeError",
     "evalue": "tuple indices must be integers or slices, not str",
     "output_type": "error",
     "traceback": [
      "\u001b[1;31m---------------------------------------------------------------------------\u001b[0m",
      "\u001b[1;31mTypeError\u001b[0m                                 Traceback (most recent call last)",
      "Input \u001b[1;32mIn [14]\u001b[0m, in \u001b[0;36m<cell line: 6>\u001b[1;34m()\u001b[0m\n\u001b[0;32m      4\u001b[0m plt\u001b[38;5;241m.\u001b[39mboxplot(x_values, showmeans\u001b[38;5;241m=\u001b[39m\u001b[38;5;28;01mTrue\u001b[39;00m)\n\u001b[0;32m      5\u001b[0m plt\u001b[38;5;241m.\u001b[39mtitle(\u001b[38;5;124m\"\u001b[39m\u001b[38;5;124mHappy Test\u001b[39m\u001b[38;5;124m\"\u001b[39m)\n\u001b[1;32m----> 6\u001b[0m \u001b[38;5;28;01mfor\u001b[39;00m country \u001b[38;5;129;01min\u001b[39;00m \u001b[43moutliers\u001b[49m\u001b[43m[\u001b[49m\u001b[38;5;124;43m'\u001b[39;49m\u001b[38;5;124;43mCountry\u001b[39;49m\u001b[38;5;124;43m'\u001b[39;49m\u001b[43m]\u001b[49m\u001b[38;5;241m.\u001b[39mvalues:\n\u001b[0;32m      7\u001b[0m     y \u001b[38;5;241m=\u001b[39m outliers\u001b[38;5;241m.\u001b[39mloc[outliers[\u001b[38;5;124m'\u001b[39m\u001b[38;5;124mCountry\u001b[39m\u001b[38;5;124m'\u001b[39m]\u001b[38;5;241m==\u001b[39mcountry, \u001b[38;5;124m'\u001b[39m\u001b[38;5;124mhealthy life expectancy\u001b[39m\u001b[38;5;124m'\u001b[39m]\n\u001b[0;32m      8\u001b[0m     plt\u001b[38;5;241m.\u001b[39mannotate(country,(\u001b[38;5;241m1.05\u001b[39m,y),fontsize\u001b[38;5;241m=\u001b[39m\u001b[38;5;241m10\u001b[39m,color\u001b[38;5;241m=\u001b[39m\u001b[38;5;124m'\u001b[39m\u001b[38;5;124mred\u001b[39m\u001b[38;5;124m'\u001b[39m)\n",
      "\u001b[1;31mTypeError\u001b[0m: tuple indices must be integers or slices, not str"
     ]
    },
    {
     "data": {
      "image/png": "[encoded data removed]",
      "text/plain": [
       "<Figure size 432x288 with 1 Axes>"
      ]
     },
     "metadata": {
      "needs_background": "light"
     },
     "output_type": "display_data"
    }
   ],
   "source": [
    "#Create BoxPlot2\n",
    "x_values = [1,2,3,4]\n",
    "outliers = (1,4)\n",
    "plt.boxplot(x_values, showmeans=True)\n",
    "plt.title(\"Happy Test\")\n",
    "for country in outliers['Country'].values:\n",
    "    y = outliers.loc[outliers['Country']==country, 'healthy life expectancy']\n",
    "    plt.annotate(country,(1.05,y),fontsize=10,color='red')\n",
    "plt.show()"
   ]
  },
  {
   "cell_type": "code",
   "execution_count": 8,
   "id": "ba4a657c",
   "metadata": {},
   "outputs": [
    {
     "data": {
      "image/png": "[encoded data removed]",
      "text/plain": [
       "<Figure size 432x288 with 1 Axes>"
      ]
     },
     "metadata": {
      "needs_background": "light"
     },
     "output_type": "display_data"
    }
   ],
   "source": [
    "#Create BoxPlot\n",
    "happy_score = happiness_df['Happiness score']\n",
    "\n",
    "fig1, ax1 = plt.subplots()\n",
    "ax1.set_title('Happy Box Test Sample')\n",
    "ax1.set_ylabel('Happiness')\n",
    "ax1.set_xlabel('Life Expetancy')\n",
    "ax1.boxplot(life_ex)\n",
    "plt.show()"
   ]
  },
  {
   "cell_type": "markdown",
   "id": "9e837295",
   "metadata": {},
   "source": [
    "# STOP  Below HERE is on the main branch already which created \"happiness_df\" in \"cleaned_data.csv\""
   ]
  },
  {
   "cell_type": "code",
   "execution_count": null,
   "id": "95112f7e",
   "metadata": {},
   "outputs": [],
   "source": [
    "file_path = 'world_happiness.csv'\n",
    "happiness_df = pd.read_csv(file_path)\n",
    "happiness_df.rename(columns = {'Country name': 'Country'}, inplace=True)\n",
    "\n",
    "happiness_df.head()"
   ]
  },
  {
   "cell_type": "code",
   "execution_count": null,
   "id": "d638c7da",
   "metadata": {},
   "outputs": [],
   "source": [
    "#replacing '*' in country names\n",
    "happiness_df[\"Country\"] = happiness_df[\"Country\"].str.replace( \"*\" , \"\" )\n",
    "happiness_df"
   ]
  },
  {
   "cell_type": "code",
   "execution_count": null,
   "id": "cdf55765",
   "metadata": {},
   "outputs": [],
   "source": [
    "#removing row 147\n",
    "happiness_df = happiness_df.drop([146])\n",
    "happiness_df"
   ]
  },
  {
   "cell_type": "code",
   "execution_count": null,
   "id": "e9488607",
   "metadata": {},
   "outputs": [],
   "source": [
    "#check for duplicate countries\n",
    "happiness_df['Country'].value_counts()"
   ]
  },
  {
   "cell_type": "code",
   "execution_count": null,
   "id": "50be9965",
   "metadata": {},
   "outputs": [],
   "source": [
    "#there are not any NAN\n",
    "happiness_df = happiness_df.dropna()\n",
    "happiness_df"
   ]
  },
  {
   "cell_type": "code",
   "execution_count": null,
   "id": "dd3c0efe",
   "metadata": {},
   "outputs": [],
   "source": [
    "#renaming columns\n",
    "happiness_df = happiness_df.rename(columns = {'Explained by: GDP per capita': 'GDP per capita',\n",
    "                                             'Explained by: Social support': 'social support',\n",
    "                                             'Explained by: Healthy life expectancy': 'healthy life expectancy',\n",
    "                                             'Explained by: Freedom to make life choices': 'freedom to make life choices',\n",
    "                                             'Explained by: Generosity': 'generosity',\n",
    "                                             'Explained by: Perceptions of corruption': 'perceptions of corruption'})\n",
    "happiness_df"
   ]
  },
  {
   "cell_type": "code",
   "execution_count": null,
   "id": "88a06351",
   "metadata": {},
   "outputs": [],
   "source": [
    "#corr table for reference\n",
    "corr = happiness_df.corr()\n",
    "corr = corr.style.background_gradient(cmap='coolwarm')\n",
    "corr\n"
   ]
  },
  {
   "cell_type": "code",
   "execution_count": null,
   "id": "f228e1f5",
   "metadata": {},
   "outputs": [],
   "source": [
    "#export to csv\n",
    "happiness_df.to_csv('cleaned_data.csv')"
   ]
  }
 ],
 "metadata": {
  "kernelspec": {
   "display_name": "Python 3 (ipykernel)",
   "language": "python",
   "name": "python3"
  },
  "language_info": {
   "codemirror_mode": {
    "name": "ipython",
    "version": 3
   },
   "file_extension": ".py",
   "mimetype": "text/x-python",
   "name": "python",
   "nbconvert_exporter": "python",
   "pygments_lexer": "ipython3",
   "version": "3.8.13"
  }
 },
 "nbformat": 4,
 "nbformat_minor": 5
}
