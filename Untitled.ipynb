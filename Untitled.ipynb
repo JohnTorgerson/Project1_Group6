{
 "cells": [
  {
   "cell_type": "code",
   "execution_count": null,
   "id": "3ea990b5",
   "metadata": {},
   "outputs": [],
   "source": [
    "import pandas as pd\n",
    "import numpy as np\n",
    "import matplotlib.pyplot as plt\n"
   ]
  },
  {
   "cell_type": "code",
   "execution_count": null,
   "id": "95112f7e",
   "metadata": {},
   "outputs": [],
   "source": [
    "file_path = 'world-happiness-report.csv'\n",
    "happiness_df = pd.read_csv(file_path)\n",
    "happiness_df.rename(columns = {'Country name': 'Country'}, inplace=True)\n",
    "\n",
    "happiness_df.head()"
   ]
  },
  {
   "cell_type": "code",
   "execution_count": null,
   "id": "88a06351",
   "metadata": {},
   "outputs": [],
   "source": [
    "corr = happiness_df.corr()\n",
    "corr = corr.style.background_gradient(cmap='coolwarm')\n",
    "corr\n"
   ]
  },
  {
   "cell_type": "code",
   "execution_count": null,
   "id": "9df1cc16",
   "metadata": {},
   "outputs": [],
   "source": []
  },
  {
   "cell_type": "code",
   "execution_count": null,
   "id": "aff8001f",
   "metadata": {},
   "outputs": [],
   "source": [
    "afghanistan = happiness_df.loc[happiness_df['Country'] == 'Afghanistan']\n",
    "\n",
    "x_axis = afghanistan['year']\n",
    "y_axis = afghanistan['Freedom to make life choices']\n",
    "\n",
    "plt.scatter(x_axis, y_axis)\n",
    "plt.xlabel('Year')\n",
    "plt.ylabel('Freedom to Make Life Choices')\n",
    "plt.title('Afghanistan Freedom to Make Life Choices')\n",
    "plt.show()"
   ]
  },
  {
   "cell_type": "code",
   "execution_count": null,
   "id": "4077784f",
   "metadata": {},
   "outputs": [],
   "source": [
    "afghanistan = happiness_df.loc[happiness_df['Country'] == 'Afghanistan']\n",
    "\n",
    "x_axis = afghanistan['year']\n",
    "y_axis = afghanistan['Generosity']\n",
    "\n",
    "plt.scatter(x_axis, y_axis)\n",
    "plt.xlabel('Year')\n",
    "plt.ylabel('Freedom to Make Life Choices')\n",
    "plt.title('Afghanistan Generosity')\n",
    "plt.show()"
   ]
  },
  {
   "cell_type": "code",
   "execution_count": null,
   "id": "63cc77ad",
   "metadata": {},
   "outputs": [],
   "source": [
    "usa = happiness_df.loc[happiness_df['Country'] == 'United States']\n",
    "\n",
    "x_axis = usa['year']\n",
    "y_axis = usa['Freedom to make life choices']\n",
    "\n",
    "plt.scatter(x_axis, y_axis)\n",
    "plt.xlabel('Year')\n",
    "plt.ylabel('Freedom to Make Life Choices')\n",
    "plt.title('United States Freedom to Make Life Choices')\n",
    "plt.show()"
   ]
  },
  {
   "cell_type": "code",
   "execution_count": null,
   "id": "7bf59223",
   "metadata": {},
   "outputs": [],
   "source": [
    "#reading csv to dataframs\n",
    "filepath = 'Time-Use-in-OECD-Countries-OECD.csv'\n",
    "time_df = pd.read_csv(filepath)\n",
    "\n",
    "#renaming countries to match world happiness dataframe\n",
    "time_df = time_df.replace(['UK'],'United Kingdom')\n",
    "time_df = time_df.replace(['USA'],'United States')\n",
    "\n",
    "time_df"
   ]
  },
  {
   "cell_type": "code",
   "execution_count": null,
   "id": "6cd9dee3",
   "metadata": {},
   "outputs": [],
   "source": [
    "#happiness_df['Country'].unique()"
   ]
  },
  {
   "cell_type": "code",
   "execution_count": null,
   "id": "7fe2c617",
   "metadata": {},
   "outputs": [],
   "source": [
    "#time_df['Country'].unique()"
   ]
  },
  {
   "cell_type": "code",
   "execution_count": null,
   "id": "982279df",
   "metadata": {},
   "outputs": [],
   "source": [
    "time_df.loc[time_df['Country'] == 'Australia']"
   ]
  },
  {
   "cell_type": "code",
   "execution_count": null,
   "id": "ba8183c3",
   "metadata": {},
   "outputs": [],
   "source": [
    "#pivot dataframe\n",
    "time_pivot = time_df.pivot_table(time_df, index='Country', columns = 'Category' )\n",
    "time_pivot"
   ]
  },
  {
   "cell_type": "code",
   "execution_count": null,
   "id": "665bff15",
   "metadata": {},
   "outputs": [],
   "source": [
    "# merge dataframes on country\n",
    "\n",
    "merge = happiness_df.merge(time_pivot, how='outer', on=['Country'])\n",
    "merge"
   ]
  },
  {
   "cell_type": "code",
   "execution_count": null,
   "id": "a6e45ee5",
   "metadata": {},
   "outputs": [],
   "source": [
    "#search for country in time_df to determine if merge was successful\n",
    "united_states = merge.loc[merge['Country'] == 'United States']\n",
    "united_states"
   ]
  },
  {
   "cell_type": "code",
   "execution_count": null,
   "id": "e9c1dfac",
   "metadata": {},
   "outputs": [],
   "source": [
    "#grouped for average\n",
    "merge_group = merge.groupby(['Country']).mean()\n",
    "merge_group"
   ]
  },
  {
   "cell_type": "code",
   "execution_count": null,
   "id": "2d1c1781",
   "metadata": {},
   "outputs": [],
   "source": [
    "avg_generosity = merge_group['Generosity']\n",
    "avg_generosity\n",
    "merge['Average Generosity'] = merge_group['Generosity']\n",
    "\n",
    "merge"
   ]
  },
  {
   "cell_type": "code",
   "execution_count": null,
   "id": "e51838bd",
   "metadata": {},
   "outputs": [],
   "source": [
    "merge.loc[merge['Country'] == 'United States']"
   ]
  },
  {
   "cell_type": "code",
   "execution_count": null,
   "id": "43fabbce",
   "metadata": {},
   "outputs": [],
   "source": [
    "import missingno as msno\n",
    "msno.matrix(data_missingno)\n",
    "plt.show()"
   ]
  },
  {
   "cell_type": "code",
   "execution_count": null,
   "id": "f228e1f5",
   "metadata": {},
   "outputs": [],
   "source": []
  }
 ],
 "metadata": {
  "kernelspec": {
   "display_name": "Python 3 (ipykernel)",
   "language": "python",
   "name": "python3"
  },
  "language_info": {
   "codemirror_mode": {
    "name": "ipython",
    "version": 3
   },
   "file_extension": ".py",
   "mimetype": "text/x-python",
   "name": "python",
   "nbconvert_exporter": "python",
   "pygments_lexer": "ipython3",
   "version": "3.8.13"
  }
 },
 "nbformat": 4,
 "nbformat_minor": 5
}
