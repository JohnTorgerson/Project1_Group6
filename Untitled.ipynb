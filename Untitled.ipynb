{
 "cells": [
  {
   "cell_type": "code",
   "execution_count": null,
   "id": "3ea990b5",
   "metadata": {},
   "outputs": [],
   "source": [
    "import pandas as pd\n",
    "import numpy as np\n",
    "import matplotlib.pyplot as plt\n"
   ]
  },
  {
   "cell_type": "code",
   "execution_count": null,
   "id": "95112f7e",
   "metadata": {},
   "outputs": [],
   "source": [
    "file_path = 'world_happiness.csv'\n",
    "happiness_df = pd.read_csv(file_path)\n",
    "happiness_df.rename(columns = {'Country name': 'Country'}, inplace=True)\n",
    "\n",
    "happiness_df.head()"
   ]
  },
  {
   "cell_type": "code",
   "execution_count": null,
   "id": "d638c7da",
   "metadata": {},
   "outputs": [],
   "source": [
    "#replacing '*' in country names\n",
    "happiness_df[\"Country\"] = happiness_df[\"Country\"].str.replace( \"*\" , \"\" )\n",
    "happiness_df"
   ]
  },
  {
   "cell_type": "code",
   "execution_count": null,
   "id": "cdf55765",
   "metadata": {},
   "outputs": [],
   "source": [
    "#removing row 147\n",
    "happiness_df = happiness_df.drop([146])\n",
    "happiness_df"
   ]
  },
  {
   "cell_type": "code",
   "execution_count": null,
   "id": "e9488607",
   "metadata": {},
   "outputs": [],
   "source": [
    "#check for duplicate countries\n",
    "happiness_df['Country'].value_counts()"
   ]
  },
  {
   "cell_type": "code",
   "execution_count": null,
   "id": "50be9965",
   "metadata": {},
   "outputs": [],
   "source": [
    "#there are not any NAN\n",
    "happiness_df = happiness_df.dropna()\n",
    "happiness_df"
   ]
  },
  {
   "cell_type": "code",
   "execution_count": null,
   "id": "dd3c0efe",
   "metadata": {},
   "outputs": [],
   "source": [
    "#renaming columns\n",
    "happiness_df = happiness_df.rename(columns = {'Explained by: GDP per capita': 'GDP per capita',\n",
    "                                             'Explained by: Social support': 'social support',\n",
    "                                             'Explained by: Healthy life expectancy': 'healthy life expectancy',\n",
    "                                             'Explained by: Freedom to make life choices': 'freedom to make life choices',\n",
    "                                             'Explained by: Generosity': 'generosity',\n",
    "                                             'Explained by: Perceptions of corruption': 'perceptions of corruption'})\n",
    "happiness_df"
   ]
  },
  {
   "cell_type": "code",
   "execution_count": null,
   "id": "88a06351",
   "metadata": {},
   "outputs": [],
   "source": [
    "#corr table for reference\n",
    "corr = happiness_df.corr()\n",
    "corr = corr.style.background_gradient(cmap='coolwarm')\n",
    "corr\n"
   ]
  },
  {
   "cell_type": "code",
   "execution_count": null,
   "id": "f228e1f5",
   "metadata": {},
   "outputs": [],
   "source": [
    "#export to csv\n",
    "happiness_df.to_csv('cleaned_data.csv')"
   ]
  }
 ],
 "metadata": {
  "kernelspec": {
   "display_name": "Python 3 (ipykernel)",
   "language": "python",
   "name": "python3"
  },
  "language_info": {
   "codemirror_mode": {
    "name": "ipython",
    "version": 3
   },
   "file_extension": ".py",
   "mimetype": "text/x-python",
   "name": "python",
   "nbconvert_exporter": "python",
   "pygments_lexer": "ipython3",
   "version": "3.8.13"
  }
 },
 "nbformat": 4,
 "nbformat_minor": 5
}
