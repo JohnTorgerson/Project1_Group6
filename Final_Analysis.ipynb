{
 "cells": [
  {
   "cell_type": "code",
   "execution_count": null,
   "id": "311dc5dc",
   "metadata": {},
   "outputs": [],
   "source": [
    "import pandas as pd\n",
    "import numpy as np\n",
    "import matplotlib.pyplot as plt\n",
    "import scipy.stats as st\n",
    "import gmaps\n",
    "import requests\n",
    "import json\n",
    "from config import gkey"
   ]
  },
  {
   "cell_type": "code",
   "execution_count": null,
   "id": "3af9f70d",
   "metadata": {},
   "outputs": [],
   "source": [
    "happiness_2021 = pd.read_csv('cleaned_happiness_2021.csv')"
   ]
  },
  {
   "cell_type": "markdown",
   "id": "488c2176",
   "metadata": {},
   "source": [
    "# Data Overview\n",
    "\n",
    "## World Happiness Report\n",
    "\n",
    "The World Happiness Report is put together annually by the Sustainable Development Solutions Network, a non-profit created by the United Nations. It consists of a survey in which particpants are asked to rank themselves on the Cantril Ladder Scale as well as on other variables about their lives. This gives a glimpse into the satisfaction different nations have with their well being and quality of life as well as factors that likely affect that.\n",
    "\n",
    "### The Cantril Ladder Scale\n",
    "\n",
    "Developed by pioneering social researcher Dr. Hadley Cantril, consists of the following:\n",
    "\n",
    ">Please imagine a ladder with steps numbered from zero at the bottom to 10 at the top.  \n",
    "The top of the ladder represents the best possible life for you and the bottom of the ladder represents the worst possible life for you.  \n",
    "On which step of the ladder would you say you personally feel you stand at this time?\n",
    "\n",
    "from: [gallup.com](https://news.gallup.com/poll/122453/understanding-gallup-uses-cantril-scale.aspx)"
   ]
  },
  {
   "cell_type": "markdown",
   "id": "2ec558cd",
   "metadata": {},
   "source": [
    "### Global view of happiness scores"
   ]
  },
  {
   "cell_type": "code",
   "execution_count": null,
   "id": "e77ffb57",
   "metadata": {},
   "outputs": [],
   "source": [
    "gmaps.configure(api_key = gkey)\n",
    "fig = gmaps.figure()\n",
    "\n",
    "all_locations = happiness_2021[[\"Latitude\",\"Longitude\"]]\n",
    "all_happiness = happiness_2021['Happiness score']\n",
    "                                        \n",
    "fig = gmaps.figure()\n",
    "\n",
    "heat_layer = gmaps.heatmap_layer(all_locations, weights=all_happiness, \n",
    "                                 dissipating=False, max_intensity=10,\n",
    "                                 point_radius = 3,gradient=['rgba(0,0,0,0)','rgb(2, 199, 22)','yellow','red'])\n",
    "\n",
    "fig.add_layer(heat_layer)\n",
    "\n",
    "fig\n"
   ]
  },
  {
   "cell_type": "markdown",
   "id": "eb943c17",
   "metadata": {},
   "source": [
    "## Hypothesis\n",
    "\n",
    "We are looking to answer whether or not Gross Domestic Product (GDP) per capita, social support, healthy life expectancy, or freedom to make life choices affects happiness scores. "
   ]
  },
  {
   "cell_type": "markdown",
   "id": "b8966090",
   "metadata": {},
   "source": [
    "## Summary of Analysis\n",
    "\n",
    "We found that all four variables inspected have statistically significant affects on happiness score, all in a positive direction. "
   ]
  },
  {
   "cell_type": "code",
   "execution_count": null,
   "id": "b663dcf9",
   "metadata": {},
   "outputs": [],
   "source": [
    "corr = happiness_2021[[\"Happiness score\",\"GDP per capita\",\"Social support\",'Healthy life expectancy',\"Freedom to make life choices\"]].corr()\n",
    "corr = corr.style.background_gradient(cmap='PRGn')\n",
    "corr"
   ]
  },
  {
   "cell_type": "markdown",
   "id": "fb3c93eb",
   "metadata": {},
   "source": [
    "## Freedom"
   ]
  },
  {
   "cell_type": "markdown",
   "id": "b807099f",
   "metadata": {},
   "source": [
    "Per the World Happiness Report: \n",
    ">Freedom to make life choices is the national average of a binary response (0=no, 1=yes) to the question \"Are you satisfied or dissatisfied with your freedom to choice what to do with your life?"
   ]
  },
  {
   "cell_type": "markdown",
   "id": "fd686a67",
   "metadata": {},
   "source": [
    "### Freedom to Make Life Choices Survey Results Distribution"
   ]
  },
  {
   "cell_type": "code",
   "execution_count": null,
   "id": "b952e9b3",
   "metadata": {},
   "outputs": [],
   "source": [
    "happiness_2021['Freedom to make life choices']. hist(bins=25)\n",
    "\n",
    "plt.xlabel('Freedom to Make Life Choices')\n",
    "plt.ylabel('Count')\n",
    "plt.title('Histogram of Freedom to Make Life Choices Results')\n",
    "plt.show()\n",
    "print(happiness_2021['Freedom to make life choices'].describe())"
   ]
  },
  {
   "cell_type": "markdown",
   "id": "83f1393a",
   "metadata": {},
   "source": [
    "### Regression"
   ]
  },
  {
   "cell_type": "code",
   "execution_count": null,
   "id": "7bf5dbde",
   "metadata": {},
   "outputs": [],
   "source": [
    "x_axis = happiness_2021['Freedom to make life choices']\n",
    "y_axis = happiness_2021['Happiness score']\n",
    "\n",
    "(slope, intercept, rvalue, pvalue, stderr) = st.linregress(x_axis, y_axis)\n",
    "regress_values = x_axis * slope + intercept\n",
    "line_eq = f'y = {round(slope, 2)}x + {round(intercept, 2)}'\n",
    "\n",
    "pearson_r = st.pearsonr(x_axis, y_axis)\n",
    "\n",
    "pr = f'r = {round(pearson_r[0],2)}'\n",
    "\n",
    "plt.plot(x_axis, regress_values, color='red')\n",
    "plt.annotate(line_eq, (0.45,7.5), fontsize=15, color='red')\n",
    "plt.annotate(pr, (0.45,6.8), fontsize=15, color='red')\n",
    "\n",
    "plt.title('Freedom to Make Life Choices vs Happiness')\n",
    "plt.ylabel('Happiness')\n",
    "plt.xlabel('Freedom to Make Life Choices')\n",
    "\n",
    "plt.scatter(x_axis, y_axis)\n",
    "plt.show()"
   ]
  },
  {
   "cell_type": "markdown",
   "id": "ee209092",
   "metadata": {},
   "source": [
    "### Hypothesis Testing\n"
   ]
  },
  {
   "cell_type": "code",
   "execution_count": null,
   "id": "ac7900f9",
   "metadata": {},
   "outputs": [],
   "source": [
    "#sorting by freedom scores and creating three groups\n",
    "freedom_sort = happiness_2021[['Freedom to make life choices', 'Happiness score']].copy()\n",
    "freedom_sort = freedom_sort.sort_values(by=['Freedom to make life choices'], ascending=True)\n",
    "#freedom_sort = freedom_sort.reset_index\n",
    "freedom_low = freedom_sort.iloc[0:36]\n",
    "freedom_mid = freedom_sort.iloc[36:73]\n",
    "freedom_high = freedom_sort.iloc[73:110]\n",
    "\n",
    "bins = [0, 0.7573, 0.83811, 1]\n",
    "group_names = ['Low', \"Mid\", \"High\"]\n",
    "\n",
    "freedom_sort[\"Freedom Level\"] = pd.cut(freedom_sort[\"Freedom to make life choices\"], bins, labels=group_names, include_lowest=True)\n",
    "freedom_sort\n",
    "\n",
    "freedom_sort.boxplot('Happiness score', by='Freedom Level', figsize=(20,10))\n",
    "plt.show()\n",
    "\n",
    "hypothesis_test = st.f_oneway(freedom_low['Happiness score'], freedom_mid['Happiness score'], freedom_high['Happiness score'])"
   ]
  },
  {
   "cell_type": "markdown",
   "id": "3896cd9c",
   "metadata": {},
   "source": [
    "#### Hypothesis Test Results\n",
    "Alternative Hypothesis: There is a difference between happiness score between the low, medium, and high freedom groups.\n",
    "\n",
    "Null Hypothesis: These is no difference between happiness score between the low, medium, and high freedom groups.\n",
    "\n",
    "p-value: 0.00000008"
   ]
  },
  {
   "cell_type": "markdown",
   "id": "ea447c73",
   "metadata": {},
   "source": [
    "## GDP"
   ]
  },
  {
   "cell_type": "markdown",
   "id": "39bc1935",
   "metadata": {},
   "source": [
    "To start off, let's look at where our GDP per capita is clustered."
   ]
  },
  {
   "cell_type": "code",
   "execution_count": null,
   "id": "a9d192df",
   "metadata": {},
   "outputs": [],
   "source": [
    "# Let's see where the data is at\n",
    "happiness_2021[\"GDP per capita\"].hist(bins=25)\n",
    "\n",
    "plt.xlabel(\"GDP Per Capita\")\n",
    "plt.ylabel(\"Counts\")\n",
    "plt.title(\"Distribution of GDP Per Capita data\")\n",
    "\n",
    "plt.show()"
   ]
  },
  {
   "cell_type": "markdown",
   "id": "70019e3f",
   "metadata": {},
   "source": [
    "In the cleanup phase, we removed countries that had \"NA\" for any of our four major categories. If a country had NA, the surveyors didn't feel as if they could come up with an accurate measure, so all of our GDP per capita data is accurate. Additionally, now that we can see where the data is clustered, no one country has an incredibly high or low value. In conclusion, we can safely assume ***there are no outliers.***"
   ]
  },
  {
   "cell_type": "code",
   "execution_count": null,
   "id": "cf1554c3",
   "metadata": {},
   "outputs": [],
   "source": [
    "# Let's graph this compared to Happiness Score\n",
    "x_axis = happiness_2021[\"GDP per capita\"]\n",
    "y_axis = happiness_2021[\"Happiness score\"]\n",
    "\n",
    "\n",
    "(slope, intercept, rvalue, pvalue, stderr) = st.linregress(x_axis, y_axis)\n",
    "regress_values = x_axis * slope + intercept\n",
    "line_eq = f\"y = {round(slope, 2)}x + {round(intercept, 2)}\"\n",
    "rsquared = f\"r squared = {round(rvalue * rvalue, 2)}\"\n",
    "\n",
    "plt.plot(x_axis, regress_values, color='red')\n",
    "plt.annotate(line_eq, (7,7.1), fontsize=15, color=\"red\")\n",
    "plt.annotate(rsquared, (7,6.6), fontsize=15, color=\"red\")\n",
    "\n",
    "plt.title(\"GDP Per Capita vs Happiness\")\n",
    "plt.ylabel(\"Happiness\")\n",
    "plt.xlabel(\"GDP Per Capita\")\n",
    "\n",
    "plt.scatter(x_axis, y_axis)\n",
    "plt.show()"
   ]
  },
  {
   "cell_type": "markdown",
   "id": "335e528e",
   "metadata": {},
   "source": [
    "One can certainly see a general trend with happiness increasing as GDP per capita increases. However, it is still necessary to perform a test. For this data, we'll use an ANOVA test, grouping the data into rough thirds by GDP per capita and comparing the populations."
   ]
  },
  {
   "cell_type": "code",
   "execution_count": null,
   "id": "d2adf640",
   "metadata": {},
   "outputs": [],
   "source": [
    "# Extract individual groups\n",
    "group0 = happiness_2021[happiness_2021[\"GDP per capita\"] < 8.75][\"Happiness score\"]\n",
    "group1 = happiness_2021[happiness_2021[\"GDP per capita\"].between(8.75, 10.25, inclusive='both')][\"Happiness score\"]\n",
    "group2 = happiness_2021[happiness_2021[\"GDP per capita\"] > 10.25][\"Happiness score\"]\n",
    "\n",
    "# Perform the ANOVA\n",
    "st.f_oneway(group0, group1, group2)"
   ]
  },
  {
   "cell_type": "markdown",
   "id": "d2aba4ae",
   "metadata": {},
   "source": [
    "With a P value much lower than .05, we can comfortably reject the null hypothesis that GDP per capita has no effect on happiness score."
   ]
  },
  {
   "cell_type": "markdown",
   "id": "8775023f",
   "metadata": {},
   "source": [
    "## Life Expectancy"
   ]
  },
  {
   "cell_type": "markdown",
   "id": "43bab619",
   "metadata": {},
   "source": [
    "# Hypothesis:\n",
    "\n",
    ">When healthy life expectancy is high, there is a measurable increase in the Cantrill happiness score. <br>Null Hypothesis (H<sub>0</sub>):  When healthy life expectancy is high, there is no measurable impact in the Cantrill happiness score whatsoever.<br>If p-value is < 0.05 then we reject the null hypothesis. "
   ]
  },
  {
   "cell_type": "code",
   "execution_count": null,
   "id": "7e971d8d",
   "metadata": {},
   "outputs": [],
   "source": [
    "grF = happiness_2021[happiness_2021['Healthy life expectancy'] < 60][\"Happiness score\"]\n",
    "grD = happiness_2021[happiness_2021['Healthy life expectancy'].between(59.99, 65.40, inclusive='both')][\"Happiness score\"]\n",
    "grC = happiness_2021[happiness_2021['Healthy life expectancy'].between(65.40, 67.20, inclusive='both')][\"Happiness score\"]\n",
    "grB = happiness_2021[happiness_2021['Healthy life expectancy'].between(67.20, 70.33, inclusive='both')][\"Happiness score\"]\n",
    "grA = happiness_2021[happiness_2021['Healthy life expectancy'] > 70.33][\"Happiness score\"]\n",
    "st.f_oneway(grA, grB, grC, grD, grF)"
   ]
  },
  {
   "cell_type": "markdown",
   "id": "091ae771",
   "metadata": {},
   "source": [
    "### Using the ANOVA test, H<sub>0</sub> is rejected."
   ]
  },
  {
   "cell_type": "code",
   "execution_count": null,
   "id": "d5076d6d",
   "metadata": {},
   "outputs": [],
   "source": [
    "happiness_2021['Healthy life expectancy'].describe()"
   ]
  },
  {
   "cell_type": "markdown",
   "id": "3ac13afc",
   "metadata": {},
   "source": [
    "#### During data cleaning & exploration\n",
    ">in a challenging to read series of box plots, the minimum to maximum life expectancy range became a point of interest.\n",
    "23 years of Life expectancy is the full range of this data ***Or*** Nearly 1/3 less life to be lived."
   ]
  },
  {
   "cell_type": "code",
   "execution_count": null,
   "id": "ae5b192d",
   "metadata": {},
   "outputs": [],
   "source": [
    "x_values = happiness_2021['Healthy life expectancy']\n",
    "y_values = happiness_2021['Happiness score']\n",
    "\n",
    "(slope, intercept, rvalue, pvalue, stderr) = st.linregress(x_values, y_values)\n",
    "regress_values = x_values * slope + intercept\n",
    "line_eq = \"y = \" + str(round(slope,2)) + \"x + \" + str(round(intercept,2))\n",
    "\n",
    "plt.scatter(x_values,y_values)\n",
    "plt.plot(x_values,regress_values,\"r-\")\n",
    "plt.annotate(line_eq,(52,7),fontsize=15,color=\"indigo\")\n",
    "plt.xlabel(\"Healthy Life Expectancy\")\n",
    "plt.ylabel(\"Happiness Score\")\n",
    "plt.title(\"Life Expectancy & Happiness\")\n",
    "plt.show()"
   ]
  },
  {
   "cell_type": "markdown",
   "id": "58000209",
   "metadata": {},
   "source": [
    "## Social Support"
   ]
  },
  {
   "cell_type": "markdown",
   "id": "b255ec47",
   "metadata": {},
   "source": [
    "Per the World Happiness Report: \n",
    ">Social support (or having someone to count on in times of trouble) is the national average of the binary responses (either 0 or 1) to the GWP question “If you were in trouble, do you have relatives or friends you can count on to help you whenever you need them, or not?”"
   ]
  },
  {
   "cell_type": "markdown",
   "id": "74f03150",
   "metadata": {},
   "source": [
    "### Data Range\n",
    "The lowest social support value is 0.44 (Benin), meaning 44% of respondents answered yes to the above question. The next lowest value is 0.50 (Morocco), meaning in all but one of the study countries, at least 50% of respondents felt like they had someone to count on in times of trouble. The mean is 0.81 and the highest is 0.98 (Iceland). "
   ]
  },
  {
   "cell_type": "code",
   "execution_count": null,
   "id": "0a062840",
   "metadata": {},
   "outputs": [],
   "source": [
    "happiness_2021['Social support'].describe()"
   ]
  },
  {
   "cell_type": "code",
   "execution_count": null,
   "id": "ea2d6c5b",
   "metadata": {},
   "outputs": [],
   "source": [
    "plt.hist(happiness_2021['Social support'])\n",
    "plt.xlabel(\"Social Support\")\n",
    "plt.title(\"Distribution of social support scores\")\n",
    "plt.show()"
   ]
  },
  {
   "cell_type": "markdown",
   "id": "3050c8a6",
   "metadata": {},
   "source": [
    "### Hypothesis Testing and Regression\n",
    "Regression analysis shows a high correlation between social support and happiness (Pearson's r value of 0.81). This correlation is statistically significant, given the p-value calculated in the null hypothesis test is well below 0.05."
   ]
  },
  {
   "cell_type": "code",
   "execution_count": null,
   "id": "7782527d",
   "metadata": {},
   "outputs": [],
   "source": [
    "x_values = happiness_2021['Social support']\n",
    "y_values = happiness_2021['Happiness score']\n",
    "(slope, intercept, rvalue, pvalue, stderr) = st.linregress(x_values, y_values)\n",
    "regress_values = x_values * slope + intercept\n",
    "line_eq = \"y = \" + str(round(slope,2)) + \"x + \" + str(round(intercept,2))\n",
    "plt.scatter(x_values,y_values)\n",
    "plt.plot(x_values,regress_values,\"r-\")\n",
    "plt.annotate(line_eq,(0.7,2.4),fontsize=15,color=\"red\")\n",
    "plt.xlabel(\"Social Support\")\n",
    "plt.ylabel(\"Happiness Score\")\n",
    "plt.title(\"Social Support\\nvs\\nTotal Happiness Score\")\n",
    "plt.show()\n",
    "pr = round(st.pearsonr(x_values,y_values)[0],2)\n",
    "print(f'The correlation between social support and happiness is {pr}, suggesting a strong link between the two factors.')"
   ]
  },
  {
   "cell_type": "code",
   "execution_count": null,
   "id": "86288e56",
   "metadata": {},
   "outputs": [],
   "source": [
    "# sort dataset and see how many values need to be in each group\n",
    "h0_test = happiness_2021[[\"Country\",\"Happiness score\",\"Social support\"]]\n",
    "h0_test = h0_test.sort_values(\"Social support\")\n",
    "\n",
    "bottom_third = h0_test.iloc[0:37,1]\n",
    "middle_third = h0_test.iloc[37:74,1]\n",
    "top_third = h0_test.iloc[74:110,1]\n",
    "\n",
    "stat,p = st.kruskal(top_third,middle_third,bottom_third)\n",
    "print(f'The p-value is {p}, which rejects the null hypothesis.')"
   ]
  },
  {
   "cell_type": "markdown",
   "id": "905611cc",
   "metadata": {},
   "source": [
    "### Geographic Distribution of Social Support\n",
    "Countries with the highest social support values are concentrated in Europe (particularly Scandanavia and Eastern Europe) as well as Central Asia. The countries with the lowest social support values are concentrated in Northern and Sub-Saharan Africa, the Middle East, South and South-East Asia. In the Americas, most countries fall into the middle tier of social support, with 6 landing in the top third. Mexico is the notable exception as the one country in the bottom third of nations. "
   ]
  },
  {
   "cell_type": "code",
   "execution_count": null,
   "id": "9159e7a6",
   "metadata": {},
   "outputs": [],
   "source": [
    "gmaps.configure(api_key = gkey)\n",
    "fig = gmaps.figure()\n",
    "\n",
    "social_sorted = happiness_2021.sort_values('Social support')\n",
    "top_locations = social_sorted.iloc[74:110,[6,7]]\n",
    "top_social = social_sorted.iloc[74:110,3]\n",
    "middle_locations = social_sorted.iloc[37:74,[6,7]]\n",
    "middle_social = social_sorted.iloc[37:74,3]\n",
    "bottom_locations = social_sorted.iloc[0:37,[6,7]]\n",
    "bottom_social = social_sorted.iloc[0:37,3]\n",
    "                             \n",
    "fig = gmaps.figure()\n",
    "\n",
    "symbols_top = gmaps.symbol_layer(top_locations, fill_color='#028833', stroke_color='#028833')\n",
    "fig.add_layer(symbols_top)\n",
    "\n",
    "symbols_middle = gmaps.symbol_layer(middle_locations, fill_color='blue', stroke_color='blue')\n",
    "fig.add_layer(symbols_middle)\n",
    "\n",
    "symbols_bottom = gmaps.symbol_layer(bottom_locations, fill_color='#E65300', stroke_color='#E65300')\n",
    "fig.add_layer(symbols_bottom)\n",
    "\n",
    "fig"
   ]
  },
  {
   "cell_type": "markdown",
   "id": "868d5c5b",
   "metadata": {},
   "source": [
    "In the above map, green dots represent the countries in the top third of social support values. Blue represents the middle third and orange represents the bottom third."
   ]
  },
  {
   "cell_type": "markdown",
   "id": "f0c72a3e",
   "metadata": {},
   "source": [
    "### We all need somebody to lean on\n",
    "The results of comparing amount of social support to happiness in the study countries strongly suggests that social support positively influences happiness. Humans are social creatures, so it makes sense that having connections to others would increase happiness. "
   ]
  },
  {
   "cell_type": "markdown",
   "id": "1b313dee",
   "metadata": {},
   "source": [
    "# Conclusion\n",
    "include what we might do differently next time"
   ]
  },
  {
   "cell_type": "code",
   "execution_count": null,
   "id": "9fad3b31",
   "metadata": {},
   "outputs": [],
   "source": []
  }
 ],
 "metadata": {
  "kernelspec": {
   "display_name": "Python 3 (ipykernel)",
   "language": "python",
   "name": "python3"
  },
  "language_info": {
   "codemirror_mode": {
    "name": "ipython",
    "version": 3
   },
   "file_extension": ".py",
   "mimetype": "text/x-python",
   "name": "python",
   "nbconvert_exporter": "python",
   "pygments_lexer": "ipython3",
   "version": "3.8.13"
  }
 },
 "nbformat": 4,
 "nbformat_minor": 5
}
