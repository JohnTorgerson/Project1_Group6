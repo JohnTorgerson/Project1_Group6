{
 "cells": [
  {
   "cell_type": "code",
   "execution_count": 1,
   "id": "311dc5dc",
   "metadata": {},
   "outputs": [],
   "source": [
    "import pandas as pd\n",
    "import numpy as np\n",
    "import matplotlib.pyplot as plt\n",
    "import scipy.stats as st\n",
    "import gmaps\n",
    "import requests\n",
    "import json\n",
    "from config import gkey"
   ]
  },
  {
   "cell_type": "code",
   "execution_count": 2,
   "id": "3af9f70d",
   "metadata": {},
   "outputs": [],
   "source": [
    "happiness_2021 = pd.read_csv('cleaned_happiness_2021.csv')"
   ]
  },
  {
   "cell_type": "markdown",
   "id": "488c2176",
   "metadata": {},
   "source": [
    "# Data Overview\n",
    "\n",
    "Explain our data set, research questions/hypothesis"
   ]
  },
  {
   "cell_type": "markdown",
   "id": "eb943c17",
   "metadata": {},
   "source": [
    "# Analysis\n",
    "brief summary of overall results"
   ]
  },
  {
   "cell_type": "code",
   "execution_count": 4,
   "id": "b663dcf9",
   "metadata": {},
   "outputs": [
    {
     "data": {
      "text/html": [
       "<style type=\"text/css\">\n",
       "#T_9af0f_row0_col0, #T_9af0f_row1_col1, #T_9af0f_row2_col2, #T_9af0f_row3_col3, #T_9af0f_row4_col4 {\n",
       "  background-color: #00441b;\n",
       "  color: #f1f1f1;\n",
       "}\n",
       "#T_9af0f_row0_col1 {\n",
       "  background-color: #a9dca3;\n",
       "  color: #000000;\n",
       "}\n",
       "#T_9af0f_row0_col2 {\n",
       "  background-color: #b7e2b1;\n",
       "  color: #000000;\n",
       "}\n",
       "#T_9af0f_row0_col3 {\n",
       "  background-color: #e5f3e1;\n",
       "  color: #000000;\n",
       "}\n",
       "#T_9af0f_row0_col4 {\n",
       "  background-color: #ddc7e1;\n",
       "  color: #000000;\n",
       "}\n",
       "#T_9af0f_row1_col0 {\n",
       "  background-color: #f3f6f2;\n",
       "  color: #000000;\n",
       "}\n",
       "#T_9af0f_row1_col2 {\n",
       "  background-color: #dbf1d6;\n",
       "  color: #000000;\n",
       "}\n",
       "#T_9af0f_row1_col3 {\n",
       "  background-color: #66b56b;\n",
       "  color: #f1f1f1;\n",
       "}\n",
       "#T_9af0f_row1_col4, #T_9af0f_row4_col0, #T_9af0f_row4_col1, #T_9af0f_row4_col2, #T_9af0f_row4_col3 {\n",
       "  background-color: #40004b;\n",
       "  color: #f1f1f1;\n",
       "}\n",
       "#T_9af0f_row2_col0 {\n",
       "  background-color: #e9f4e7;\n",
       "  color: #000000;\n",
       "}\n",
       "#T_9af0f_row2_col1 {\n",
       "  background-color: #bde4b7;\n",
       "  color: #000000;\n",
       "}\n",
       "#T_9af0f_row2_col3 {\n",
       "  background-color: #e4f2e0;\n",
       "  color: #000000;\n",
       "}\n",
       "#T_9af0f_row2_col4 {\n",
       "  background-color: #874c97;\n",
       "  color: #f1f1f1;\n",
       "}\n",
       "#T_9af0f_row3_col0 {\n",
       "  background-color: #c7abd2;\n",
       "  color: #000000;\n",
       "}\n",
       "#T_9af0f_row3_col1 {\n",
       "  background-color: #63b368;\n",
       "  color: #f1f1f1;\n",
       "}\n",
       "#T_9af0f_row3_col2 {\n",
       "  background-color: #f7f6f7;\n",
       "  color: #000000;\n",
       "}\n",
       "#T_9af0f_row3_col4 {\n",
       "  background-color: #480754;\n",
       "  color: #f1f1f1;\n",
       "}\n",
       "</style>\n",
       "<table id=\"T_9af0f\">\n",
       "  <thead>\n",
       "    <tr>\n",
       "      <th class=\"blank level0\" >&nbsp;</th>\n",
       "      <th id=\"T_9af0f_level0_col0\" class=\"col_heading level0 col0\" >Happiness score</th>\n",
       "      <th id=\"T_9af0f_level0_col1\" class=\"col_heading level0 col1\" >GDP per capita</th>\n",
       "      <th id=\"T_9af0f_level0_col2\" class=\"col_heading level0 col2\" >Social support</th>\n",
       "      <th id=\"T_9af0f_level0_col3\" class=\"col_heading level0 col3\" >Healthy life expectancy</th>\n",
       "      <th id=\"T_9af0f_level0_col4\" class=\"col_heading level0 col4\" >Freedom to make life choices</th>\n",
       "    </tr>\n",
       "  </thead>\n",
       "  <tbody>\n",
       "    <tr>\n",
       "      <th id=\"T_9af0f_level0_row0\" class=\"row_heading level0 row0\" >Happiness score</th>\n",
       "      <td id=\"T_9af0f_row0_col0\" class=\"data row0 col0\" >1.000000</td>\n",
       "      <td id=\"T_9af0f_row0_col1\" class=\"data row0 col1\" >0.795247</td>\n",
       "      <td id=\"T_9af0f_row0_col2\" class=\"data row0 col2\" >0.808799</td>\n",
       "      <td id=\"T_9af0f_row0_col3\" class=\"data row0 col3\" >0.711411</td>\n",
       "      <td id=\"T_9af0f_row0_col4\" class=\"data row0 col4\" >0.579028</td>\n",
       "    </tr>\n",
       "    <tr>\n",
       "      <th id=\"T_9af0f_level0_row1\" class=\"row_heading level0 row1\" >GDP per capita</th>\n",
       "      <td id=\"T_9af0f_row1_col0\" class=\"data row1 col0\" >0.795247</td>\n",
       "      <td id=\"T_9af0f_row1_col1\" class=\"data row1 col1\" >1.000000</td>\n",
       "      <td id=\"T_9af0f_row1_col2\" class=\"data row1 col2\" >0.767490</td>\n",
       "      <td id=\"T_9af0f_row1_col3\" class=\"data row1 col3\" >0.856166</td>\n",
       "      <td id=\"T_9af0f_row1_col4\" class=\"data row1 col4\" >0.329454</td>\n",
       "    </tr>\n",
       "    <tr>\n",
       "      <th id=\"T_9af0f_level0_row2\" class=\"row_heading level0 row2\" >Social support</th>\n",
       "      <td id=\"T_9af0f_row2_col0\" class=\"data row2 col0\" >0.808799</td>\n",
       "      <td id=\"T_9af0f_row2_col1\" class=\"data row2 col1\" >0.767490</td>\n",
       "      <td id=\"T_9af0f_row2_col2\" class=\"data row2 col2\" >1.000000</td>\n",
       "      <td id=\"T_9af0f_row2_col3\" class=\"data row2 col3\" >0.713057</td>\n",
       "      <td id=\"T_9af0f_row2_col4\" class=\"data row2 col4\" >0.429402</td>\n",
       "    </tr>\n",
       "    <tr>\n",
       "      <th id=\"T_9af0f_level0_row3\" class=\"row_heading level0 row3\" >Healthy life expectancy</th>\n",
       "      <td id=\"T_9af0f_row3_col0\" class=\"data row3 col0\" >0.711411</td>\n",
       "      <td id=\"T_9af0f_row3_col1\" class=\"data row3 col1\" >0.856166</td>\n",
       "      <td id=\"T_9af0f_row3_col2\" class=\"data row3 col2\" >0.713057</td>\n",
       "      <td id=\"T_9af0f_row3_col3\" class=\"data row3 col3\" >1.000000</td>\n",
       "      <td id=\"T_9af0f_row3_col4\" class=\"data row3 col4\" >0.340498</td>\n",
       "    </tr>\n",
       "    <tr>\n",
       "      <th id=\"T_9af0f_level0_row4\" class=\"row_heading level0 row4\" >Freedom to make life choices</th>\n",
       "      <td id=\"T_9af0f_row4_col0\" class=\"data row4 col0\" >0.579028</td>\n",
       "      <td id=\"T_9af0f_row4_col1\" class=\"data row4 col1\" >0.329454</td>\n",
       "      <td id=\"T_9af0f_row4_col2\" class=\"data row4 col2\" >0.429402</td>\n",
       "      <td id=\"T_9af0f_row4_col3\" class=\"data row4 col3\" >0.340498</td>\n",
       "      <td id=\"T_9af0f_row4_col4\" class=\"data row4 col4\" >1.000000</td>\n",
       "    </tr>\n",
       "  </tbody>\n",
       "</table>\n"
      ],
      "text/plain": [
       "<pandas.io.formats.style.Styler at 0x16cc9b3ceb0>"
      ]
     },
     "execution_count": 4,
     "metadata": {},
     "output_type": "execute_result"
    }
   ],
   "source": [
    "corr = happiness_2021[[\"Happiness score\",\"GDP per capita\",\"Social support\",'Healthy life expectancy',\"Freedom to make life choices\"]].corr()\n",
    "corr = corr.style.background_gradient(cmap='PRGn')\n",
    "corr"
   ]
  },
  {
   "cell_type": "markdown",
   "id": "fb3c93eb",
   "metadata": {},
   "source": [
    "## Freedom"
   ]
  },
  {
   "cell_type": "code",
   "execution_count": null,
   "id": "7bf5dbde",
   "metadata": {},
   "outputs": [],
   "source": []
  },
  {
   "cell_type": "markdown",
   "id": "ea447c73",
   "metadata": {},
   "source": [
    "## GDP"
   ]
  },
  {
   "cell_type": "code",
   "execution_count": null,
   "id": "97b463a6",
   "metadata": {},
   "outputs": [],
   "source": []
  },
  {
   "cell_type": "markdown",
   "id": "8775023f",
   "metadata": {},
   "source": [
    "## Life Expectancy"
   ]
  },
  {
   "cell_type": "markdown",
   "id": "43bab619",
   "metadata": {},
   "source": [
    "# Hypothesis:\n",
    "\n",
    ">When healthy life expectancy is high, there is a measurable increase in the Cantrill happiness score. <br>Null Hypothesis (H<sub>0</sub>):  When healthy life expectancy is high, there is no measurable impact in the Cantrill happiness score whatsoever.<br>If p-value is < 0.05 then we reject the null hypothesis. "
   ]
  },
  {
   "cell_type": "code",
   "execution_count": 14,
   "id": "7e971d8d",
   "metadata": {},
   "outputs": [
    {
     "data": {
      "text/plain": [
       "F_onewayResult(statistic=31.559923638910274, pvalue=2.9603982004555786e-17)"
      ]
     },
     "execution_count": 14,
     "metadata": {},
     "output_type": "execute_result"
    }
   ],
   "source": [
    "grF = happiness_2021[happiness_2021['Healthy life expectancy'] < 60][\"Happiness score\"]\n",
    "grD = happiness_2021[happiness_2021['Healthy life expectancy'].between(59.99, 65.40, inclusive='both')][\"Happiness score\"]\n",
    "grC = happiness_2021[happiness_2021['Healthy life expectancy'].between(65.40, 67.20, inclusive='both')][\"Happiness score\"]\n",
    "grB = happiness_2021[happiness_2021['Healthy life expectancy'].between(67.20, 70.33, inclusive='both')][\"Happiness score\"]\n",
    "grA = happiness_2021[happiness_2021['Healthy life expectancy'] > 70.33][\"Happiness score\"]\n",
    "st.f_oneway(grA, grB, grC, grD, grF)"
   ]
  },
  {
   "cell_type": "markdown",
   "id": "091ae771",
   "metadata": {},
   "source": [
    "### Using the ANOVA test, H<sub>0</sub> is rejected."
   ]
  },
  {
   "cell_type": "code",
   "execution_count": 9,
   "id": "ae5b192d",
   "metadata": {},
   "outputs": [
    {
     "data": {
      "image/png": "[encoded data removed]",
      "text/plain": [
       "<Figure size 432x288 with 1 Axes>"
      ]
     },
     "metadata": {
      "needs_background": "light"
     },
     "output_type": "display_data"
    }
   ],
   "source": [
    "plt.scatter(x_values,y_values)\n",
    "plt.plot(x_values,regress_values,\"r-\")\n",
    "plt.annotate(line_eq,(52,7),fontsize=15,color=\"indigo\")\n",
    "plt.xlabel(\"Healthy Life Expectancy\")\n",
    "plt.ylabel(\"Happiness Score\")\n",
    "plt.title(\"Life Expectancy & Happiness\")\n",
    "plt.show()"
   ]
  },
  {
   "cell_type": "code",
   "execution_count": null,
   "id": "f4fbbf75",
   "metadata": {},
   "outputs": [],
   "source": []
  },
  {
   "cell_type": "code",
   "execution_count": null,
   "id": "4111ea35",
   "metadata": {},
   "outputs": [],
   "source": []
  },
  {
   "cell_type": "markdown",
   "id": "58000209",
   "metadata": {},
   "source": [
    "## Social Support"
   ]
  },
  {
   "cell_type": "markdown",
   "id": "b255ec47",
   "metadata": {},
   "source": [
    "Per the World Happiness Report: \n",
    ">Social support (or having someone to count on in times of trouble) is the national average of the binary responses (either 0 or 1) to the GWP question “If you were in trouble, do you have relatives or friends you can count on to help you whenever you need them, or not?”"
   ]
  },
  {
   "cell_type": "markdown",
   "id": "74f03150",
   "metadata": {},
   "source": [
    "### Data Range\n",
    "The lowest social support value is 0.44 (Benin), meaning 44% of respondents answered yes to the above question. The next lowest value is 0.50 (Morocco), meaning in all but one of the study countries, at least 50% of respondents felt like they had someone to count on in times of trouble. The mean is 0.81 and the highest is 0.98 (Iceland). "
   ]
  },
  {
   "cell_type": "code",
   "execution_count": 5,
   "id": "0a062840",
   "metadata": {},
   "outputs": [
    {
     "data": {
      "text/plain": [
       "count    110.000000\n",
       "mean       0.805196\n",
       "std        0.124863\n",
       "min        0.435524\n",
       "25%        0.713824\n",
       "50%        0.844487\n",
       "75%        0.905608\n",
       "max        0.979858\n",
       "Name: Social support, dtype: float64"
      ]
     },
     "execution_count": 5,
     "metadata": {},
     "output_type": "execute_result"
    }
   ],
   "source": [
    "happiness_2021['Social support'].describe()"
   ]
  },
  {
   "cell_type": "markdown",
   "id": "3050c8a6",
   "metadata": {},
   "source": [
    "### Hypothesis Testing and Regression\n",
    "Regression analysis shows a high correlation between social support and happiness (Pearson's r value of 0.81). This correlation is statistically significant, given the p-value calculated in the null hypothesis test is well below 0.05."
   ]
  },
  {
   "cell_type": "code",
   "execution_count": 6,
   "id": "7782527d",
   "metadata": {},
   "outputs": [
    {
     "data": {
      "image/png": "[encoded data removed]",
      "text/plain": [
       "<Figure size 432x288 with 1 Axes>"
      ]
     },
     "metadata": {
      "needs_background": "light"
     },
     "output_type": "display_data"
    },
    {
     "name": "stdout",
     "output_type": "stream",
     "text": [
      "The correlation between social support and happiness is 0.81, suggesting a strong link between the two factors.\n"
     ]
    }
   ],
   "source": [
    "x_values = happiness_2021['Social support']\n",
    "y_values = happiness_2021['Happiness score']\n",
    "(slope, intercept, rvalue, pvalue, stderr) = st.linregress(x_values, y_values)\n",
    "regress_values = x_values * slope + intercept\n",
    "line_eq = \"y = \" + str(round(slope,2)) + \"x + \" + str(round(intercept,2))\n",
    "plt.scatter(x_values,y_values)\n",
    "plt.plot(x_values,regress_values,\"r-\")\n",
    "plt.annotate(line_eq,(0.7,2.4),fontsize=15,color=\"red\")\n",
    "plt.xlabel(\"Social Support\")\n",
    "plt.ylabel(\"Happiness Score\")\n",
    "plt.title(\"Social Support\\nvs\\nTotal Happiness Score\")\n",
    "plt.show()\n",
    "pr = round(st.pearsonr(x_values,y_values)[0],2)\n",
    "print(f'The correlation between social support and happiness is {pr}, suggesting a strong link between the two factors.')"
   ]
  },
  {
   "cell_type": "code",
   "execution_count": 7,
   "id": "86288e56",
   "metadata": {},
   "outputs": [
    {
     "name": "stdout",
     "output_type": "stream",
     "text": [
      "The p-value is 8.261872947301994e-16, which rejects the null hypothesis.\n"
     ]
    }
   ],
   "source": [
    "# sort dataset and see how many values need to be in each group\n",
    "h0_test = happiness_2021[[\"Country\",\"Happiness score\",\"Social support\"]]\n",
    "h0_test = h0_test.sort_values(\"Social support\")\n",
    "\n",
    "bottom_third = h0_test.iloc[0:37,1]\n",
    "middle_third = h0_test.iloc[37:74,1]\n",
    "top_third = h0_test.iloc[74:110,1]\n",
    "\n",
    "stat,p = st.kruskal(top_third,middle_third,bottom_third)\n",
    "print(f'The p-value is {p}, which rejects the null hypothesis.')"
   ]
  },
  {
   "cell_type": "markdown",
   "id": "905611cc",
   "metadata": {},
   "source": [
    "### Geographic Distribution of Social Support\n",
    "Countries with the highest social support values are concentrated in Europe (particularly Scandanavia and Eastern Europe) as well as Central Asia. The countries with the lowest social support values are concentrated in Northern and Sub-Saharan Africa, the Middle East, South and South-East Asia. In the Americas, most countries fall into the middle tier of social support, with 6 landing in the top third. Mexico is the notable exception as the one country in the bottom third of nations. "
   ]
  },
  {
   "cell_type": "code",
   "execution_count": 8,
   "id": "9159e7a6",
   "metadata": {},
   "outputs": [
    {
     "data": {
      "application/vnd.jupyter.widget-view+json": {
       "model_id": "5fb47c9366fd4b07af04010c744f7d7c",
       "version_major": 2,
       "version_minor": 0
      },
      "text/plain": [
       "Figure(layout=FigureLayout(height='420px'))"
      ]
     },
     "metadata": {},
     "output_type": "display_data"
    }
   ],
   "source": [
    "gmaps.configure(api_key = gkey)\n",
    "fig = gmaps.figure()\n",
    "\n",
    "social_sorted = happiness_2021.sort_values('Social support')\n",
    "top_locations = social_sorted.iloc[74:110,[6,7]]\n",
    "top_social = social_sorted.iloc[74:110,3]\n",
    "middle_locations = social_sorted.iloc[37:74,[6,7]]\n",
    "middle_social = social_sorted.iloc[37:74,3]\n",
    "bottom_locations = social_sorted.iloc[0:37,[6,7]]\n",
    "bottom_social = social_sorted.iloc[0:37,3]\n",
    "                             \n",
    "fig = gmaps.figure()\n",
    "\n",
    "symbols_top = gmaps.symbol_layer(top_locations, fill_color='#028833', stroke_color='#028833')\n",
    "fig.add_layer(symbols_top)\n",
    "\n",
    "symbols_middle = gmaps.symbol_layer(middle_locations, fill_color='blue', stroke_color='blue')\n",
    "fig.add_layer(symbols_middle)\n",
    "\n",
    "symbols_bottom = gmaps.symbol_layer(bottom_locations, fill_color='#E65300', stroke_color='#E65300')\n",
    "fig.add_layer(symbols_bottom)\n",
    "\n",
    "fig"
   ]
  },
  {
   "cell_type": "markdown",
   "id": "868d5c5b",
   "metadata": {},
   "source": [
    "In the above map, green dots represent the countries in the top third of social support values. Blue represents the middle third and orange represents the bottom third."
   ]
  },
  {
   "cell_type": "markdown",
   "id": "f0c72a3e",
   "metadata": {},
   "source": [
    "### We all need somebody to lean on\n",
    "The results of comparing amount of social support to happiness in the study countries strongly suggests that social support positively influences happiness. Humans are social creatures, so it makes sense that having connections to others would increase happiness. "
   ]
  },
  {
   "cell_type": "markdown",
   "id": "1b313dee",
   "metadata": {},
   "source": [
    "# Conclusion\n",
    "include what we might do differently next time"
   ]
  },
  {
   "cell_type": "code",
   "execution_count": null,
   "id": "9fad3b31",
   "metadata": {},
   "outputs": [],
   "source": []
  }
 ],
 "metadata": {
  "kernelspec": {
   "display_name": "Python 3 (ipykernel)",
   "language": "python",
   "name": "python3"
  },
  "language_info": {
   "codemirror_mode": {
    "name": "ipython",
    "version": 3
   },
   "file_extension": ".py",
   "mimetype": "text/x-python",
   "name": "python",
   "nbconvert_exporter": "python",
   "pygments_lexer": "ipython3",
   "version": "3.8.13"
  }
 },
 "nbformat": 4,
 "nbformat_minor": 5
}
