{
 "cells": [
  {
   "cell_type": "code",
   "execution_count": 1,
   "id": "311dc5dc",
   "metadata": {},
   "outputs": [],
   "source": [
    "import pandas as pd\n",
    "import numpy as np\n",
    "import matplotlib.pyplot as plt\n",
    "import scipy.stats as st\n",
    "import gmaps\n",
    "import requests\n",
    "import json\n",
    "from config import gkey"
   ]
  },
  {
   "cell_type": "code",
   "execution_count": 2,
   "id": "3af9f70d",
   "metadata": {},
   "outputs": [],
   "source": [
    "happiness_2021 = pd.read_csv('cleaned_happiness_2021.csv')"
   ]
  },
  {
   "cell_type": "markdown",
   "id": "488c2176",
   "metadata": {},
   "source": [
    "# Data Overview\n",
    "\n",
    "## World Happiness Report\n",
    "\n",
    "The World Happiness Report is put together annually by the Sustainable Development Solutions Network, a non-profit created by the United Nations. It consists of a survey in which particpants are asked to rank themselves on the Cantril Ladder Scale as well as on other variables about their lives. This gives a glimpse into the satisfaction different nations have with their well being and quality of life as well as factors that likely affect that.\n",
    "\n",
    "### The Cantril Ladder Scale\n",
    "\n",
    "Developed by pioneering social researcher Dr. Hadley Cantril, consists of the following:\n",
    "\n",
    ">Please imagine a ladder with steps numbered from zero at the bottom to 10 at the top.  \n",
    "The top of the ladder represents the best possible life for you and the bottom of the ladder represents the worst possible life for you.  \n",
    "On which step of the ladder would you say you personally feel you stand at this time?\n",
    "\n",
    "from: [gallup.com](https://news.gallup.com/poll/122453/understanding-gallup-uses-cantril-scale.aspx)"
   ]
  },
  {
   "cell_type": "markdown",
   "id": "2ec558cd",
   "metadata": {},
   "source": [
    "### Global view of happiness scores"
   ]
  },
  {
   "cell_type": "code",
   "execution_count": 3,
   "id": "e77ffb57",
   "metadata": {},
   "outputs": [
    {
     "data": {
      "application/vnd.jupyter.widget-view+json": {
       "model_id": "6f5f97db46dc405e9648b3e37c880604",
       "version_major": 2,
       "version_minor": 0
      },
      "text/plain": [
       "Figure(layout=FigureLayout(border='1px solid black', height='500px', margin='0 auto 0 auto', padding='1px', wi…"
      ]
     },
     "metadata": {},
     "output_type": "display_data"
    }
   ],
   "source": [
    "gmaps.configure(api_key = gkey)\n",
    "fig = gmaps.figure()\n",
    "\n",
    "all_locations = happiness_2021[[\"Latitude\",\"Longitude\"]]\n",
    "all_happiness = happiness_2021['Happiness score']\n",
    "                                        \n",
    "figure_layout = {\n",
    "    'width': '1000px',\n",
    "    'height': '500px',\n",
    "    'border': '1px solid black',\n",
    "    'padding': '1px',\n",
    "    'margin': '0 auto 0 auto',\n",
    "}\n",
    "                             \n",
    "fig = gmaps.figure(layout=figure_layout, center=(26.820553, 30.802498), zoom_level=1.75)\n",
    "\n",
    "heat_layer = gmaps.heatmap_layer(all_locations, weights=all_happiness, \n",
    "                                 dissipating=False, max_intensity=10,\n",
    "                                 point_radius = 3,gradient=['rgba(0,0,0,0)','rgb(2, 199, 22)','yellow','red'])\n",
    "\n",
    "fig.add_layer(heat_layer)\n",
    "\n",
    "fig\n"
   ]
  },
  {
   "cell_type": "markdown",
   "id": "eb943c17",
   "metadata": {},
   "source": [
    "## Hypothesis\n",
    "\n",
    "We are looking to answer whether or not Gross Domestic Product (GDP) per capita, social support, healthy life expectancy, or freedom to make life choices affects happiness scores. "
   ]
  },
  {
   "cell_type": "markdown",
   "id": "b8966090",
   "metadata": {},
   "source": [
    "## Summary of Analysis\n",
    "\n",
    "We found that all four variables inspected have statistically significant affects on happiness score, all in a positive direction. "
   ]
  },
  {
   "cell_type": "code",
   "execution_count": 4,
   "id": "b663dcf9",
   "metadata": {},
   "outputs": [
    {
     "data": {
      "text/html": [
       "<style type=\"text/css\">\n",
       "#T_e6699_row0_col0, #T_e6699_row1_col1, #T_e6699_row2_col2, #T_e6699_row3_col3, #T_e6699_row4_col4 {\n",
       "  background-color: #3f007d;\n",
       "  color: #f1f1f1;\n",
       "}\n",
       "#T_e6699_row0_col1 {\n",
       "  background-color: #7465ad;\n",
       "  color: #f1f1f1;\n",
       "}\n",
       "#T_e6699_row0_col2 {\n",
       "  background-color: #796eb2;\n",
       "  color: #f1f1f1;\n",
       "}\n",
       "#T_e6699_row0_col3 {\n",
       "  background-color: #8f8cc1;\n",
       "  color: #f1f1f1;\n",
       "}\n",
       "#T_e6699_row0_col4 {\n",
       "  background-color: #bdbedc;\n",
       "  color: #000000;\n",
       "}\n",
       "#T_e6699_row1_col0 {\n",
       "  background-color: #9b97c6;\n",
       "  color: #f1f1f1;\n",
       "}\n",
       "#T_e6699_row1_col2 {\n",
       "  background-color: #8885be;\n",
       "  color: #f1f1f1;\n",
       "}\n",
       "#T_e6699_row1_col3 {\n",
       "  background-color: #64459e;\n",
       "  color: #f1f1f1;\n",
       "}\n",
       "#T_e6699_row1_col4, #T_e6699_row4_col0, #T_e6699_row4_col1, #T_e6699_row4_col2, #T_e6699_row4_col3 {\n",
       "  background-color: #fcfbfd;\n",
       "  color: #000000;\n",
       "}\n",
       "#T_e6699_row2_col0 {\n",
       "  background-color: #9390c3;\n",
       "  color: #f1f1f1;\n",
       "}\n",
       "#T_e6699_row2_col1 {\n",
       "  background-color: #7b72b4;\n",
       "  color: #f1f1f1;\n",
       "}\n",
       "#T_e6699_row2_col3 {\n",
       "  background-color: #8e8bc1;\n",
       "  color: #f1f1f1;\n",
       "}\n",
       "#T_e6699_row2_col4 {\n",
       "  background-color: #ebe9f3;\n",
       "  color: #000000;\n",
       "}\n",
       "#T_e6699_row3_col0 {\n",
       "  background-color: #cbcbe3;\n",
       "  color: #000000;\n",
       "}\n",
       "#T_e6699_row3_col1 {\n",
       "  background-color: #63449d;\n",
       "  color: #f1f1f1;\n",
       "}\n",
       "#T_e6699_row3_col2 {\n",
       "  background-color: #9e9bc8;\n",
       "  color: #f1f1f1;\n",
       "}\n",
       "#T_e6699_row3_col4 {\n",
       "  background-color: #faf9fc;\n",
       "  color: #000000;\n",
       "}\n",
       "</style>\n",
       "<table id=\"T_e6699\">\n",
       "  <thead>\n",
       "    <tr>\n",
       "      <th class=\"blank level0\" >&nbsp;</th>\n",
       "      <th id=\"T_e6699_level0_col0\" class=\"col_heading level0 col0\" >Happiness score</th>\n",
       "      <th id=\"T_e6699_level0_col1\" class=\"col_heading level0 col1\" >GDP per capita</th>\n",
       "      <th id=\"T_e6699_level0_col2\" class=\"col_heading level0 col2\" >Social support</th>\n",
       "      <th id=\"T_e6699_level0_col3\" class=\"col_heading level0 col3\" >Healthy life expectancy</th>\n",
       "      <th id=\"T_e6699_level0_col4\" class=\"col_heading level0 col4\" >Freedom to make life choices</th>\n",
       "    </tr>\n",
       "  </thead>\n",
       "  <tbody>\n",
       "    <tr>\n",
       "      <th id=\"T_e6699_level0_row0\" class=\"row_heading level0 row0\" >Happiness score</th>\n",
       "      <td id=\"T_e6699_row0_col0\" class=\"data row0 col0\" >1.000000</td>\n",
       "      <td id=\"T_e6699_row0_col1\" class=\"data row0 col1\" >0.795247</td>\n",
       "      <td id=\"T_e6699_row0_col2\" class=\"data row0 col2\" >0.808799</td>\n",
       "      <td id=\"T_e6699_row0_col3\" class=\"data row0 col3\" >0.711411</td>\n",
       "      <td id=\"T_e6699_row0_col4\" class=\"data row0 col4\" >0.579028</td>\n",
       "    </tr>\n",
       "    <tr>\n",
       "      <th id=\"T_e6699_level0_row1\" class=\"row_heading level0 row1\" >GDP per capita</th>\n",
       "      <td id=\"T_e6699_row1_col0\" class=\"data row1 col0\" >0.795247</td>\n",
       "      <td id=\"T_e6699_row1_col1\" class=\"data row1 col1\" >1.000000</td>\n",
       "      <td id=\"T_e6699_row1_col2\" class=\"data row1 col2\" >0.767490</td>\n",
       "      <td id=\"T_e6699_row1_col3\" class=\"data row1 col3\" >0.856166</td>\n",
       "      <td id=\"T_e6699_row1_col4\" class=\"data row1 col4\" >0.329454</td>\n",
       "    </tr>\n",
       "    <tr>\n",
       "      <th id=\"T_e6699_level0_row2\" class=\"row_heading level0 row2\" >Social support</th>\n",
       "      <td id=\"T_e6699_row2_col0\" class=\"data row2 col0\" >0.808799</td>\n",
       "      <td id=\"T_e6699_row2_col1\" class=\"data row2 col1\" >0.767490</td>\n",
       "      <td id=\"T_e6699_row2_col2\" class=\"data row2 col2\" >1.000000</td>\n",
       "      <td id=\"T_e6699_row2_col3\" class=\"data row2 col3\" >0.713057</td>\n",
       "      <td id=\"T_e6699_row2_col4\" class=\"data row2 col4\" >0.429402</td>\n",
       "    </tr>\n",
       "    <tr>\n",
       "      <th id=\"T_e6699_level0_row3\" class=\"row_heading level0 row3\" >Healthy life expectancy</th>\n",
       "      <td id=\"T_e6699_row3_col0\" class=\"data row3 col0\" >0.711411</td>\n",
       "      <td id=\"T_e6699_row3_col1\" class=\"data row3 col1\" >0.856166</td>\n",
       "      <td id=\"T_e6699_row3_col2\" class=\"data row3 col2\" >0.713057</td>\n",
       "      <td id=\"T_e6699_row3_col3\" class=\"data row3 col3\" >1.000000</td>\n",
       "      <td id=\"T_e6699_row3_col4\" class=\"data row3 col4\" >0.340498</td>\n",
       "    </tr>\n",
       "    <tr>\n",
       "      <th id=\"T_e6699_level0_row4\" class=\"row_heading level0 row4\" >Freedom to make life choices</th>\n",
       "      <td id=\"T_e6699_row4_col0\" class=\"data row4 col0\" >0.579028</td>\n",
       "      <td id=\"T_e6699_row4_col1\" class=\"data row4 col1\" >0.329454</td>\n",
       "      <td id=\"T_e6699_row4_col2\" class=\"data row4 col2\" >0.429402</td>\n",
       "      <td id=\"T_e6699_row4_col3\" class=\"data row4 col3\" >0.340498</td>\n",
       "      <td id=\"T_e6699_row4_col4\" class=\"data row4 col4\" >1.000000</td>\n",
       "    </tr>\n",
       "  </tbody>\n",
       "</table>\n"
      ],
      "text/plain": [
       "<pandas.io.formats.style.Styler at 0x7ff24b5a75e0>"
      ]
     },
     "execution_count": 4,
     "metadata": {},
     "output_type": "execute_result"
    }
   ],
   "source": [
    "corr = happiness_2021[[\"Happiness score\",\"GDP per capita\",\"Social support\",'Healthy life expectancy',\"Freedom to make life choices\"]].corr()\n",
    "corr = corr.style.background_gradient(cmap='Purples')\n",
    "corr"
   ]
  },
  {
   "cell_type": "markdown",
   "id": "ea447c73",
   "metadata": {},
   "source": [
    "## GDP"
   ]
  },
  {
   "cell_type": "markdown",
   "id": "39bc1935",
   "metadata": {},
   "source": [
    "To start off, let's look at where our GDP per capita is clustered."
   ]
  },
  {
   "cell_type": "code",
   "execution_count": 5,
   "id": "a9d192df",
   "metadata": {},
   "outputs": [
    {
     "data": {
      "image/png": "[encoded data removed]",
      "text/plain": [
       "<Figure size 432x288 with 1 Axes>"
      ]
     },
     "metadata": {
      "needs_background": "light"
     },
     "output_type": "display_data"
    }
   ],
   "source": [
    "# Let's see where the data is at\n",
    "happiness_2021[\"GDP per capita\"].hist(bins=25)\n",
    "\n",
    "plt.xlabel(\"GDP Per Capita\")\n",
    "plt.ylabel(\"Counts\")\n",
    "plt.title(\"Distribution of GDP Per Capita data\")\n",
    "\n",
    "plt.show()"
   ]
  },
  {
   "cell_type": "markdown",
   "id": "70019e3f",
   "metadata": {},
   "source": [
    "In the cleanup phase, we removed countries that had \"NA\" for any of our four major categories. If a country had NA, the surveyors didn't feel as if they could come up with an accurate measure, so all of our GDP per capita data is accurate. Additionally, now that we can see where the data is clustered, no one country has an incredibly high or low value. In conclusion, we can safely assume ***there are no outliers.***"
   ]
  },
  {
   "cell_type": "code",
   "execution_count": 6,
   "id": "cf1554c3",
   "metadata": {},
   "outputs": [
    {
     "data": {
      "image/png": "[encoded data removed]",
      "text/plain": [
       "<Figure size 432x288 with 1 Axes>"
      ]
     },
     "metadata": {
      "needs_background": "light"
     },
     "output_type": "display_data"
    }
   ],
   "source": [
    "# Let's graph this compared to Happiness Score\n",
    "x_axis = happiness_2021[\"GDP per capita\"]\n",
    "y_axis = happiness_2021[\"Happiness score\"]\n",
    "\n",
    "\n",
    "(slope, intercept, rvalue, pvalue, stderr) = st.linregress(x_axis, y_axis)\n",
    "regress_values = x_axis * slope + intercept\n",
    "line_eq = f\"y = {round(slope, 2)}x + {round(intercept, 2)}\"\n",
    "rsquared = f\"r squared = {round(rvalue * rvalue, 2)}\"\n",
    "\n",
    "plt.plot(x_axis, regress_values, color='red')\n",
    "plt.annotate(line_eq, (7,7.1), fontsize=15, color=\"red\")\n",
    "plt.annotate(rsquared, (7,6.6), fontsize=15, color=\"red\")\n",
    "\n",
    "plt.title(\"GDP Per Capita vs Happiness\")\n",
    "plt.ylabel(\"Happiness\")\n",
    "plt.xlabel(\"GDP Per Capita\")\n",
    "\n",
    "plt.scatter(x_axis, y_axis)\n",
    "plt.show()"
   ]
  },
  {
   "cell_type": "markdown",
   "id": "335e528e",
   "metadata": {},
   "source": [
    "One can certainly see a general trend with happiness increasing as GDP per capita increases. However, it is still necessary to perform a test. For this data, we'll use an ANOVA test, grouping the data into rough thirds by GDP per capita and comparing the populations."
   ]
  },
  {
   "cell_type": "code",
   "execution_count": 7,
   "id": "d2adf640",
   "metadata": {},
   "outputs": [
    {
     "data": {
      "text/plain": [
       "F_onewayResult(statistic=66.84719963035289, pvalue=1.4574777104746294e-19)"
      ]
     },
     "execution_count": 7,
     "metadata": {},
     "output_type": "execute_result"
    }
   ],
   "source": [
    "# Extract individual groups\n",
    "group0 = happiness_2021[happiness_2021[\"GDP per capita\"] < 8.75][\"Happiness score\"]\n",
    "group1 = happiness_2021[happiness_2021[\"GDP per capita\"].between(8.75, 10.25, inclusive='both')][\"Happiness score\"]\n",
    "group2 = happiness_2021[happiness_2021[\"GDP per capita\"] > 10.25][\"Happiness score\"]\n",
    "\n",
    "# Perform the ANOVA\n",
    "st.f_oneway(group0, group1, group2)"
   ]
  },
  {
   "cell_type": "markdown",
   "id": "d2aba4ae",
   "metadata": {},
   "source": [
    "With a P value much lower than .05, we can comfortably reject the null hypothesis that GDP per capita has no effect on happiness score."
   ]
  },
  {
   "cell_type": "markdown",
   "id": "8775023f",
   "metadata": {},
   "source": [
    "## Life Expectancy"
   ]
  },
  {
   "cell_type": "markdown",
   "id": "43bab619",
   "metadata": {},
   "source": [
    "# Hypothesis:\n",
    "\n",
    ">When healthy life expectancy is high, there is a measurable increase in the Cantrill happiness score. <br>Null Hypothesis (H<sub>0</sub>):  When healthy life expectancy is high, there is no measurable impact in the Cantrill happiness score whatsoever.<br>If p-value is < 0.05 then we reject the null hypothesis. "
   ]
  },
  {
   "cell_type": "code",
   "execution_count": 8,
   "id": "7e971d8d",
   "metadata": {},
   "outputs": [
    {
     "data": {
      "text/plain": [
       "F_onewayResult(statistic=31.559923638910274, pvalue=2.9603982004555786e-17)"
      ]
     },
     "execution_count": 8,
     "metadata": {},
     "output_type": "execute_result"
    }
   ],
   "source": [
    "grF = happiness_2021[happiness_2021['Healthy life expectancy'] < 60][\"Happiness score\"]\n",
    "grD = happiness_2021[happiness_2021['Healthy life expectancy'].between(59.99, 65.40, inclusive='both')][\"Happiness score\"]\n",
    "grC = happiness_2021[happiness_2021['Healthy life expectancy'].between(65.40, 67.20, inclusive='both')][\"Happiness score\"]\n",
    "grB = happiness_2021[happiness_2021['Healthy life expectancy'].between(67.20, 70.33, inclusive='both')][\"Happiness score\"]\n",
    "grA = happiness_2021[happiness_2021['Healthy life expectancy'] > 70.33][\"Happiness score\"]\n",
    "st.f_oneway(grA, grB, grC, grD, grF)"
   ]
  },
  {
   "cell_type": "markdown",
   "id": "091ae771",
   "metadata": {},
   "source": [
    "### Using the ANOVA test, H<sub>0</sub> is rejected."
   ]
  },
  {
   "cell_type": "code",
   "execution_count": 9,
   "id": "d5076d6d",
   "metadata": {},
   "outputs": [
    {
     "data": {
      "text/plain": [
       "count    110.000000\n",
       "mean      65.305000\n",
       "std        5.458450\n",
       "min       51.299999\n",
       "25%       61.862499\n",
       "50%       66.450001\n",
       "75%       69.299999\n",
       "max       74.349998\n",
       "Name: Healthy life expectancy, dtype: float64"
      ]
     },
     "execution_count": 9,
     "metadata": {},
     "output_type": "execute_result"
    }
   ],
   "source": [
    "happiness_2021['Healthy life expectancy'].describe()"
   ]
  },
  {
   "cell_type": "markdown",
   "id": "3ac13afc",
   "metadata": {},
   "source": [
    "#### During data cleaning & exploration\n",
    ">in a challenging to read series of box plots, the minimum to maximum life expectancy range became a point of interest.\n",
    "23 years of Life expectancy is the full range of this data ***Or*** Nearly 1/3 less life to be lived."
   ]
  },
  {
   "cell_type": "code",
   "execution_count": 10,
   "id": "48d7ba19",
   "metadata": {},
   "outputs": [
    {
     "data": {
      "image/png": "[encoded data removed]",
      "text/plain": [
       "<Figure size 432x288 with 1 Axes>"
      ]
     },
     "metadata": {
      "needs_background": "light"
     },
     "output_type": "display_data"
    }
   ],
   "source": [
    "x_values = happiness_2021['Healthy life expectancy']\n",
    "y_values = happiness_2021['Happiness score']\n",
    "\n",
    "(slope, intercept, rvalue, pvalue, stderr) = st.linregress(x_values, y_values)\n",
    "regress_values = x_values * slope + intercept\n",
    "line_eq = \"y = \" + str(round(slope,2)) + \"x + \" + str(round(intercept,2))\n",
    "\n",
    "plt.scatter(x_values,y_values)\n",
    "plt.plot(x_values,regress_values,\"r-\")\n",
    "plt.annotate(line_eq,(52,7),fontsize=15,color=\"indigo\")\n",
    "plt.xlabel(\"Healthy Life Expectancy\")\n",
    "plt.ylabel(\"Happiness Score\")\n",
    "plt.title(\"Life Expectancy & Happiness\")\n",
    "plt.show()"
   ]
  },
  {
   "cell_type": "code",
   "execution_count": 11,
   "id": "ae5b192d",
   "metadata": {},
   "outputs": [
    {
     "name": "stdout",
     "output_type": "stream",
     "text": [
      "The Pearson corr. coefficient between Longevity and Happiness is 0.71, a strong link between the two factors.\n"
     ]
    }
   ],
   "source": [
    "pr = round(st.pearsonr(x_values,y_values)[0],2)\n",
    "if pr > 0.7 :\n",
    "    link = \"strong\"\n",
    "else :\n",
    "    link = \"not strong\"\n",
    "    \n",
    "print(f'The Pearson corr. coefficient between Longevity and Happiness is {pr}, a {link} link between the two factors.')"
   ]
  },
  {
   "cell_type": "markdown",
   "id": "fb3c93eb",
   "metadata": {},
   "source": [
    "## Freedom"
   ]
  },
  {
   "cell_type": "markdown",
   "id": "b807099f",
   "metadata": {},
   "source": [
    "Per the World Happiness Report: \n",
    ">Freedom to make life choices is the national average of a binary response (0=no, 1=yes) to the question \"Are you satisfied or dissatisfied with your freedom to choice what to do with your life?"
   ]
  },
  {
   "cell_type": "markdown",
   "id": "fd686a67",
   "metadata": {},
   "source": [
    "### Freedom to Make Life Choices Survey Results Distribution"
   ]
  },
  {
   "cell_type": "code",
   "execution_count": 12,
   "id": "b952e9b3",
   "metadata": {},
   "outputs": [
    {
     "data": {
      "image/png": "[encoded data removed]",
      "text/plain": [
       "<Figure size 432x288 with 1 Axes>"
      ]
     },
     "metadata": {
      "needs_background": "light"
     },
     "output_type": "display_data"
    },
    {
     "name": "stdout",
     "output_type": "stream",
     "text": [
      "count    110.000000\n",
      "mean       0.790595\n",
      "std        0.107183\n",
      "min        0.422697\n",
      "25%        0.724480\n",
      "50%        0.809086\n",
      "75%        0.869746\n",
      "max        0.965093\n",
      "Name: Freedom to make life choices, dtype: float64\n"
     ]
    }
   ],
   "source": [
    "happiness_2021['Freedom to make life choices']. hist(bins=25)\n",
    "\n",
    "plt.xlabel('Freedom to Make Life Choices')\n",
    "plt.ylabel('Count')\n",
    "plt.title('Histogram of Freedom to Make Life Choices Results')\n",
    "plt.show()\n",
    "print(happiness_2021['Freedom to make life choices'].describe())"
   ]
  },
  {
   "cell_type": "markdown",
   "id": "83f1393a",
   "metadata": {},
   "source": [
    "### Regression"
   ]
  },
  {
   "cell_type": "code",
   "execution_count": 13,
   "id": "7bf5dbde",
   "metadata": {},
   "outputs": [
    {
     "data": {
      "image/png": "[encoded data removed]",
      "text/plain": [
       "<Figure size 432x288 with 1 Axes>"
      ]
     },
     "metadata": {
      "needs_background": "light"
     },
     "output_type": "display_data"
    }
   ],
   "source": [
    "x_axis = happiness_2021['Freedom to make life choices']\n",
    "y_axis = happiness_2021['Happiness score']\n",
    "\n",
    "(slope, intercept, rvalue, pvalue, stderr) = st.linregress(x_axis, y_axis)\n",
    "regress_values = x_axis * slope + intercept\n",
    "line_eq = f'y = {round(slope, 2)}x + {round(intercept, 2)}'\n",
    "\n",
    "pearson_r = st.pearsonr(x_axis, y_axis)\n",
    "\n",
    "pr = f'r = {round(pearson_r[0],2)}'\n",
    "\n",
    "plt.plot(x_axis, regress_values, color='red')\n",
    "plt.annotate(line_eq, (0.45,7.5), fontsize=15, color='red')\n",
    "plt.annotate(pr, (0.45,6.8), fontsize=15, color='red')\n",
    "\n",
    "plt.title('Freedom to Make Life Choices vs Happiness')\n",
    "plt.ylabel('Happiness')\n",
    "plt.xlabel('Freedom to Make Life Choices')\n",
    "\n",
    "plt.scatter(x_axis, y_axis)\n",
    "plt.show()"
   ]
  },
  {
   "cell_type": "markdown",
   "id": "ee209092",
   "metadata": {},
   "source": [
    "### Hypothesis Testing\n"
   ]
  },
  {
   "cell_type": "code",
   "execution_count": 14,
   "id": "ac7900f9",
   "metadata": {},
   "outputs": [
    {
     "data": {
      "image/png": "[encoded data removed]",
      "text/plain": [
       "<Figure size 1440x720 with 1 Axes>"
      ]
     },
     "metadata": {
      "needs_background": "light"
     },
     "output_type": "display_data"
    }
   ],
   "source": [
    "#sorting by freedom scores and creating three groups\n",
    "freedom_sort = happiness_2021[['Freedom to make life choices', 'Happiness score']].copy()\n",
    "freedom_sort = freedom_sort.sort_values(by=['Freedom to make life choices'], ascending=True)\n",
    "#freedom_sort = freedom_sort.reset_index\n",
    "freedom_low = freedom_sort.iloc[0:36]\n",
    "freedom_mid = freedom_sort.iloc[36:73]\n",
    "freedom_high = freedom_sort.iloc[73:110]\n",
    "\n",
    "bins = [0, 0.7573, 0.83811, 1]\n",
    "group_names = ['Low', \"Mid\", \"High\"]\n",
    "\n",
    "freedom_sort[\"Freedom Level\"] = pd.cut(freedom_sort[\"Freedom to make life choices\"], bins, labels=group_names, include_lowest=True)\n",
    "freedom_sort\n",
    "\n",
    "freedom_sort.boxplot('Happiness score', by='Freedom Level', figsize=(20,10))\n",
    "plt.show()\n",
    "\n",
    "hypothesis_test = st.f_oneway(freedom_low['Happiness score'], freedom_mid['Happiness score'], freedom_high['Happiness score'])"
   ]
  },
  {
   "cell_type": "markdown",
   "id": "3896cd9c",
   "metadata": {},
   "source": [
    "#### Hypothesis Test Results\n",
    "Alternative Hypothesis: There is a difference between happiness score between the low, medium, and high freedom groups.\n",
    "\n",
    "Null Hypothesis: These is no difference between happiness score between the low, medium, and high freedom groups.\n",
    "\n",
    "p-value: 0.00000008"
   ]
  },
  {
   "cell_type": "markdown",
   "id": "58000209",
   "metadata": {},
   "source": [
    "## Social Support"
   ]
  },
  {
   "cell_type": "markdown",
   "id": "b255ec47",
   "metadata": {},
   "source": [
    "Per the World Happiness Report: \n",
    ">Social support (or having someone to count on in times of trouble) is the national average of the binary responses (either 0 or 1) to the GWP question “If you were in trouble, do you have relatives or friends you can count on to help you whenever you need them, or not?”"
   ]
  },
  {
   "cell_type": "markdown",
   "id": "74f03150",
   "metadata": {},
   "source": [
    "### Data Range\n",
    "The lowest social support value is 0.44 (Benin), meaning 44% of respondents answered yes to the above question. The next lowest value is 0.50 (Morocco), meaning in all but one of the study countries, at least 50% of respondents felt like they had someone to count on in times of trouble. The mean is 0.81 and the highest is 0.98 (Iceland). "
   ]
  },
  {
   "cell_type": "code",
   "execution_count": 15,
   "id": "0a062840",
   "metadata": {},
   "outputs": [
    {
     "data": {
      "text/plain": [
       "count    110.000000\n",
       "mean       0.805196\n",
       "std        0.124863\n",
       "min        0.435524\n",
       "25%        0.713824\n",
       "50%        0.844487\n",
       "75%        0.905608\n",
       "max        0.979858\n",
       "Name: Social support, dtype: float64"
      ]
     },
     "execution_count": 15,
     "metadata": {},
     "output_type": "execute_result"
    }
   ],
   "source": [
    "happiness_2021['Social support'].describe()"
   ]
  },
  {
   "cell_type": "code",
   "execution_count": 16,
   "id": "ea2d6c5b",
   "metadata": {},
   "outputs": [
    {
     "data": {
      "image/png": "[encoded data removed]",
      "text/plain": [
       "<Figure size 432x288 with 1 Axes>"
      ]
     },
     "metadata": {
      "needs_background": "light"
     },
     "output_type": "display_data"
    }
   ],
   "source": [
    "plt.hist(happiness_2021['Social support'])\n",
    "plt.xlabel(\"Social Support\")\n",
    "plt.title(\"Distribution of social support scores\")\n",
    "plt.show()"
   ]
  },
  {
   "cell_type": "markdown",
   "id": "3050c8a6",
   "metadata": {},
   "source": [
    "### Hypothesis Testing and Regression\n",
    "Regression analysis shows a high correlation between social support and happiness (Pearson's r value of 0.81). This correlation is statistically significant, given the p-value calculated in the null hypothesis test is well below 0.05."
   ]
  },
  {
   "cell_type": "code",
   "execution_count": 17,
   "id": "7782527d",
   "metadata": {},
   "outputs": [
    {
     "data": {
      "image/png": "[encoded data removed]",
      "text/plain": [
       "<Figure size 432x288 with 1 Axes>"
      ]
     },
     "metadata": {
      "needs_background": "light"
     },
     "output_type": "display_data"
    },
    {
     "name": "stdout",
     "output_type": "stream",
     "text": [
      "The correlation between social support and happiness is 0.81, suggesting a strong link between the two factors.\n"
     ]
    }
   ],
   "source": [
    "x_values = happiness_2021['Social support']\n",
    "y_values = happiness_2021['Happiness score']\n",
    "(slope, intercept, rvalue, pvalue, stderr) = st.linregress(x_values, y_values)\n",
    "regress_values = x_values * slope + intercept\n",
    "line_eq = \"y = \" + str(round(slope,2)) + \"x + \" + str(round(intercept,2))\n",
    "plt.scatter(x_values,y_values)\n",
    "plt.plot(x_values,regress_values,\"r-\")\n",
    "plt.annotate(line_eq,(0.7,2.4),fontsize=15,color=\"red\")\n",
    "plt.xlabel(\"Social Support\")\n",
    "plt.ylabel(\"Happiness Score\")\n",
    "plt.title(\"Social Support\\nvs\\nTotal Happiness Score\")\n",
    "plt.show()\n",
    "pr = round(st.pearsonr(x_values,y_values)[0],2)\n",
    "print(f'The correlation between social support and happiness is {pr}, suggesting a strong link between the two factors.')"
   ]
  },
  {
   "cell_type": "code",
   "execution_count": 18,
   "id": "86288e56",
   "metadata": {},
   "outputs": [
    {
     "name": "stdout",
     "output_type": "stream",
     "text": [
      "The p-value is 8.261872947301994e-16, which rejects the null hypothesis.\n"
     ]
    }
   ],
   "source": [
    "# sort dataset and see how many values need to be in each group\n",
    "h0_test = happiness_2021[[\"Country\",\"Happiness score\",\"Social support\"]]\n",
    "h0_test = h0_test.sort_values(\"Social support\")\n",
    "\n",
    "bottom_third = h0_test.iloc[0:37,1]\n",
    "middle_third = h0_test.iloc[37:74,1]\n",
    "top_third = h0_test.iloc[74:110,1]\n",
    "\n",
    "stat,p = st.kruskal(top_third,middle_third,bottom_third)\n",
    "print(f'The p-value is {p}, which rejects the null hypothesis.')"
   ]
  },
  {
   "cell_type": "markdown",
   "id": "905611cc",
   "metadata": {},
   "source": [
    "### Geographic Distribution of Social Support\n",
    "Countries with the highest social support values are concentrated in Europe (particularly Scandanavia and Eastern Europe) as well as Central Asia. The countries with the lowest social support values are concentrated in Northern and Sub-Saharan Africa, the Middle East, South and South-East Asia. In the Americas, most countries fall into the middle tier of social support, with 6 landing in the top third. Mexico is the notable exception as the one country in the bottom third of nations. "
   ]
  },
  {
   "cell_type": "code",
   "execution_count": 19,
   "id": "9159e7a6",
   "metadata": {},
   "outputs": [
    {
     "data": {
      "application/vnd.jupyter.widget-view+json": {
       "model_id": "223b69f5b2d74541afc11a51f5642aef",
       "version_major": 2,
       "version_minor": 0
      },
      "text/plain": [
       "Figure(layout=FigureLayout(border='1px solid black', height='500px', margin='0 auto 0 auto', padding='1px', wi…"
      ]
     },
     "metadata": {},
     "output_type": "display_data"
    }
   ],
   "source": [
    "gmaps.configure(api_key = gkey)\n",
    "fig = gmaps.figure()\n",
    "\n",
    "social_sorted = happiness_2021.sort_values('Social support')\n",
    "top_locations = social_sorted.iloc[74:110,[6,7]]\n",
    "top_social = social_sorted.iloc[74:110,3]\n",
    "middle_locations = social_sorted.iloc[37:74,[6,7]]\n",
    "middle_social = social_sorted.iloc[37:74,3]\n",
    "bottom_locations = social_sorted.iloc[0:37,[6,7]]\n",
    "bottom_social = social_sorted.iloc[0:37,3]\n",
    "\n",
    "figure_layout = {\n",
    "    'width': '1000px',\n",
    "    'height': '500px',\n",
    "    'border': '1px solid black',\n",
    "    'padding': '1px',\n",
    "    'margin': '0 auto 0 auto',\n",
    "}\n",
    "                             \n",
    "fig = gmaps.figure(layout=figure_layout, center=(26.820553, 30.802498), zoom_level=1.75)\n",
    "\n",
    "symbols_top = gmaps.symbol_layer(top_locations, fill_color='#028833', stroke_color='#028833')\n",
    "fig.add_layer(symbols_top)\n",
    "\n",
    "symbols_middle = gmaps.symbol_layer(middle_locations, fill_color='blue', stroke_color='blue')\n",
    "fig.add_layer(symbols_middle)\n",
    "\n",
    "symbols_bottom = gmaps.symbol_layer(bottom_locations, fill_color='#E65300', stroke_color='#E65300')\n",
    "fig.add_layer(symbols_bottom)\n",
    "\n",
    "fig"
   ]
  },
  {
   "cell_type": "markdown",
   "id": "868d5c5b",
   "metadata": {},
   "source": [
    "In the above map, green dots represent the countries in the top third of social support values. Blue represents the middle third and orange represents the bottom third."
   ]
  },
  {
   "cell_type": "markdown",
   "id": "f0c72a3e",
   "metadata": {},
   "source": [
    "### We all need somebody to lean on\n",
    "The results of comparing amount of social support to happiness in the study countries strongly suggests that social support positively influences happiness. Humans are social creatures, so it makes sense that having connections to others would increase happiness. "
   ]
  },
  {
   "cell_type": "markdown",
   "id": "1b313dee",
   "metadata": {},
   "source": [
    "# Conclusion\n",
    "\n",
    "All four variables we analyzed - GDP per capita, freedom to make life choices, healthy life expectancy, and social support - all positively correlate in statistically significant ways to happiness score. \n",
    "\n",
    "Overall, this dataset was quite straightforward to work with. We had minor hiccups understanding which dataset published in the World Happiness Report was best for our needs, but that was relatively easily overcome and didn't waste too much time. Geocoding the countries presented a minor challenge in distinguishing between Georgia the country and Georgia the state in the USA! The address search in the Google Geocoding API returned the later; further research indicated it was necessary to specify `components=country:{country}` in the URL to return the correct result."
   ]
  },
  {
   "cell_type": "code",
   "execution_count": null,
   "id": "9fad3b31",
   "metadata": {},
   "outputs": [],
   "source": []
  }
 ],
 "metadata": {
  "kernelspec": {
   "display_name": "Python 3 (ipykernel)",
   "language": "python",
   "name": "python3"
  },
  "language_info": {
   "codemirror_mode": {
    "name": "ipython",
    "version": 3
   },
   "file_extension": ".py",
   "mimetype": "text/x-python",
   "name": "python",
   "nbconvert_exporter": "python",
   "pygments_lexer": "ipython3",
   "version": "3.8.13"
  }
 },
 "nbformat": 4,
 "nbformat_minor": 5
}
