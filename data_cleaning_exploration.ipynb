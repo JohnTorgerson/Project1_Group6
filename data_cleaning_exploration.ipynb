{
 "cells": [
  {
   "cell_type": "code",
   "execution_count": null,
   "id": "3ea990b5",
   "metadata": {},
   "outputs": [],
   "source": [
    "import pandas as pd\n",
    "import numpy as np\n",
    "import matplotlib.pyplot as plt\n",
    "import scipy.stats as st\n",
    "import gmaps\n",
    "import requests\n",
    "import json\n",
    "from config import gkey"
   ]
  },
  {
   "cell_type": "code",
   "execution_count": null,
   "id": "d7cb6cc5",
   "metadata": {},
   "outputs": [],
   "source": [
    "file = \"DataForTable2.1.csv\"\n",
    "happiness_years = pd.read_csv(file)\n",
    "happiness_years.head()"
   ]
  },
  {
   "cell_type": "code",
   "execution_count": null,
   "id": "fd224158",
   "metadata": {},
   "outputs": [],
   "source": [
    "happiness_years.describe()"
   ]
  },
  {
   "cell_type": "code",
   "execution_count": null,
   "id": "7e440aa8",
   "metadata": {},
   "outputs": [],
   "source": [
    "happiness_years.loc[happiness_years[\"Generosity\"] == 0]"
   ]
  },
  {
   "cell_type": "code",
   "execution_count": null,
   "id": "34756f0a",
   "metadata": {},
   "outputs": [],
   "source": [
    "# keep needed series\n",
    "happiness_2021 = happiness_years.loc[happiness_years['year']==happiness_years['year'].max(),\n",
    "                                   [\"Country name\",\"Life Ladder\",\"Log GDP per capita\",\"Social support\",\n",
    "                                   \"Healthy life expectancy at birth\",\"Freedom to make life choices\"]]\n",
    "happiness_2021[\"Country name\"].nunique()"
   ]
  },
  {
   "cell_type": "code",
   "execution_count": null,
   "id": "c31c4761",
   "metadata": {},
   "outputs": [],
   "source": [
    "# HOW TO HANDLE NaN VALUES - remove null values for any of the 4 colums we're looking at\n",
    "\n",
    "#set NaN values to 0 - none of the colums have a legitimate value of 0\n",
    "#happiness_years = happiness_years.fillna(0)\n",
    "#happiness_years.head()\n",
    "happiness_2021 = happiness_2021.dropna()\n",
    "happiness_2021.head()"
   ]
  },
  {
   "cell_type": "code",
   "execution_count": null,
   "id": "35e8f79b",
   "metadata": {},
   "outputs": [],
   "source": [
    "happiness_2021 = happiness_2021.rename(columns = {'Log GDP per capita': 'GDP per capita',\n",
    "                                              'Life Ladder':'Happiness score',\n",
    "                                             'Healthy life expectancy at birth': 'healthy life expectancy',\n",
    "                                                 'Country name':'Country'})\n",
    "happiness_2021.head()"
   ]
  },
  {
   "cell_type": "code",
   "execution_count": null,
   "id": "f4e97281",
   "metadata": {},
   "outputs": [],
   "source": [
    "#corr table for reference\n",
    "corr = happiness_2021.corr()\n",
    "corr = corr.style.background_gradient(cmap='PRGn')\n",
    "corr"
   ]
  },
  {
   "cell_type": "code",
   "execution_count": null,
   "id": "84eb4228",
   "metadata": {},
   "outputs": [],
   "source": [
    "#adding latitude and longitude for each country\n",
    "gkey = gkey\n",
    "lat = []\n",
    "lng = []\n",
    "for country in happiness_2021[\"Country\"]:\n",
    "    target_url = f\"https://maps.googleapis.com/maps/api/geocode/json?address={country}&components=country:{country}&key={gkey}\"\n",
    "    # components=country:{country} makes sure the country of Georgia is mapped correctly!\n",
    "    response = requests.get(target_url).json()\n",
    "    lat.append(response['results'][0]['geometry']['location']['lat'])\n",
    "    lng.append(response['results'][0]['geometry']['location']['lng'])\n",
    "happiness_2021['Latitude'] = lat\n",
    "happiness_2021[\"Longitude\"] = lng"
   ]
  },
  {
   "cell_type": "code",
   "execution_count": null,
   "id": "f228e1f5",
   "metadata": {},
   "outputs": [],
   "source": [
    "#export to csv\n",
    "happiness_2021.to_csv('cleaned_happiness_2021.csv', index = False)"
   ]
  },
  {
   "cell_type": "code",
   "execution_count": null,
   "id": "526bb656",
   "metadata": {},
   "outputs": [],
   "source": [
    "# Start of Amanda's code"
   ]
  },
  {
   "cell_type": "code",
   "execution_count": null,
   "id": "72cfee44",
   "metadata": {},
   "outputs": [],
   "source": [
    "# re-importing cleaned data so as to not have to rerun above code\n",
    "happiness_2021 = pd.read_csv('cleaned_happiness_2021.csv')\n",
    "happiness_2021.describe()"
   ]
  },
  {
   "cell_type": "markdown",
   "id": "3bf56b97",
   "metadata": {},
   "source": [
    "### Social Support\n",
    "Per the World Happiness Report: \n",
    ">Social support (or having someone to count on in times of trouble) is the national average of the binary responses (either 0 or 1) to the GWP question “If you were in trouble, do you have relatives or friends you can count on to help you whenever you need them, or not?”\n"
   ]
  },
  {
   "cell_type": "markdown",
   "id": "4cc2b4e0",
   "metadata": {},
   "source": [
    "### Null Hypothesis Test\n",
    "Null hypothesis - the means for happiness of the top, middle, and bottom third of countries based on social support are the same"
   ]
  },
  {
   "cell_type": "code",
   "execution_count": null,
   "id": "667e27ce",
   "metadata": {},
   "outputs": [],
   "source": [
    "# sort dataset and see how many values need to be in each group\n",
    "h0_test = happiness_2021[[\"Country\",\"Happiness score\",\"Social support\"]]\n",
    "h0_test = h0_test.sort_values(\"Social support\")\n",
    "size = h0_test.count() # 110 countries total\n",
    "# size/3 = 36.666667 - make 2 groups at 37 and one at 36\n",
    "h0_test.head()"
   ]
  },
  {
   "cell_type": "code",
   "execution_count": null,
   "id": "dea3dec1",
   "metadata": {},
   "outputs": [],
   "source": [
    "bottom_third = h0_test.iloc[0:37,:]\n",
    "bottom_third"
   ]
  },
  {
   "cell_type": "code",
   "execution_count": null,
   "id": "ad3749d2",
   "metadata": {},
   "outputs": [],
   "source": [
    "middle_third = h0_test.iloc[37:74,:]\n",
    "middle_third"
   ]
  },
  {
   "cell_type": "code",
   "execution_count": null,
   "id": "199b7a67",
   "metadata": {},
   "outputs": [],
   "source": [
    "top_third = h0_test.iloc[74:110,:]\n",
    "top_third"
   ]
  },
  {
   "cell_type": "code",
   "execution_count": null,
   "id": "c1683bc9",
   "metadata": {},
   "outputs": [],
   "source": [
    "# concatenate the thirds back together just to triple check there aren't duplicate countries\n",
    "check_df = pd.concat([top_third,middle_third,bottom_third])\n",
    "check_df.value_counts()"
   ]
  },
  {
   "cell_type": "code",
   "execution_count": null,
   "id": "4893f167",
   "metadata": {},
   "outputs": [],
   "source": [
    "# get only the happiness score for each group and double check the count is correct\n",
    "top_happiness = top_third[\"Happiness score\"]\n",
    "middle_happiness = middle_third[\"Happiness score\"]\n",
    "bottom_happiness = bottom_third[\"Happiness score\"]\n",
    "total = top_happiness.count() + middle_happiness.count() + bottom_happiness.count()\n",
    "print(total)"
   ]
  },
  {
   "cell_type": "code",
   "execution_count": null,
   "id": "ddaaac6e",
   "metadata": {},
   "outputs": [],
   "source": [
    "# run ANOVA test!\n",
    "st.f_oneway(top_happiness,middle_happiness,bottom_happiness)"
   ]
  },
  {
   "cell_type": "code",
   "execution_count": null,
   "id": "3939ba10",
   "metadata": {},
   "outputs": [],
   "source": [
    "bottom_third['Social support'].std()"
   ]
  },
  {
   "cell_type": "code",
   "execution_count": null,
   "id": "429ffcea",
   "metadata": {},
   "outputs": [],
   "source": [
    "middle_third['Social support'].std()"
   ]
  },
  {
   "cell_type": "code",
   "execution_count": null,
   "id": "c725fee4",
   "metadata": {},
   "outputs": [],
   "source": [
    "top_third['Social support'].std()"
   ]
  },
  {
   "cell_type": "code",
   "execution_count": null,
   "id": "2005038c",
   "metadata": {},
   "outputs": [],
   "source": [
    "# Run Kruskal test as standard deviations might be different\n",
    "st.kruskal(top_happiness,middle_happiness,bottom_happiness)"
   ]
  },
  {
   "cell_type": "markdown",
   "id": "dce25ce1",
   "metadata": {},
   "source": [
    "### Result\n",
    "The pvalue is either 3.0050980152485063e-22 or 8.261872947301994e-16 (depending on test), both of which are quite smaller than 0.5! This rejects the null hypothesis that says the means of all three groups are the same, indicating there is a statistically significant correlation between happiness and social support."
   ]
  },
  {
   "cell_type": "markdown",
   "id": "2514f82d",
   "metadata": {},
   "source": [
    "### Other analysis"
   ]
  },
  {
   "cell_type": "code",
   "execution_count": null,
   "id": "540f5174",
   "metadata": {},
   "outputs": [],
   "source": [
    "x_values = happiness_2021['Social support']\n",
    "y_values = happiness_2021['Happiness score']"
   ]
  },
  {
   "cell_type": "code",
   "execution_count": null,
   "id": "ec7a8bf3",
   "metadata": {},
   "outputs": [],
   "source": [
    "quartiles = x_values.quantile([0.25,0.5,0.75])\n",
    "lowerq = quartiles[0.25]\n",
    "upperq = quartiles[0.75]\n",
    "iqr = upperq-lowerq\n",
    "lower_bound = lowerq - (1.5*iqr)\n",
    "upper_bound = upperq + (1.5*iqr)\n",
    "print(f\"Q1: {lowerq}\\nQ3: {upperq}\\nIQR: {iqr}\\nLower Bound: {lower_bound}\\nUpper Bound: {upper_bound}\")"
   ]
  },
  {
   "cell_type": "code",
   "execution_count": null,
   "id": "9d02c4e7",
   "metadata": {},
   "outputs": [],
   "source": [
    "outliers = happiness_2021.loc[x_values<lower_bound,:]\n",
    "outliers\n",
    "#outliers.sort_values('Social support')"
   ]
  },
  {
   "cell_type": "code",
   "execution_count": null,
   "id": "45b173a2",
   "metadata": {},
   "outputs": [],
   "source": [
    "plt.boxplot(x_values, showmeans=True)\n",
    "plt.title(\"Social Support Values\")\n",
    "for country in outliers['Country'].values:\n",
    "    y = outliers.loc[outliers['Country']==country,'Social support']\n",
    "    plt.annotate(country,(1.05,y),fontsize=10,color=\"red\")\n",
    "plt.show()"
   ]
  },
  {
   "cell_type": "code",
   "execution_count": null,
   "id": "4278a8b2",
   "metadata": {},
   "outputs": [],
   "source": [
    "(slope, intercept, rvalue, pvalue, stderr) = st.linregress(x_values, y_values)\n",
    "regress_values = x_values * slope + intercept\n",
    "line_eq = \"y = \" + str(round(slope,2)) + \"x + \" + str(round(intercept,2))"
   ]
  },
  {
   "cell_type": "code",
   "execution_count": null,
   "id": "f802a54c",
   "metadata": {},
   "outputs": [],
   "source": [
    "plt.scatter(x_values,y_values)\n",
    "plt.plot(x_values,regress_values,\"r-\")\n",
    "plt.annotate(line_eq,(0.7,2.4),fontsize=15,color=\"red\")\n",
    "plt.xlabel(\"Social Support\")\n",
    "plt.ylabel(\"Happiness Score\")\n",
    "plt.title(\"Social Support\\nvs\\nTotal Happiness Score\")\n",
    "plt.show()"
   ]
  },
  {
   "cell_type": "code",
   "execution_count": null,
   "id": "75d07dfa",
   "metadata": {},
   "outputs": [],
   "source": [
    "pr = round(st.pearsonr(x_values,y_values)[0],2)\n",
    "print(f'The correlation between social support and happiness is {pr}, suggesting a strong link between the two factors.')"
   ]
  },
  {
   "cell_type": "code",
   "execution_count": null,
   "id": "d60c27d7",
   "metadata": {},
   "outputs": [],
   "source": [
    "bottom_8 = happiness_2021[[\"Country\",\"Happiness score\",\"Social support\"]].sort_values('Social support').head(8)\n",
    "bottom_8.sort_values(['Happiness score','Social support'])"
   ]
  },
  {
   "cell_type": "code",
   "execution_count": null,
   "id": "038fca55",
   "metadata": {},
   "outputs": [],
   "source": [
    "x_values = bottom_8['Social support']\n",
    "y_values = bottom_8['Happiness score']\n",
    "(slope, intercept, rvalue, pvalue, stderr) = st.linregress(x_values, y_values)\n",
    "regress_values = x_values * slope + intercept\n",
    "line_eq = \"y = \" + str(round(slope,2)) + \"x + \" + str(round(intercept,2))\n",
    "plt.scatter(x_values,y_values)\n",
    "plt.plot(x_values,regress_values,\"r-\")\n",
    "plt.annotate(line_eq,(0.51,2.4),fontsize=15,color=\"red\")\n",
    "plt.xlabel(\"Social Support\")\n",
    "plt.ylabel(\"Happiness Score\")\n",
    "plt.title(\"Social Support\\nvs\\nTotal Happiness Score\")\n",
    "plt.show()\n",
    "pr = round(st.pearsonr(x_values,y_values)[0],2)\n",
    "print(f'The correlation between social support and happiness for bottom 8 countries is {pr}')"
   ]
  },
  {
   "cell_type": "code",
   "execution_count": null,
   "id": "7b4332bd",
   "metadata": {},
   "outputs": [],
   "source": [
    "top_ten = happiness_2021.sort_values(['Social support','Happiness score'], ascending = False).head(10)"
   ]
  },
  {
   "cell_type": "code",
   "execution_count": null,
   "id": "fc79d4e9",
   "metadata": {},
   "outputs": [],
   "source": [
    "gmaps.configure(api_key = gkey)\n",
    "fig = gmaps.figure()\n",
    "\n",
    "social_sorted = happiness_2021.sort_values('Social support')\n",
    "top_locations = social_sorted.iloc[74:110,[6,7]]\n",
    "top_social = social_sorted.iloc[74:110,3]\n",
    "middle_locations = social_sorted.iloc[37:74,[6,7]]\n",
    "middle_social = social_sorted.iloc[37:74,3]\n",
    "bottom_locations = social_sorted.iloc[0:37,[6,7]]\n",
    "bottom_social = social_sorted.iloc[0:37,3]\n",
    "\n",
    "all_locations = happiness_2021[[\"Latitude\",\"Longitude\"]]\n",
    "all_social = happiness_2021['Social support']\n",
    "                                        \n",
    "fig = gmaps.figure()\n",
    "\n",
    "symbols_top = gmaps.symbol_layer(top_locations, fill_color='#028833', stroke_color='#028833')\n",
    "fig.add_layer(symbols_top)\n",
    "\n",
    "symbols_middle = gmaps.symbol_layer(middle_locations, fill_color='blue', stroke_color='blue')\n",
    "fig.add_layer(symbols_middle)\n",
    "\n",
    "symbols_bottom = gmaps.symbol_layer(bottom_locations, fill_color='#E65300', stroke_color='#E65300')\n",
    "fig.add_layer(symbols_bottom)\n",
    "\n",
    "fig\n"
   ]
  },
  {
   "cell_type": "code",
   "execution_count": null,
   "id": "4803d71e",
   "metadata": {},
   "outputs": [],
   "source": [
    "  "
   ]
  },
  {
   "cell_type": "code",
   "execution_count": null,
   "id": "192b1701",
   "metadata": {},
   "outputs": [],
   "source": [
    "# End of Amanda's code"
   ]
  },
  {
   "cell_type": "code",
   "execution_count": null,
   "id": "d137802c",
   "metadata": {},
   "outputs": [],
   "source": [
    "# Start John's code"
   ]
  },
  {
   "cell_type": "code",
   "execution_count": null,
   "id": "b54ba0a0",
   "metadata": {},
   "outputs": [],
   "source": [
    "# End John's code"
   ]
  },
  {
   "cell_type": "code",
   "execution_count": null,
   "id": "2129edca",
   "metadata": {},
   "outputs": [],
   "source": [
    "# Start Nathan's code"
   ]
  },
  {
   "cell_type": "markdown",
   "id": "4031871d",
   "metadata": {},
   "source": [
    "Before beginning any analysis, it's important to note that with GDP data, we dropped countries in the original data file that have \"na\" values in GDP per capita, all of these countries have \"na\" because the GDP per capita may be in some way hard to determine, therefore what remains should be truthful values that can all be used in analysis. For this reason, to look for outliers would be redundant, because it has effectively been done for us."
   ]
  },
  {
   "cell_type": "code",
   "execution_count": null,
   "id": "0f8dc5e3",
   "metadata": {
    "scrolled": true
   },
   "outputs": [],
   "source": [
    "x_axis = happiness_2021[\"GDP per capita\"]\n",
    "y_axis = happiness_2021[\"Happiness score\"]\n",
    "\n",
    "\n",
    "(slope, intercept, rvalue, pvalue, stderr) = st.linregress(x_axis, y_axis)\n",
    "regress_values = x_axis * slope + intercept\n",
    "line_eq = f\"y = {round(slope, 2)}x + {round(intercept, 2)}\"\n",
    "rsquared = f\"r squared = {round(rvalue * rvalue, 2)}\"\n",
    "\n",
    "plt.plot(x_axis, regress_values, color='red')\n",
    "plt.annotate(line_eq, (7,7.1), fontsize=15, color=\"red\")\n",
    "plt.annotate(rsquared, (7,6.6), fontsize=15, color=\"red\")\n",
    "\n",
    "plt.title(\"GDP Per Capita vs Happiness\")\n",
    "plt.ylabel(\"Happiness\")\n",
    "plt.xlabel(\"GDP Per Capita\")\n",
    "\n",
    "plt.scatter(x_axis, y_axis)\n",
    "plt.show()"
   ]
  },
  {
   "cell_type": "markdown",
   "id": "c9003aac",
   "metadata": {},
   "source": [
    "This is a simple scatterplot of the data, along with a linear regression, showing a general trend where higher GDP Per Capita leads to a higher happiness score."
   ]
  },
  {
   "cell_type": "code",
   "execution_count": null,
   "id": "33f6c3a2",
   "metadata": {},
   "outputs": [],
   "source": [
    "happiness_2021[\"GDP per capita\"].hist(bins=25)\n",
    "\n",
    "plt.xlabel(\"GDP Per Capita\")\n",
    "plt.ylabel(\"Counts\")\n",
    "plt.title(\"Distribution of GDP Per Capita data\")\n",
    "\n",
    "plt.show()"
   ]
  },
  {
   "cell_type": "markdown",
   "id": "5617b21a",
   "metadata": {},
   "source": [
    "This plot uses bins of the GDP data to visualize where the GDP is clustered. We can use this to approximate higher, lower, and middle thirds of the data."
   ]
  },
  {
   "cell_type": "code",
   "execution_count": null,
   "id": "b373eac4",
   "metadata": {},
   "outputs": [],
   "source": [
    "# Extract individual groups\n",
    "group0 = happiness_2021[happiness_2021[\"GDP per capita\"] < 8.75][\"Happiness score\"]\n",
    "group1 = happiness_2021[happiness_2021[\"GDP per capita\"].between(8.75, 10.25, inclusive='both')][\"Happiness score\"]\n",
    "group2 = happiness_2021[happiness_2021[\"GDP per capita\"] > 10.25][\"Happiness score\"]\n",
    "\n",
    "# Perform the ANOVA\n",
    "st.f_oneway(group0, group1, group2)"
   ]
  },
  {
   "cell_type": "markdown",
   "id": "9ef5f1e7",
   "metadata": {},
   "source": [
    "With a P value much lower than .05, we can reject the null hypothesis that GDP per capita has no effect on happiness score."
   ]
  },
  {
   "cell_type": "code",
   "execution_count": null,
   "id": "e26456cd",
   "metadata": {},
   "outputs": [],
   "source": [
    "# End Nathan's code"
   ]
  },
  {
   "cell_type": "code",
   "execution_count": null,
   "id": "031e05e5",
   "metadata": {},
   "outputs": [],
   "source": [
    "# Start Joey's code"
   ]
  },
  {
   "cell_type": "code",
   "execution_count": null,
   "id": "25aeabcf",
   "metadata": {},
   "outputs": [],
   "source": [
    "# End Joey's code"
   ]
  }
 ],
 "metadata": {
  "kernelspec": {
   "display_name": "Python 3 (ipykernel)",
   "language": "python",
   "name": "python3"
  },
  "language_info": {
   "codemirror_mode": {
    "name": "ipython",
    "version": 3
   },
   "file_extension": ".py",
   "mimetype": "text/x-python",
   "name": "python",
   "nbconvert_exporter": "python",
   "pygments_lexer": "ipython3",
   "version": "3.8.13"
  }
 },
 "nbformat": 4,
 "nbformat_minor": 5
}
