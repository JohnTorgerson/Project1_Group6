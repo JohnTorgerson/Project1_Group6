{
 "cells": [
  {
   "cell_type": "code",
   "execution_count": null,
   "id": "526bb656",
   "metadata": {},
   "outputs": [],
   "source": [
    "# Start of John's code"
   ]
  },
  {
   "cell_type": "code",
   "execution_count": null,
   "id": "781db499",
   "metadata": {},
   "outputs": [],
   "source": [
    "import pandas as pd\n",
    "import numpy as np\n",
    "import matplotlib.pyplot as plt\n",
    "import scipy.stats as st"
   ]
  },
  {
   "cell_type": "code",
   "execution_count": null,
   "id": "d4194b30",
   "metadata": {},
   "outputs": [],
   "source": [
    "import warnings\n",
    "warnings.filterwarnings('ignore')"
   ]
  },
  {
   "cell_type": "code",
   "execution_count": null,
   "id": "016451f4",
   "metadata": {},
   "outputs": [],
   "source": [
    "happiness_2021 = pd.read_csv('cleaned_happiness_2021.csv')"
   ]
  },
  {
   "cell_type": "code",
   "execution_count": null,
   "id": "746008a3",
   "metadata": {},
   "outputs": [],
   "source": [
    "happiness_2021.set_index('Country')"
   ]
  },
  {
   "cell_type": "markdown",
   "id": "3bf56b97",
   "metadata": {},
   "source": [
    "### Healthy Life Expectancy\n",
    "Per the World Happiness Report: \n",
    ">Healthy Life Expectancy (HLE). Healthy life expectancies at birth are based\n",
    "on the data extracted from the World Health Organization’s (WHO) Global\n",
    "Health Observatory data repository (Last updated: 2020-09-28)"
   ]
  },
  {
   "cell_type": "code",
   "execution_count": null,
   "id": "540f5174",
   "metadata": {},
   "outputs": [],
   "source": [
    "x_values = happiness_2021['Healthy life expectancy']\n",
    "y_values = happiness_2021['Happiness score']"
   ]
  },
  {
   "cell_type": "code",
   "execution_count": null,
   "id": "ec7a8bf3",
   "metadata": {},
   "outputs": [],
   "source": [
    "quartiles = x_values.quantile([0.25,0.5,0.75])\n",
    "lowerq = quartiles[0.25]\n",
    "upperq = quartiles[0.75]\n",
    "iqr = upperq-lowerq\n",
    "lower_bound = lowerq - (1.5*iqr)\n",
    "upper_bound = upperq + (1.5*iqr)\n",
    "print(f\"Q1: {lowerq}\\nQ3: {upperq}\\nIQR: {iqr}\\nLower Bound: {lower_bound}\\nUpper Bound: {upper_bound}\")"
   ]
  },
  {
   "cell_type": "code",
   "execution_count": null,
   "id": "9d02c4e7",
   "metadata": {},
   "outputs": [],
   "source": [
    "outliers = happiness_2021.loc[x_values < lower_bound,:]\n",
    "outliers\n",
    "outliers.sort_values('Healthy life expectancy')"
   ]
  },
  {
   "cell_type": "code",
   "execution_count": null,
   "id": "45b173a2",
   "metadata": {},
   "outputs": [],
   "source": [
    "plt.boxplot(x_values, showmeans=True)\n",
    "plt.title(\"Life Expectancy\")\n",
    "for country in outliers['Country'].values:\n",
    "    y = outliers.loc[outliers['Country'] ==country,'Healthy life expectancy']\n",
    "    plt.annotate(Country, (1.05, y), fontsize=10, color=\"blue\")\n",
    "plt.show()"
   ]
  },
  {
   "cell_type": "markdown",
   "id": "441c1ea8",
   "metadata": {},
   "source": [
    "### There are no outliers in Healthy life expectancy"
   ]
  },
  {
   "cell_type": "code",
   "execution_count": null,
   "id": "4278a8b2",
   "metadata": {},
   "outputs": [],
   "source": [
    "(slope, intercept, rvalue, pvalue, stderr) = st.linregress(x_values, y_values)\n",
    "regress_values = x_values * slope + intercept\n",
    "line_eq = \"y = \" + str(round(slope,2)) + \"x + \" + str(round(intercept,2))"
   ]
  },
  {
   "cell_type": "code",
   "execution_count": null,
   "id": "f802a54c",
   "metadata": {},
   "outputs": [],
   "source": [
    "plt.scatter(x_values,y_values)\n",
    "plt.plot(x_values,regress_values,\"r-\")\n",
    "plt.annotate(line_eq,(52,7),fontsize=15,color=\"indigo\")\n",
    "plt.xlabel(\"Healthy Life Expectancy\")\n",
    "plt.ylabel(\"Happiness Score\")\n",
    "plt.title(\"Life Expectancy & Happiness\")\n",
    "plt.show()"
   ]
  },
  {
   "cell_type": "markdown",
   "id": "6c786d67",
   "metadata": {},
   "source": [
    "# Hypothesis:\n",
    "\n",
    ">When healthy life expectancy is high, there is a measurable increase in the Cantrill happiness score. <br>Null Hypothesis (H<sub>0</sub>):  When healthy life expectancy is high, there is no measurable impact in the Cantrill happiness score whatsoever.<br>If p-value is < 0.05 then we reject the null hypothesis. \n"
   ]
  },
  {
   "cell_type": "code",
   "execution_count": null,
   "id": "75d07dfa",
   "metadata": {},
   "outputs": [],
   "source": [
    "pr = round(st.pearsonr(x_values,y_values)[0],2)\n",
    "if pr > 0.7 :\n",
    "    link = \"strong\"\n",
    "else :\n",
    "    link = \"not strong\"\n",
    "    \n",
    "print(f'The correlation between Life Expectancy and Happiness is {pr}, suggesting a {link} link between the two factors.')"
   ]
  },
  {
   "cell_type": "code",
   "execution_count": null,
   "id": "318f45ca",
   "metadata": {},
   "outputs": [],
   "source": [
    "# Sort Data by Healthy life expectancy\n",
    "hle_test = happiness_2021[['Country', 'Happiness score', \"Healthy life expectancy\"]]\n",
    "hle_test = hle_test.sort_values('Healthy life expectancy')\n",
    "size = hle_test.count()\n",
    "#size ## 110 countries in total\n",
    "#groups will have 22 in each, graded A, B, C, D, & F"
   ]
  },
  {
   "cell_type": "code",
   "execution_count": null,
   "id": "c2ab2500",
   "metadata": {},
   "outputs": [],
   "source": [
    "F = hle_test.iloc[0: 22, :]\n",
    "F['Healthy life expectancy'].std()  # Highest Deviation"
   ]
  },
  {
   "cell_type": "code",
   "execution_count": null,
   "id": "a2114024",
   "metadata": {},
   "outputs": [],
   "source": [
    "D = hle_test.iloc[22: 44, :]\n",
    "D['Healthy life expectancy'].std()  # High Deviation"
   ]
  },
  {
   "cell_type": "code",
   "execution_count": null,
   "id": "60678aa1",
   "metadata": {},
   "outputs": [],
   "source": [
    "C = hle_test.iloc[44: 66, :]\n",
    "C['Healthy life expectancy'].std()  # Lowest Deviation"
   ]
  },
  {
   "cell_type": "code",
   "execution_count": null,
   "id": "32513faa",
   "metadata": {},
   "outputs": [],
   "source": [
    "B = hle_test.iloc[66: 88, :]\n",
    "B['Healthy life expectancy'].std()  # Low Deviation"
   ]
  },
  {
   "cell_type": "code",
   "execution_count": null,
   "id": "fb1707e6",
   "metadata": {},
   "outputs": [],
   "source": [
    "A = hle_test.iloc[88: 110, :]\n",
    "A['Healthy life expectancy'].std()  # Low Deviation"
   ]
  },
  {
   "cell_type": "code",
   "execution_count": null,
   "id": "522bd867",
   "metadata": {},
   "outputs": [],
   "source": [
    "st.shapiro(happiness_2021['Healthy life expectancy'])\n",
    "        "
   ]
  },
  {
   "cell_type": "markdown",
   "id": "ba877a1a",
   "metadata": {},
   "source": [
    "### Overall, we reject the H<sub>0</sub> using the Shapiro-Wilk test"
   ]
  },
  {
   "cell_type": "code",
   "execution_count": null,
   "id": "9776b451",
   "metadata": {},
   "outputs": [],
   "source": [
    "st.shapiro(F['Healthy life expectancy'])"
   ]
  },
  {
   "cell_type": "code",
   "execution_count": null,
   "id": "3903b7db",
   "metadata": {},
   "outputs": [],
   "source": [
    "st.shapiro(D['Healthy life expectancy'])"
   ]
  },
  {
   "cell_type": "code",
   "execution_count": null,
   "id": "3375bdba",
   "metadata": {},
   "outputs": [],
   "source": [
    "st.shapiro(C['Healthy life expectancy'])"
   ]
  },
  {
   "cell_type": "code",
   "execution_count": null,
   "id": "e8731872",
   "metadata": {},
   "outputs": [],
   "source": [
    "st.shapiro(B['Healthy life expectancy'])"
   ]
  },
  {
   "cell_type": "code",
   "execution_count": null,
   "id": "8a7417cb",
   "metadata": {},
   "outputs": [],
   "source": [
    "st.shapiro(A['Healthy life expectancy'])"
   ]
  },
  {
   "cell_type": "markdown",
   "id": "e6caf7b3",
   "metadata": {},
   "source": [
    "#### Granularly, we fail to reject the H<sub>0</sub> in subset nations with the 20% lowest healthy life expectancy<br>and as we increase life expectancy, we creep closer to our threshold until we reach the nations<br>with the 20% highest expectancy in which we do reject the null hypothesis even within that subset."
   ]
  },
  {
   "cell_type": "code",
   "execution_count": null,
   "id": "75df753c",
   "metadata": {},
   "outputs": [],
   "source": [
    "grF = happiness_2021[happiness_2021['Healthy life expectancy'] < 60][\"Happiness score\"]\n",
    "grD = happiness_2021[happiness_2021['Healthy life expectancy'].between(59.99, 65.40, inclusive='both')][\"Happiness score\"]\n",
    "grC = happiness_2021[happiness_2021['Healthy life expectancy'].between(65.40, 67.20, inclusive='both')][\"Happiness score\"]\n",
    "grB = happiness_2021[happiness_2021['Healthy life expectancy'].between(67.20, 70.33, inclusive='both')][\"Happiness score\"]\n",
    "grA = happiness_2021[happiness_2021['Healthy life expectancy'] > 70.33][\"Happiness score\"]"
   ]
  },
  {
   "cell_type": "code",
   "execution_count": null,
   "id": "fa39efce",
   "metadata": {},
   "outputs": [],
   "source": [
    "st.f_oneway(grA, grB, grC, grD, grF)"
   ]
  },
  {
   "cell_type": "markdown",
   "id": "9699942b",
   "metadata": {},
   "source": [
    "### Using the ANOVA test, H<sub>0</sub> is rejected."
   ]
  },
  {
   "cell_type": "code",
   "execution_count": null,
   "id": "3449e553",
   "metadata": {},
   "outputs": [],
   "source": [
    "st.kruskal(grA, grB, grC, grD, grF)"
   ]
  },
  {
   "cell_type": "markdown",
   "id": "cfab018f",
   "metadata": {},
   "source": [
    "### Using the Kruskal-Wallis H-test, H<sub>0</sub> is rejected."
   ]
  },
  {
   "cell_type": "code",
   "execution_count": null,
   "id": "b195f642",
   "metadata": {},
   "outputs": [],
   "source": [
    "happiness_2021.boxplot('Happiness score', by='Healthy life expectancy', figsize=(12, 5))\n",
    "plt.ylabel('Happiness Score')\n",
    "plt.xticks(rotation=90)\n",
    "plt.show()"
   ]
  },
  {
   "cell_type": "code",
   "execution_count": null,
   "id": "8442d1bf",
   "metadata": {},
   "outputs": [],
   "source": [
    "F.boxplot('Happiness score', by='Healthy life expectancy', figsize=(12, 5))\n",
    "plt.ylabel('Happiness Score')\n",
    "plt.xticks(rotation=90)\n",
    "plt.show()"
   ]
  },
  {
   "cell_type": "markdown",
   "id": "cb23ec23",
   "metadata": {},
   "source": [
    "#### Group F - Lowest 22 life expectancy nations<br>Range 51.3 yrs to 59.4 yrs<br>Happiness scores between 3.0 and 5.5"
   ]
  },
  {
   "cell_type": "code",
   "execution_count": null,
   "id": "03a76bf7",
   "metadata": {},
   "outputs": [],
   "source": [
    "D.boxplot('Happiness score', by='Healthy life expectancy', figsize=(12, 5))\n",
    "plt.ylabel('Happiness Score')\n",
    "plt.xticks(rotation=90)\n",
    "plt.show()"
   ]
  },
  {
   "cell_type": "markdown",
   "id": "7484a7dd",
   "metadata": {},
   "source": [
    "#### Group D - 2nd Lowest 22 life expectancy nations<br>Range 60.0 yrs to 65.3 yrs<br>Happiness scores between 3.5 and 6.5"
   ]
  },
  {
   "cell_type": "code",
   "execution_count": null,
   "id": "1342c24d",
   "metadata": {},
   "outputs": [],
   "source": [
    "C.boxplot('Happiness score', by='Healthy life expectancy', figsize=(12, 5))\n",
    "plt.ylabel('Happiness Score')\n",
    "plt.xticks(rotation=90)\n",
    "plt.show()"
   ]
  },
  {
   "cell_type": "markdown",
   "id": "75e5671b",
   "metadata": {},
   "source": [
    "#### Group C - Middle 22 life expectancy nations<br>Range 65.5 yrs to 67.1 yrs<br>Happiness scores between 4.0 and 7.0 with one stray scoring 2.2"
   ]
  },
  {
   "cell_type": "code",
   "execution_count": null,
   "id": "082427f6",
   "metadata": {},
   "outputs": [],
   "source": [
    "B.boxplot('Happiness score', by='Healthy life expectancy', figsize=(12, 5))\n",
    "plt.ylabel('Happiness Score')\n",
    "plt.xticks(rotation=90)\n",
    "plt.show()"
   ]
  },
  {
   "cell_type": "markdown",
   "id": "2a784bb3",
   "metadata": {},
   "source": [
    "#### Group B - 2nd Highest 22 life expectancy nations<br>Range 67.3 yrs to 70.3 yrs<br>Happiness scores between 4.0 and 7.0"
   ]
  },
  {
   "cell_type": "code",
   "execution_count": null,
   "id": "61682cca",
   "metadata": {},
   "outputs": [],
   "source": [
    "A.boxplot('Happiness score', by='Healthy life expectancy', figsize=(12, 5))\n",
    "plt.ylabel('Happiness Score')\n",
    "plt.xticks(rotation=90)\n",
    "plt.show()"
   ]
  },
  {
   "cell_type": "markdown",
   "id": "e7f94d79",
   "metadata": {},
   "source": [
    "#### Group A - Highest 22 life expectancy nations<br>Range 70.3 yrs to 74.3 yrs<br>Happiness scores between 6.0 and 8.0"
   ]
  },
  {
   "cell_type": "code",
   "execution_count": null,
   "id": "192b1701",
   "metadata": {},
   "outputs": [],
   "source": [
    "# End of John's code"
   ]
  },
  {
   "cell_type": "code",
   "execution_count": null,
   "id": "d137802c",
   "metadata": {},
   "outputs": [],
   "source": [
    "# Start of Amanda's code"
   ]
  },
  {
   "cell_type": "code",
   "execution_count": null,
   "id": "b54ba0a0",
   "metadata": {},
   "outputs": [],
   "source": [
    "# End of Amanda's code"
   ]
  },
  {
   "cell_type": "code",
   "execution_count": null,
   "id": "89b1aa13",
   "metadata": {},
   "outputs": [],
   "source": [
    "# Start of Nathan's code"
   ]
  },
  {
   "cell_type": "code",
   "execution_count": null,
   "id": "6ce7bb0c",
   "metadata": {},
   "outputs": [],
   "source": [
    "# End of Nathan's code"
   ]
  },
  {
   "cell_type": "code",
   "execution_count": null,
   "id": "cf10f2b3",
   "metadata": {},
   "outputs": [],
   "source": [
    "# Start of Joey's code"
   ]
  },
  {
   "cell_type": "code",
   "execution_count": null,
   "id": "a0501c19",
   "metadata": {},
   "outputs": [],
   "source": [
    "# End of Joey's code"
   ]
  }
 ],
 "metadata": {
  "kernelspec": {
   "display_name": "Python 3 (ipykernel)",
   "language": "python",
   "name": "python3"
  },
  "language_info": {
   "codemirror_mode": {
    "name": "ipython",
    "version": 3
   },
   "file_extension": ".py",
   "mimetype": "text/x-python",
   "name": "python",
   "nbconvert_exporter": "python",
   "pygments_lexer": "ipython3",
   "version": "3.8.13"
  }
 },
 "nbformat": 4,
 "nbformat_minor": 5
}
