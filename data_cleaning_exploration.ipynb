{
 "cells": [
  {
   "cell_type": "code",
   "execution_count": null,
   "id": "3ea990b5",
   "metadata": {},
   "outputs": [],
   "source": [
    "import pandas as pd\n",
    "import numpy as np\n",
    "import matplotlib.pyplot as plt\n",
    "import scipy.stats as st"
   ]
  },
  {
   "cell_type": "code",
   "execution_count": null,
   "id": "d7cb6cc5",
   "metadata": {},
   "outputs": [],
   "source": [
    "file = \"DataForTable2.1.csv\"\n",
    "happiness_years = pd.read_csv(file)\n",
    "happiness_years.head()"
   ]
  },
  {
   "cell_type": "code",
   "execution_count": null,
   "id": "fd224158",
   "metadata": {},
   "outputs": [],
   "source": [
    "happiness_years.describe()"
   ]
  },
  {
   "cell_type": "code",
   "execution_count": null,
   "id": "7e440aa8",
   "metadata": {},
   "outputs": [],
   "source": [
    "happiness_years.loc[happiness_years[\"Generosity\"] == 0]"
   ]
  },
  {
   "cell_type": "code",
   "execution_count": null,
   "id": "34756f0a",
   "metadata": {},
   "outputs": [],
   "source": [
    "# keep needed series\n",
    "happiness_2021 = happiness_years.loc[happiness_years['year']==happiness_years['year'].max(),\n",
    "                                   [\"Country name\",\"Life Ladder\",\"Log GDP per capita\",\"Social support\",\n",
    "                                   \"Healthy life expectancy at birth\",\"Freedom to make life choices\"]]\n",
    "happiness_2021[\"Country name\"].nunique()"
   ]
  },
  {
   "cell_type": "code",
   "execution_count": null,
   "id": "c31c4761",
   "metadata": {},
   "outputs": [],
   "source": [
    "# HOW TO HANDLE NaN VALUES - remove null values for any of the 4 colums we're looking at\n",
    "\n",
    "#set NaN values to 0 - none of the colums have a legitimate value of 0\n",
    "#happiness_years = happiness_years.fillna(0)\n",
    "#happiness_years.head()\n",
    "happiness_2021 = happiness_2021.dropna()\n",
    "happiness_2021.head()"
   ]
  },
  {
   "cell_type": "code",
   "execution_count": null,
   "id": "35e8f79b",
   "metadata": {},
   "outputs": [],
   "source": [
    "happiness_2021 = happiness_2021.rename(columns = {'Log GDP per capita': 'GDP per capita',\n",
    "                                              'Life Ladder':'Happiness score',\n",
    "                                             'Healthy life expectancy at birth': 'healthy life expectancy',\n",
    "                                                 'Country name':'Country'})\n",
    "happiness_2021.head()"
   ]
  },
  {
   "cell_type": "code",
   "execution_count": null,
   "id": "f4e97281",
   "metadata": {},
   "outputs": [],
   "source": [
    "#corr table for reference\n",
    "corr = happiness_2021.corr()\n",
    "corr = corr.style.background_gradient(cmap='PRGn')\n",
    "corr"
   ]
  },
  {
   "cell_type": "code",
   "execution_count": null,
   "id": "f228e1f5",
   "metadata": {},
   "outputs": [],
   "source": [
    "#export to csv\n",
    "happiness_2021.to_csv('cleaned_happiness_2021.csv')"
   ]
  },
  {
   "cell_type": "code",
   "execution_count": null,
   "id": "526bb656",
   "metadata": {},
   "outputs": [],
   "source": [
    "# Start of Amanda's code"
   ]
  },
  {
   "cell_type": "markdown",
   "id": "3bf56b97",
   "metadata": {},
   "source": [
    "### Social Support\n",
    "Per the World Happiness Report: \n",
    ">Social support (or having someone to count on in times of trouble) is the national average of the binary responses (either 0 or 1) to the GWP question “If you were in trouble, do you have relatives or friends you can count on to help you whenever you need them, or not?”"
   ]
  },
  {
   "cell_type": "markdown",
   "id": "8796d96e",
   "metadata": {},
   "source": [
    "### \"Outliers\"\n",
    "Two nations stick out as having outlier social support values (see table below). They are also easily located on the regression chart. Benin in particular sticks out for having a very low social support, but a noticably higher hapiness score than Afghanistan. "
   ]
  },
  {
   "cell_type": "code",
   "execution_count": null,
   "id": "540f5174",
   "metadata": {},
   "outputs": [],
   "source": [
    "x_values = happiness_2021['Social support']\n",
    "y_values = happiness_2021['Life Ladder']"
   ]
  },
  {
   "cell_type": "code",
   "execution_count": null,
   "id": "ec7a8bf3",
   "metadata": {},
   "outputs": [],
   "source": [
    "quartiles = x_values.quantile([0.25,0.5,0.75])\n",
    "lowerq = quartiles[0.25]\n",
    "upperq = quartiles[0.75]\n",
    "iqr = upperq-lowerq\n",
    "lower_bound = lowerq - (1.5*iqr)\n",
    "upper_bound = upperq + (1.5*iqr)\n",
    "print(f\"Q1: {lowerq}\\nQ3: {upperq}\\nIQR: {iqr}\\nLower Bound: {lower_bound}\\nUpper Bound: {upper_bound}\")"
   ]
  },
  {
   "cell_type": "code",
   "execution_count": null,
   "id": "9d02c4e7",
   "metadata": {},
   "outputs": [],
   "source": [
    "outliers = happiness_2021.loc[x_values<lower_bound,:]\n",
    "outliers\n",
    "outliers.sort_values('Social support')"
   ]
  },
  {
   "cell_type": "code",
   "execution_count": null,
   "id": "45b173a2",
   "metadata": {},
   "outputs": [],
   "source": [
    "plt.boxplot(x_values, showmeans=True)\n",
    "plt.title(\"Social Support Values\")\n",
    "for country in outliers['Country name'].values:\n",
    "    y = outliers.loc[outliers['Country name']==country,'Social support']\n",
    "    plt.annotate(country,(1.05,y),fontsize=10,color=\"red\")\n",
    "plt.show()"
   ]
  },
  {
   "cell_type": "code",
   "execution_count": null,
   "id": "4278a8b2",
   "metadata": {},
   "outputs": [],
   "source": [
    "(slope, intercept, rvalue, pvalue, stderr) = st.linregress(x_values, y_values)\n",
    "regress_values = x_values * slope + intercept\n",
    "line_eq = \"y = \" + str(round(slope,2)) + \"x + \" + str(round(intercept,2))"
   ]
  },
  {
   "cell_type": "code",
   "execution_count": null,
   "id": "f802a54c",
   "metadata": {},
   "outputs": [],
   "source": [
    "plt.scatter(x_values,y_values)\n",
    "plt.plot(x_values,regress_values,\"r-\")\n",
    "plt.annotate(line_eq,(0.7,2.4),fontsize=15,color=\"red\")\n",
    "plt.xlabel(\"Social Support\")\n",
    "plt.ylabel(\"Happiness Score\")\n",
    "plt.title(\"Social Support\\nvs\\nTotal Happiness Score\")\n",
    "plt.show()"
   ]
  },
  {
   "cell_type": "code",
   "execution_count": null,
   "id": "75d07dfa",
   "metadata": {},
   "outputs": [],
   "source": [
    "pr = round(st.pearsonr(x_values,y_values)[0],2)\n",
    "print(f'The correlation between social support and happiness is {pr}, suggesting a strong link between the two factors.')"
   ]
  },
  {
   "cell_type": "code",
   "execution_count": null,
   "id": "d60c27d7",
   "metadata": {},
   "outputs": [],
   "source": [
    "bottom_10 = happiness_2021.sort_values('Social support').head(10)\n",
    "bottom_10.sort_values(['Life Ladder','Social support'])"
   ]
  },
  {
   "cell_type": "code",
   "execution_count": null,
   "id": "038fca55",
   "metadata": {},
   "outputs": [],
   "source": [
    "x_values = bottom_10['Social support']\n",
    "y_values = bottom_10['Life Ladder']\n",
    "(slope, intercept, rvalue, pvalue, stderr) = st.linregress(x_values, y_values)\n",
    "regress_values = x_values * slope + intercept\n",
    "line_eq = \"y = \" + str(round(slope,2)) + \"x + \" + str(round(intercept,2))\n",
    "plt.scatter(x_values,y_values)\n",
    "plt.plot(x_values,regress_values,\"r-\")\n",
    "plt.annotate(line_eq,(0.525,2.4),fontsize=15,color=\"red\")\n",
    "plt.xlabel(\"Social Support\")\n",
    "plt.ylabel(\"Happiness Score\")\n",
    "plt.title(\"Social Support\\nvs\\nTotal Happiness Score\")\n",
    "plt.show()\n",
    "pr = round(st.pearsonr(x_values,y_values)[0],2)\n",
    "print(f'The correlation between social support and happiness for bottom 10 countries is {pr}')"
   ]
  },
  {
   "cell_type": "code",
   "execution_count": null,
   "id": "192b1701",
   "metadata": {},
   "outputs": [],
   "source": [
    "# End of Amanda's code"
   ]
  },
  {
   "cell_type": "code",
   "execution_count": null,
   "id": "d137802c",
   "metadata": {},
   "outputs": [],
   "source": [
    "# Start John's code"
   ]
  },
  {
   "cell_type": "code",
   "execution_count": null,
   "id": "b54ba0a0",
   "metadata": {},
   "outputs": [],
   "source": [
    "# End John's code"
   ]
  },
  {
   "cell_type": "code",
   "execution_count": null,
   "id": "2129edca",
   "metadata": {},
   "outputs": [],
   "source": [
    "# Start Nathan's code"
   ]
  },
  {
   "cell_type": "code",
   "execution_count": null,
   "id": "e26456cd",
   "metadata": {},
   "outputs": [],
   "source": [
    "# End Nathan's code"
   ]
  },
  {
   "cell_type": "code",
   "execution_count": null,
   "id": "031e05e5",
   "metadata": {},
   "outputs": [],
   "source": [
    "# Start Joey's code"
   ]
  },
  {
   "cell_type": "code",
   "execution_count": null,
   "id": "25aeabcf",
   "metadata": {},
   "outputs": [],
   "source": [
    "# End Joey's code"
   ]
  }
 ],
 "metadata": {
  "kernelspec": {
   "display_name": "Python 3 (ipykernel)",
   "language": "python",
   "name": "python3"
  },
  "language_info": {
   "codemirror_mode": {
    "name": "ipython",
    "version": 3
   },
   "file_extension": ".py",
   "mimetype": "text/x-python",
   "name": "python",
   "nbconvert_exporter": "python",
   "pygments_lexer": "ipython3",
   "version": "3.8.13"
  }
 },
 "nbformat": 4,
 "nbformat_minor": 5
}
