{
 "cells": [
  {
   "cell_type": "code",
   "execution_count": 2,
   "id": "3ea990b5",
   "metadata": {},
   "outputs": [],
   "source": [
    "import pandas as pd\n",
    "import numpy as np\n",
    "import matplotlib.pyplot as plt\n",
    "import scipy.stats as st\n",
    "import gmaps\n",
    "import requests\n",
    "import json\n",
    "from config import gkey"
   ]
  },
  {
   "cell_type": "code",
   "execution_count": 3,
   "id": "87096949",
   "metadata": {},
   "outputs": [],
   "source": [
    "import warnings\n",
    "warnings.filterwarnings('ignore')"
   ]
  },
  {
   "cell_type": "code",
   "execution_count": 4,
   "id": "d7cb6cc5",
   "metadata": {},
   "outputs": [
    {
     "data": {
      "text/html": [
       "<div>\n",
       "<style scoped>\n",
       "    .dataframe tbody tr th:only-of-type {\n",
       "        vertical-align: middle;\n",
       "    }\n",
       "\n",
       "    .dataframe tbody tr th {\n",
       "        vertical-align: top;\n",
       "    }\n",
       "\n",
       "    .dataframe thead th {\n",
       "        text-align: right;\n",
       "    }\n",
       "</style>\n",
       "<table border=\"1\" class=\"dataframe\">\n",
       "  <thead>\n",
       "    <tr style=\"text-align: right;\">\n",
       "      <th></th>\n",
       "      <th>Country name</th>\n",
       "      <th>year</th>\n",
       "      <th>Life Ladder</th>\n",
       "      <th>Log GDP per capita</th>\n",
       "      <th>Social support</th>\n",
       "      <th>Healthy life expectancy at birth</th>\n",
       "      <th>Freedom to make life choices</th>\n",
       "      <th>Generosity</th>\n",
       "      <th>Perceptions of corruption</th>\n",
       "      <th>Positive affect</th>\n",
       "      <th>Negative affect</th>\n",
       "      <th>Confidence in national government</th>\n",
       "    </tr>\n",
       "  </thead>\n",
       "  <tbody>\n",
       "    <tr>\n",
       "      <th>0</th>\n",
       "      <td>Afghanistan</td>\n",
       "      <td>2008</td>\n",
       "      <td>3.723590</td>\n",
       "      <td>7.302574</td>\n",
       "      <td>0.450662</td>\n",
       "      <td>50.500000</td>\n",
       "      <td>0.718114</td>\n",
       "      <td>0.173169</td>\n",
       "      <td>0.881686</td>\n",
       "      <td>0.414297</td>\n",
       "      <td>0.258195</td>\n",
       "      <td>0.612072</td>\n",
       "    </tr>\n",
       "    <tr>\n",
       "      <th>1</th>\n",
       "      <td>Afghanistan</td>\n",
       "      <td>2009</td>\n",
       "      <td>4.401778</td>\n",
       "      <td>7.472446</td>\n",
       "      <td>0.552308</td>\n",
       "      <td>50.799999</td>\n",
       "      <td>0.678896</td>\n",
       "      <td>0.195469</td>\n",
       "      <td>0.850035</td>\n",
       "      <td>0.481421</td>\n",
       "      <td>0.237092</td>\n",
       "      <td>0.611545</td>\n",
       "    </tr>\n",
       "    <tr>\n",
       "      <th>2</th>\n",
       "      <td>Afghanistan</td>\n",
       "      <td>2010</td>\n",
       "      <td>4.758381</td>\n",
       "      <td>7.579183</td>\n",
       "      <td>0.539075</td>\n",
       "      <td>51.099998</td>\n",
       "      <td>0.600127</td>\n",
       "      <td>0.125859</td>\n",
       "      <td>0.706766</td>\n",
       "      <td>0.516907</td>\n",
       "      <td>0.275324</td>\n",
       "      <td>0.299357</td>\n",
       "    </tr>\n",
       "    <tr>\n",
       "      <th>3</th>\n",
       "      <td>Afghanistan</td>\n",
       "      <td>2011</td>\n",
       "      <td>3.831719</td>\n",
       "      <td>7.552006</td>\n",
       "      <td>0.521104</td>\n",
       "      <td>51.400002</td>\n",
       "      <td>0.495901</td>\n",
       "      <td>0.167723</td>\n",
       "      <td>0.731109</td>\n",
       "      <td>0.479835</td>\n",
       "      <td>0.267175</td>\n",
       "      <td>0.307386</td>\n",
       "    </tr>\n",
       "    <tr>\n",
       "      <th>4</th>\n",
       "      <td>Afghanistan</td>\n",
       "      <td>2012</td>\n",
       "      <td>3.782938</td>\n",
       "      <td>7.637953</td>\n",
       "      <td>0.520637</td>\n",
       "      <td>51.700001</td>\n",
       "      <td>0.530935</td>\n",
       "      <td>0.241247</td>\n",
       "      <td>0.775620</td>\n",
       "      <td>0.613513</td>\n",
       "      <td>0.267919</td>\n",
       "      <td>0.435440</td>\n",
       "    </tr>\n",
       "  </tbody>\n",
       "</table>\n",
       "</div>"
      ],
      "text/plain": [
       "  Country name  year  Life Ladder  Log GDP per capita  Social support  \\\n",
       "0  Afghanistan  2008     3.723590            7.302574        0.450662   \n",
       "1  Afghanistan  2009     4.401778            7.472446        0.552308   \n",
       "2  Afghanistan  2010     4.758381            7.579183        0.539075   \n",
       "3  Afghanistan  2011     3.831719            7.552006        0.521104   \n",
       "4  Afghanistan  2012     3.782938            7.637953        0.520637   \n",
       "\n",
       "   Healthy life expectancy at birth  Freedom to make life choices  Generosity  \\\n",
       "0                         50.500000                      0.718114    0.173169   \n",
       "1                         50.799999                      0.678896    0.195469   \n",
       "2                         51.099998                      0.600127    0.125859   \n",
       "3                         51.400002                      0.495901    0.167723   \n",
       "4                         51.700001                      0.530935    0.241247   \n",
       "\n",
       "   Perceptions of corruption  Positive affect  Negative affect  \\\n",
       "0                   0.881686         0.414297         0.258195   \n",
       "1                   0.850035         0.481421         0.237092   \n",
       "2                   0.706766         0.516907         0.275324   \n",
       "3                   0.731109         0.479835         0.267175   \n",
       "4                   0.775620         0.613513         0.267919   \n",
       "\n",
       "   Confidence in national government  \n",
       "0                           0.612072  \n",
       "1                           0.611545  \n",
       "2                           0.299357  \n",
       "3                           0.307386  \n",
       "4                           0.435440  "
      ]
     },
     "execution_count": 4,
     "metadata": {},
     "output_type": "execute_result"
    }
   ],
   "source": [
    "file = \"DataForTable2.1.csv\"\n",
    "happiness_years = pd.read_csv(file)\n",
    "happiness_years.head()"
   ]
  },
  {
   "cell_type": "code",
   "execution_count": 6,
   "id": "fd224158",
   "metadata": {},
   "outputs": [
    {
     "data": {
      "text/html": [
       "<div>\n",
       "<style scoped>\n",
       "    .dataframe tbody tr th:only-of-type {\n",
       "        vertical-align: middle;\n",
       "    }\n",
       "\n",
       "    .dataframe tbody tr th {\n",
       "        vertical-align: top;\n",
       "    }\n",
       "\n",
       "    .dataframe thead th {\n",
       "        text-align: right;\n",
       "    }\n",
       "</style>\n",
       "<table border=\"1\" class=\"dataframe\">\n",
       "  <thead>\n",
       "    <tr style=\"text-align: right;\">\n",
       "      <th></th>\n",
       "      <th>year</th>\n",
       "      <th>Life Ladder</th>\n",
       "      <th>Log GDP per capita</th>\n",
       "      <th>Social support</th>\n",
       "      <th>Healthy life expectancy at birth</th>\n",
       "      <th>Freedom to make life choices</th>\n",
       "      <th>Generosity</th>\n",
       "      <th>Perceptions of corruption</th>\n",
       "      <th>Positive affect</th>\n",
       "      <th>Negative affect</th>\n",
       "      <th>Confidence in national government</th>\n",
       "    </tr>\n",
       "  </thead>\n",
       "  <tbody>\n",
       "    <tr>\n",
       "      <th>count</th>\n",
       "      <td>2089.000000</td>\n",
       "      <td>2089.000000</td>\n",
       "      <td>2062.000000</td>\n",
       "      <td>2076.000000</td>\n",
       "      <td>2031.000000</td>\n",
       "      <td>2057.000000</td>\n",
       "      <td>2009.000000</td>\n",
       "      <td>1976.000000</td>\n",
       "      <td>2065.000000</td>\n",
       "      <td>2073.000000</td>\n",
       "      <td>1873.000000</td>\n",
       "    </tr>\n",
       "    <tr>\n",
       "      <th>mean</th>\n",
       "      <td>2013.727621</td>\n",
       "      <td>5.473747</td>\n",
       "      <td>9.378408</td>\n",
       "      <td>0.811542</td>\n",
       "      <td>63.180326</td>\n",
       "      <td>0.745462</td>\n",
       "      <td>0.000102</td>\n",
       "      <td>0.746474</td>\n",
       "      <td>0.651421</td>\n",
       "      <td>0.270544</td>\n",
       "      <td>0.483914</td>\n",
       "    </tr>\n",
       "    <tr>\n",
       "      <th>std</th>\n",
       "      <td>4.455614</td>\n",
       "      <td>1.115567</td>\n",
       "      <td>1.143520</td>\n",
       "      <td>0.118935</td>\n",
       "      <td>6.948546</td>\n",
       "      <td>0.140751</td>\n",
       "      <td>0.161082</td>\n",
       "      <td>0.186136</td>\n",
       "      <td>0.105954</td>\n",
       "      <td>0.085849</td>\n",
       "      <td>0.191515</td>\n",
       "    </tr>\n",
       "    <tr>\n",
       "      <th>min</th>\n",
       "      <td>2005.000000</td>\n",
       "      <td>2.178809</td>\n",
       "      <td>5.526723</td>\n",
       "      <td>0.290184</td>\n",
       "      <td>6.720000</td>\n",
       "      <td>0.257534</td>\n",
       "      <td>-0.335739</td>\n",
       "      <td>0.035198</td>\n",
       "      <td>0.178886</td>\n",
       "      <td>0.082737</td>\n",
       "      <td>0.068769</td>\n",
       "    </tr>\n",
       "    <tr>\n",
       "      <th>25%</th>\n",
       "      <td>2010.000000</td>\n",
       "      <td>4.651972</td>\n",
       "      <td>8.473547</td>\n",
       "      <td>0.747664</td>\n",
       "      <td>58.965000</td>\n",
       "      <td>0.651689</td>\n",
       "      <td>-0.113172</td>\n",
       "      <td>0.689840</td>\n",
       "      <td>0.570057</td>\n",
       "      <td>0.207652</td>\n",
       "      <td>0.334808</td>\n",
       "    </tr>\n",
       "    <tr>\n",
       "      <th>50%</th>\n",
       "      <td>2014.000000</td>\n",
       "      <td>5.405246</td>\n",
       "      <td>9.463269</td>\n",
       "      <td>0.834770</td>\n",
       "      <td>64.980003</td>\n",
       "      <td>0.767357</td>\n",
       "      <td>-0.023366</td>\n",
       "      <td>0.801339</td>\n",
       "      <td>0.662837</td>\n",
       "      <td>0.260328</td>\n",
       "      <td>0.467046</td>\n",
       "    </tr>\n",
       "    <tr>\n",
       "      <th>75%</th>\n",
       "      <td>2017.000000</td>\n",
       "      <td>6.294282</td>\n",
       "      <td>10.347656</td>\n",
       "      <td>0.904682</td>\n",
       "      <td>68.362499</td>\n",
       "      <td>0.857677</td>\n",
       "      <td>0.090584</td>\n",
       "      <td>0.870789</td>\n",
       "      <td>0.737176</td>\n",
       "      <td>0.321706</td>\n",
       "      <td>0.616302</td>\n",
       "    </tr>\n",
       "    <tr>\n",
       "      <th>max</th>\n",
       "      <td>2021.000000</td>\n",
       "      <td>8.018934</td>\n",
       "      <td>11.665803</td>\n",
       "      <td>0.987343</td>\n",
       "      <td>74.349998</td>\n",
       "      <td>0.985178</td>\n",
       "      <td>0.706377</td>\n",
       "      <td>0.983276</td>\n",
       "      <td>0.883586</td>\n",
       "      <td>0.704590</td>\n",
       "      <td>0.993604</td>\n",
       "    </tr>\n",
       "  </tbody>\n",
       "</table>\n",
       "</div>"
      ],
      "text/plain": [
       "              year  Life Ladder  Log GDP per capita  Social support  \\\n",
       "count  2089.000000  2089.000000         2062.000000     2076.000000   \n",
       "mean   2013.727621     5.473747            9.378408        0.811542   \n",
       "std       4.455614     1.115567            1.143520        0.118935   \n",
       "min    2005.000000     2.178809            5.526723        0.290184   \n",
       "25%    2010.000000     4.651972            8.473547        0.747664   \n",
       "50%    2014.000000     5.405246            9.463269        0.834770   \n",
       "75%    2017.000000     6.294282           10.347656        0.904682   \n",
       "max    2021.000000     8.018934           11.665803        0.987343   \n",
       "\n",
       "       Healthy life expectancy at birth  Freedom to make life choices  \\\n",
       "count                       2031.000000                   2057.000000   \n",
       "mean                          63.180326                      0.745462   \n",
       "std                            6.948546                      0.140751   \n",
       "min                            6.720000                      0.257534   \n",
       "25%                           58.965000                      0.651689   \n",
       "50%                           64.980003                      0.767357   \n",
       "75%                           68.362499                      0.857677   \n",
       "max                           74.349998                      0.985178   \n",
       "\n",
       "        Generosity  Perceptions of corruption  Positive affect  \\\n",
       "count  2009.000000                1976.000000      2065.000000   \n",
       "mean      0.000102                   0.746474         0.651421   \n",
       "std       0.161082                   0.186136         0.105954   \n",
       "min      -0.335739                   0.035198         0.178886   \n",
       "25%      -0.113172                   0.689840         0.570057   \n",
       "50%      -0.023366                   0.801339         0.662837   \n",
       "75%       0.090584                   0.870789         0.737176   \n",
       "max       0.706377                   0.983276         0.883586   \n",
       "\n",
       "       Negative affect  Confidence in national government  \n",
       "count      2073.000000                        1873.000000  \n",
       "mean          0.270544                           0.483914  \n",
       "std           0.085849                           0.191515  \n",
       "min           0.082737                           0.068769  \n",
       "25%           0.207652                           0.334808  \n",
       "50%           0.260328                           0.467046  \n",
       "75%           0.321706                           0.616302  \n",
       "max           0.704590                           0.993604  "
      ]
     },
     "execution_count": 6,
     "metadata": {},
     "output_type": "execute_result"
    }
   ],
   "source": [
    "happiness_years.describe()"
   ]
  },
  {
   "cell_type": "code",
   "execution_count": 7,
   "id": "7e440aa8",
   "metadata": {},
   "outputs": [
    {
     "data": {
      "text/html": [
       "<div>\n",
       "<style scoped>\n",
       "    .dataframe tbody tr th:only-of-type {\n",
       "        vertical-align: middle;\n",
       "    }\n",
       "\n",
       "    .dataframe tbody tr th {\n",
       "        vertical-align: top;\n",
       "    }\n",
       "\n",
       "    .dataframe thead th {\n",
       "        text-align: right;\n",
       "    }\n",
       "</style>\n",
       "<table border=\"1\" class=\"dataframe\">\n",
       "  <thead>\n",
       "    <tr style=\"text-align: right;\">\n",
       "      <th></th>\n",
       "      <th>Country name</th>\n",
       "      <th>year</th>\n",
       "      <th>Life Ladder</th>\n",
       "      <th>Log GDP per capita</th>\n",
       "      <th>Social support</th>\n",
       "      <th>Healthy life expectancy at birth</th>\n",
       "      <th>Freedom to make life choices</th>\n",
       "      <th>Generosity</th>\n",
       "      <th>Perceptions of corruption</th>\n",
       "      <th>Positive affect</th>\n",
       "      <th>Negative affect</th>\n",
       "      <th>Confidence in national government</th>\n",
       "    </tr>\n",
       "  </thead>\n",
       "  <tbody>\n",
       "  </tbody>\n",
       "</table>\n",
       "</div>"
      ],
      "text/plain": [
       "Empty DataFrame\n",
       "Columns: [Country name, year, Life Ladder, Log GDP per capita, Social support, Healthy life expectancy at birth, Freedom to make life choices, Generosity, Perceptions of corruption, Positive affect, Negative affect, Confidence in national government]\n",
       "Index: []"
      ]
     },
     "execution_count": 7,
     "metadata": {},
     "output_type": "execute_result"
    }
   ],
   "source": [
    "happiness_years.loc[happiness_years[\"Generosity\"] == 0]"
   ]
  },
  {
   "cell_type": "code",
   "execution_count": 8,
   "id": "34756f0a",
   "metadata": {},
   "outputs": [
    {
     "data": {
      "text/plain": [
       "119"
      ]
     },
     "execution_count": 8,
     "metadata": {},
     "output_type": "execute_result"
    }
   ],
   "source": [
    "# keep needed series\n",
    "happiness_2021 = happiness_years.loc[happiness_years['year']==happiness_years['year'].max(),\n",
    "                                   [\"Country name\",\"Life Ladder\",\"Log GDP per capita\",\"Social support\",\n",
    "                                   \"Healthy life expectancy at birth\",\"Freedom to make life choices\"]]\n",
    "happiness_2021[\"Country name\"].nunique()"
   ]
  },
  {
   "cell_type": "code",
   "execution_count": 9,
   "id": "c31c4761",
   "metadata": {},
   "outputs": [
    {
     "data": {
      "text/html": [
       "<div>\n",
       "<style scoped>\n",
       "    .dataframe tbody tr th:only-of-type {\n",
       "        vertical-align: middle;\n",
       "    }\n",
       "\n",
       "    .dataframe tbody tr th {\n",
       "        vertical-align: top;\n",
       "    }\n",
       "\n",
       "    .dataframe thead th {\n",
       "        text-align: right;\n",
       "    }\n",
       "</style>\n",
       "<table border=\"1\" class=\"dataframe\">\n",
       "  <thead>\n",
       "    <tr style=\"text-align: right;\">\n",
       "      <th></th>\n",
       "      <th>Country name</th>\n",
       "      <th>Life Ladder</th>\n",
       "      <th>Log GDP per capita</th>\n",
       "      <th>Social support</th>\n",
       "      <th>Healthy life expectancy at birth</th>\n",
       "      <th>Freedom to make life choices</th>\n",
       "    </tr>\n",
       "  </thead>\n",
       "  <tbody>\n",
       "    <tr>\n",
       "      <th>26</th>\n",
       "      <td>Albania</td>\n",
       "      <td>5.255482</td>\n",
       "      <td>9.562287</td>\n",
       "      <td>0.701883</td>\n",
       "      <td>69.150002</td>\n",
       "      <td>0.827453</td>\n",
       "    </tr>\n",
       "    <tr>\n",
       "      <th>36</th>\n",
       "      <td>Algeria</td>\n",
       "      <td>5.217018</td>\n",
       "      <td>9.303516</td>\n",
       "      <td>0.840710</td>\n",
       "      <td>66.599998</td>\n",
       "      <td>0.558487</td>\n",
       "    </tr>\n",
       "    <tr>\n",
       "      <th>56</th>\n",
       "      <td>Argentina</td>\n",
       "      <td>5.908279</td>\n",
       "      <td>9.955421</td>\n",
       "      <td>0.882305</td>\n",
       "      <td>67.199997</td>\n",
       "      <td>0.819479</td>\n",
       "    </tr>\n",
       "    <tr>\n",
       "      <th>71</th>\n",
       "      <td>Armenia</td>\n",
       "      <td>5.300569</td>\n",
       "      <td>9.500485</td>\n",
       "      <td>0.762044</td>\n",
       "      <td>67.650002</td>\n",
       "      <td>0.795170</td>\n",
       "    </tr>\n",
       "    <tr>\n",
       "      <th>86</th>\n",
       "      <td>Australia</td>\n",
       "      <td>7.111599</td>\n",
       "      <td>10.818342</td>\n",
       "      <td>0.919755</td>\n",
       "      <td>71.050003</td>\n",
       "      <td>0.912402</td>\n",
       "    </tr>\n",
       "  </tbody>\n",
       "</table>\n",
       "</div>"
      ],
      "text/plain": [
       "   Country name  Life Ladder  Log GDP per capita  Social support  \\\n",
       "26      Albania     5.255482            9.562287        0.701883   \n",
       "36      Algeria     5.217018            9.303516        0.840710   \n",
       "56    Argentina     5.908279            9.955421        0.882305   \n",
       "71      Armenia     5.300569            9.500485        0.762044   \n",
       "86    Australia     7.111599           10.818342        0.919755   \n",
       "\n",
       "    Healthy life expectancy at birth  Freedom to make life choices  \n",
       "26                         69.150002                      0.827453  \n",
       "36                         66.599998                      0.558487  \n",
       "56                         67.199997                      0.819479  \n",
       "71                         67.650002                      0.795170  \n",
       "86                         71.050003                      0.912402  "
      ]
     },
     "execution_count": 9,
     "metadata": {},
     "output_type": "execute_result"
    }
   ],
   "source": [
    "# HOW TO HANDLE NaN VALUES - remove null values for any of the 4 colums we're looking at\n",
    "\n",
    "#set NaN values to 0 - none of the colums have a legitimate value of 0\n",
    "#happiness_years = happiness_years.fillna(0)\n",
    "#happiness_years.head()\n",
    "happiness_2021 = happiness_2021.dropna()\n",
    "happiness_2021.head()"
   ]
  },
  {
   "cell_type": "code",
   "execution_count": 10,
   "id": "35e8f79b",
   "metadata": {},
   "outputs": [
    {
     "data": {
      "text/html": [
       "<div>\n",
       "<style scoped>\n",
       "    .dataframe tbody tr th:only-of-type {\n",
       "        vertical-align: middle;\n",
       "    }\n",
       "\n",
       "    .dataframe tbody tr th {\n",
       "        vertical-align: top;\n",
       "    }\n",
       "\n",
       "    .dataframe thead th {\n",
       "        text-align: right;\n",
       "    }\n",
       "</style>\n",
       "<table border=\"1\" class=\"dataframe\">\n",
       "  <thead>\n",
       "    <tr style=\"text-align: right;\">\n",
       "      <th></th>\n",
       "      <th>Country</th>\n",
       "      <th>Happiness score</th>\n",
       "      <th>GDP per capita</th>\n",
       "      <th>Social support</th>\n",
       "      <th>Healthy life expectancy</th>\n",
       "      <th>Freedom to make life choices</th>\n",
       "    </tr>\n",
       "  </thead>\n",
       "  <tbody>\n",
       "    <tr>\n",
       "      <th>26</th>\n",
       "      <td>Albania</td>\n",
       "      <td>5.255482</td>\n",
       "      <td>9.562287</td>\n",
       "      <td>0.701883</td>\n",
       "      <td>69.150002</td>\n",
       "      <td>0.827453</td>\n",
       "    </tr>\n",
       "    <tr>\n",
       "      <th>36</th>\n",
       "      <td>Algeria</td>\n",
       "      <td>5.217018</td>\n",
       "      <td>9.303516</td>\n",
       "      <td>0.840710</td>\n",
       "      <td>66.599998</td>\n",
       "      <td>0.558487</td>\n",
       "    </tr>\n",
       "    <tr>\n",
       "      <th>56</th>\n",
       "      <td>Argentina</td>\n",
       "      <td>5.908279</td>\n",
       "      <td>9.955421</td>\n",
       "      <td>0.882305</td>\n",
       "      <td>67.199997</td>\n",
       "      <td>0.819479</td>\n",
       "    </tr>\n",
       "    <tr>\n",
       "      <th>71</th>\n",
       "      <td>Armenia</td>\n",
       "      <td>5.300569</td>\n",
       "      <td>9.500485</td>\n",
       "      <td>0.762044</td>\n",
       "      <td>67.650002</td>\n",
       "      <td>0.795170</td>\n",
       "    </tr>\n",
       "    <tr>\n",
       "      <th>86</th>\n",
       "      <td>Australia</td>\n",
       "      <td>7.111599</td>\n",
       "      <td>10.818342</td>\n",
       "      <td>0.919755</td>\n",
       "      <td>71.050003</td>\n",
       "      <td>0.912402</td>\n",
       "    </tr>\n",
       "  </tbody>\n",
       "</table>\n",
       "</div>"
      ],
      "text/plain": [
       "      Country  Happiness score  GDP per capita  Social support  \\\n",
       "26    Albania         5.255482        9.562287        0.701883   \n",
       "36    Algeria         5.217018        9.303516        0.840710   \n",
       "56  Argentina         5.908279        9.955421        0.882305   \n",
       "71    Armenia         5.300569        9.500485        0.762044   \n",
       "86  Australia         7.111599       10.818342        0.919755   \n",
       "\n",
       "    Healthy life expectancy  Freedom to make life choices  \n",
       "26                69.150002                      0.827453  \n",
       "36                66.599998                      0.558487  \n",
       "56                67.199997                      0.819479  \n",
       "71                67.650002                      0.795170  \n",
       "86                71.050003                      0.912402  "
      ]
     },
     "execution_count": 10,
     "metadata": {},
     "output_type": "execute_result"
    }
   ],
   "source": [
    "happiness_2021 = happiness_2021.rename(columns = {'Log GDP per capita': 'GDP per capita',\n",
    "                                              'Life Ladder':'Happiness score',\n",
    "                                             'Healthy life expectancy at birth': 'Healthy life expectancy',\n",
    "                                                 'Country name':'Country'})\n",
    "happiness_2021.head()"
   ]
  },
  {
   "cell_type": "code",
   "execution_count": 11,
   "id": "f4e97281",
   "metadata": {},
   "outputs": [
    {
     "data": {
      "text/html": [
       "<style type=\"text/css\">\n",
       "#T_35869_row0_col0, #T_35869_row1_col1, #T_35869_row2_col2, #T_35869_row3_col3, #T_35869_row4_col4 {\n",
       "  background-color: #00441b;\n",
       "  color: #f1f1f1;\n",
       "}\n",
       "#T_35869_row0_col1 {\n",
       "  background-color: #a9dca3;\n",
       "  color: #000000;\n",
       "}\n",
       "#T_35869_row0_col2 {\n",
       "  background-color: #b7e2b1;\n",
       "  color: #000000;\n",
       "}\n",
       "#T_35869_row0_col3 {\n",
       "  background-color: #e5f3e1;\n",
       "  color: #000000;\n",
       "}\n",
       "#T_35869_row0_col4 {\n",
       "  background-color: #ddc7e1;\n",
       "  color: #000000;\n",
       "}\n",
       "#T_35869_row1_col0 {\n",
       "  background-color: #f3f6f2;\n",
       "  color: #000000;\n",
       "}\n",
       "#T_35869_row1_col2 {\n",
       "  background-color: #dbf1d6;\n",
       "  color: #000000;\n",
       "}\n",
       "#T_35869_row1_col3 {\n",
       "  background-color: #66b56b;\n",
       "  color: #f1f1f1;\n",
       "}\n",
       "#T_35869_row1_col4, #T_35869_row4_col0, #T_35869_row4_col1, #T_35869_row4_col2, #T_35869_row4_col3 {\n",
       "  background-color: #40004b;\n",
       "  color: #f1f1f1;\n",
       "}\n",
       "#T_35869_row2_col0 {\n",
       "  background-color: #e9f4e7;\n",
       "  color: #000000;\n",
       "}\n",
       "#T_35869_row2_col1 {\n",
       "  background-color: #bde4b7;\n",
       "  color: #000000;\n",
       "}\n",
       "#T_35869_row2_col3 {\n",
       "  background-color: #e4f2e0;\n",
       "  color: #000000;\n",
       "}\n",
       "#T_35869_row2_col4 {\n",
       "  background-color: #874c97;\n",
       "  color: #f1f1f1;\n",
       "}\n",
       "#T_35869_row3_col0 {\n",
       "  background-color: #c7abd2;\n",
       "  color: #000000;\n",
       "}\n",
       "#T_35869_row3_col1 {\n",
       "  background-color: #63b368;\n",
       "  color: #f1f1f1;\n",
       "}\n",
       "#T_35869_row3_col2 {\n",
       "  background-color: #f7f6f7;\n",
       "  color: #000000;\n",
       "}\n",
       "#T_35869_row3_col4 {\n",
       "  background-color: #480754;\n",
       "  color: #f1f1f1;\n",
       "}\n",
       "</style>\n",
       "<table id=\"T_35869\">\n",
       "  <thead>\n",
       "    <tr>\n",
       "      <th class=\"blank level0\" >&nbsp;</th>\n",
       "      <th id=\"T_35869_level0_col0\" class=\"col_heading level0 col0\" >Happiness score</th>\n",
       "      <th id=\"T_35869_level0_col1\" class=\"col_heading level0 col1\" >GDP per capita</th>\n",
       "      <th id=\"T_35869_level0_col2\" class=\"col_heading level0 col2\" >Social support</th>\n",
       "      <th id=\"T_35869_level0_col3\" class=\"col_heading level0 col3\" >Healthy life expectancy</th>\n",
       "      <th id=\"T_35869_level0_col4\" class=\"col_heading level0 col4\" >Freedom to make life choices</th>\n",
       "    </tr>\n",
       "  </thead>\n",
       "  <tbody>\n",
       "    <tr>\n",
       "      <th id=\"T_35869_level0_row0\" class=\"row_heading level0 row0\" >Happiness score</th>\n",
       "      <td id=\"T_35869_row0_col0\" class=\"data row0 col0\" >1.000000</td>\n",
       "      <td id=\"T_35869_row0_col1\" class=\"data row0 col1\" >0.795247</td>\n",
       "      <td id=\"T_35869_row0_col2\" class=\"data row0 col2\" >0.808799</td>\n",
       "      <td id=\"T_35869_row0_col3\" class=\"data row0 col3\" >0.711411</td>\n",
       "      <td id=\"T_35869_row0_col4\" class=\"data row0 col4\" >0.579028</td>\n",
       "    </tr>\n",
       "    <tr>\n",
       "      <th id=\"T_35869_level0_row1\" class=\"row_heading level0 row1\" >GDP per capita</th>\n",
       "      <td id=\"T_35869_row1_col0\" class=\"data row1 col0\" >0.795247</td>\n",
       "      <td id=\"T_35869_row1_col1\" class=\"data row1 col1\" >1.000000</td>\n",
       "      <td id=\"T_35869_row1_col2\" class=\"data row1 col2\" >0.767490</td>\n",
       "      <td id=\"T_35869_row1_col3\" class=\"data row1 col3\" >0.856166</td>\n",
       "      <td id=\"T_35869_row1_col4\" class=\"data row1 col4\" >0.329454</td>\n",
       "    </tr>\n",
       "    <tr>\n",
       "      <th id=\"T_35869_level0_row2\" class=\"row_heading level0 row2\" >Social support</th>\n",
       "      <td id=\"T_35869_row2_col0\" class=\"data row2 col0\" >0.808799</td>\n",
       "      <td id=\"T_35869_row2_col1\" class=\"data row2 col1\" >0.767490</td>\n",
       "      <td id=\"T_35869_row2_col2\" class=\"data row2 col2\" >1.000000</td>\n",
       "      <td id=\"T_35869_row2_col3\" class=\"data row2 col3\" >0.713057</td>\n",
       "      <td id=\"T_35869_row2_col4\" class=\"data row2 col4\" >0.429402</td>\n",
       "    </tr>\n",
       "    <tr>\n",
       "      <th id=\"T_35869_level0_row3\" class=\"row_heading level0 row3\" >Healthy life expectancy</th>\n",
       "      <td id=\"T_35869_row3_col0\" class=\"data row3 col0\" >0.711411</td>\n",
       "      <td id=\"T_35869_row3_col1\" class=\"data row3 col1\" >0.856166</td>\n",
       "      <td id=\"T_35869_row3_col2\" class=\"data row3 col2\" >0.713057</td>\n",
       "      <td id=\"T_35869_row3_col3\" class=\"data row3 col3\" >1.000000</td>\n",
       "      <td id=\"T_35869_row3_col4\" class=\"data row3 col4\" >0.340498</td>\n",
       "    </tr>\n",
       "    <tr>\n",
       "      <th id=\"T_35869_level0_row4\" class=\"row_heading level0 row4\" >Freedom to make life choices</th>\n",
       "      <td id=\"T_35869_row4_col0\" class=\"data row4 col0\" >0.579028</td>\n",
       "      <td id=\"T_35869_row4_col1\" class=\"data row4 col1\" >0.329454</td>\n",
       "      <td id=\"T_35869_row4_col2\" class=\"data row4 col2\" >0.429402</td>\n",
       "      <td id=\"T_35869_row4_col3\" class=\"data row4 col3\" >0.340498</td>\n",
       "      <td id=\"T_35869_row4_col4\" class=\"data row4 col4\" >1.000000</td>\n",
       "    </tr>\n",
       "  </tbody>\n",
       "</table>\n"
      ],
      "text/plain": [
       "<pandas.io.formats.style.Styler at 0x206f628f4f0>"
      ]
     },
     "execution_count": 11,
     "metadata": {},
     "output_type": "execute_result"
    }
   ],
   "source": [
    "#corr table for reference\n",
    "corr = happiness_2021.corr()\n",
    "corr = corr.style.background_gradient(cmap='PRGn')\n",
    "corr"
   ]
  },
  {
   "cell_type": "code",
   "execution_count": 12,
   "id": "84eb4228",
   "metadata": {},
   "outputs": [],
   "source": [
    "#adding latitude and longitude for each country\n",
    "gkey = gkey\n",
    "lat = []\n",
    "lng = []\n",
    "for country in happiness_2021[\"Country\"]:\n",
    "    target_url = f\"https://maps.googleapis.com/maps/api/geocode/json?address={country}&components=country:{country}&key={gkey}\"\n",
    "    # components=country:{country} makes sure the country of Georgia is mapped correctly!\n",
    "    response = requests.get(target_url).json()\n",
    "    lat.append(response['results'][0]['geometry']['location']['lat'])\n",
    "    lng.append(response['results'][0]['geometry']['location']['lng'])\n",
    "happiness_2021['Latitude'] = lat\n",
    "happiness_2021[\"Longitude\"] = lng"
   ]
  },
  {
   "cell_type": "code",
   "execution_count": 13,
   "id": "f228e1f5",
   "metadata": {},
   "outputs": [],
   "source": [
    "#export to csv\n",
    "happiness_2021.to_csv('cleaned_happiness_2021.csv', index = False)"
   ]
  },
  {
   "cell_type": "code",
   "execution_count": 14,
   "id": "526bb656",
   "metadata": {},
   "outputs": [],
   "source": [
    "# Start of Amanda's code"
   ]
  },
  {
   "cell_type": "code",
   "execution_count": 15,
   "id": "72cfee44",
   "metadata": {},
   "outputs": [
    {
     "data": {
      "text/html": [
       "<div>\n",
       "<style scoped>\n",
       "    .dataframe tbody tr th:only-of-type {\n",
       "        vertical-align: middle;\n",
       "    }\n",
       "\n",
       "    .dataframe tbody tr th {\n",
       "        vertical-align: top;\n",
       "    }\n",
       "\n",
       "    .dataframe thead th {\n",
       "        text-align: right;\n",
       "    }\n",
       "</style>\n",
       "<table border=\"1\" class=\"dataframe\">\n",
       "  <thead>\n",
       "    <tr style=\"text-align: right;\">\n",
       "      <th></th>\n",
       "      <th>Happiness score</th>\n",
       "      <th>GDP per capita</th>\n",
       "      <th>Social support</th>\n",
       "      <th>Healthy life expectancy</th>\n",
       "      <th>Freedom to make life choices</th>\n",
       "      <th>Latitude</th>\n",
       "      <th>Longitude</th>\n",
       "    </tr>\n",
       "  </thead>\n",
       "  <tbody>\n",
       "    <tr>\n",
       "      <th>count</th>\n",
       "      <td>110.000000</td>\n",
       "      <td>110.000000</td>\n",
       "      <td>110.000000</td>\n",
       "      <td>110.000000</td>\n",
       "      <td>110.000000</td>\n",
       "      <td>110.000000</td>\n",
       "      <td>110.000000</td>\n",
       "    </tr>\n",
       "    <tr>\n",
       "      <th>mean</th>\n",
       "      <td>5.638666</td>\n",
       "      <td>9.561866</td>\n",
       "      <td>0.805196</td>\n",
       "      <td>65.305000</td>\n",
       "      <td>0.790595</td>\n",
       "      <td>23.288044</td>\n",
       "      <td>17.693680</td>\n",
       "    </tr>\n",
       "    <tr>\n",
       "      <th>std</th>\n",
       "      <td>1.128916</td>\n",
       "      <td>1.037003</td>\n",
       "      <td>0.124863</td>\n",
       "      <td>5.458450</td>\n",
       "      <td>0.107183</td>\n",
       "      <td>26.217774</td>\n",
       "      <td>57.722176</td>\n",
       "    </tr>\n",
       "    <tr>\n",
       "      <th>min</th>\n",
       "      <td>2.178809</td>\n",
       "      <td>7.108412</td>\n",
       "      <td>0.435524</td>\n",
       "      <td>51.299999</td>\n",
       "      <td>0.422697</td>\n",
       "      <td>-40.900557</td>\n",
       "      <td>-106.346771</td>\n",
       "    </tr>\n",
       "    <tr>\n",
       "      <th>25%</th>\n",
       "      <td>4.913588</td>\n",
       "      <td>8.896770</td>\n",
       "      <td>0.713824</td>\n",
       "      <td>61.862499</td>\n",
       "      <td>0.724480</td>\n",
       "      <td>8.075034</td>\n",
       "      <td>-3.934430</td>\n",
       "    </tr>\n",
       "    <tr>\n",
       "      <th>50%</th>\n",
       "      <td>5.734929</td>\n",
       "      <td>9.575068</td>\n",
       "      <td>0.844487</td>\n",
       "      <td>66.450001</td>\n",
       "      <td>0.809086</td>\n",
       "      <td>28.214371</td>\n",
       "      <td>19.324220</td>\n",
       "    </tr>\n",
       "    <tr>\n",
       "      <th>75%</th>\n",
       "      <td>6.442878</td>\n",
       "      <td>10.431378</td>\n",
       "      <td>0.905608</td>\n",
       "      <td>69.299999</td>\n",
       "      <td>0.869746</td>\n",
       "      <td>44.829130</td>\n",
       "      <td>41.994217</td>\n",
       "    </tr>\n",
       "    <tr>\n",
       "      <th>max</th>\n",
       "      <td>7.794378</td>\n",
       "      <td>11.545033</td>\n",
       "      <td>0.979858</td>\n",
       "      <td>74.349998</td>\n",
       "      <td>0.965093</td>\n",
       "      <td>64.963051</td>\n",
       "      <td>174.885971</td>\n",
       "    </tr>\n",
       "  </tbody>\n",
       "</table>\n",
       "</div>"
      ],
      "text/plain": [
       "       Happiness score  GDP per capita  Social support  \\\n",
       "count       110.000000      110.000000      110.000000   \n",
       "mean          5.638666        9.561866        0.805196   \n",
       "std           1.128916        1.037003        0.124863   \n",
       "min           2.178809        7.108412        0.435524   \n",
       "25%           4.913588        8.896770        0.713824   \n",
       "50%           5.734929        9.575068        0.844487   \n",
       "75%           6.442878       10.431378        0.905608   \n",
       "max           7.794378       11.545033        0.979858   \n",
       "\n",
       "       Healthy life expectancy  Freedom to make life choices    Latitude  \\\n",
       "count               110.000000                    110.000000  110.000000   \n",
       "mean                 65.305000                      0.790595   23.288044   \n",
       "std                   5.458450                      0.107183   26.217774   \n",
       "min                  51.299999                      0.422697  -40.900557   \n",
       "25%                  61.862499                      0.724480    8.075034   \n",
       "50%                  66.450001                      0.809086   28.214371   \n",
       "75%                  69.299999                      0.869746   44.829130   \n",
       "max                  74.349998                      0.965093   64.963051   \n",
       "\n",
       "        Longitude  \n",
       "count  110.000000  \n",
       "mean    17.693680  \n",
       "std     57.722176  \n",
       "min   -106.346771  \n",
       "25%     -3.934430  \n",
       "50%     19.324220  \n",
       "75%     41.994217  \n",
       "max    174.885971  "
      ]
     },
     "execution_count": 15,
     "metadata": {},
     "output_type": "execute_result"
    }
   ],
   "source": [
    "# re-importing cleaned data so as to not have to rerun above code\n",
    "happiness_2021 = pd.read_csv('cleaned_happiness_2021.csv')\n",
    "happiness_2021.describe()"
   ]
  },
  {
   "cell_type": "markdown",
   "id": "3bf56b97",
   "metadata": {},
   "source": [
    "### Social Support\n",
    "Per the World Happiness Report: \n",
    ">Social support (or having someone to count on in times of trouble) is the national average of the binary responses (either 0 or 1) to the GWP question “If you were in trouble, do you have relatives or friends you can count on to help you whenever you need them, or not?”\n"
   ]
  },
  {
   "cell_type": "markdown",
   "id": "4cc2b4e0",
   "metadata": {},
   "source": [
    "### Null Hypothesis Test\n",
    "Null hypothesis - the means for happiness of the top, middle, and bottom third of countries based on social support are the same"
   ]
  },
  {
   "cell_type": "code",
   "execution_count": 16,
   "id": "667e27ce",
   "metadata": {},
   "outputs": [
    {
     "data": {
      "text/html": [
       "<div>\n",
       "<style scoped>\n",
       "    .dataframe tbody tr th:only-of-type {\n",
       "        vertical-align: middle;\n",
       "    }\n",
       "\n",
       "    .dataframe tbody tr th {\n",
       "        vertical-align: top;\n",
       "    }\n",
       "\n",
       "    .dataframe thead th {\n",
       "        text-align: right;\n",
       "    }\n",
       "</style>\n",
       "<table border=\"1\" class=\"dataframe\">\n",
       "  <thead>\n",
       "    <tr style=\"text-align: right;\">\n",
       "      <th></th>\n",
       "      <th>Country</th>\n",
       "      <th>Happiness score</th>\n",
       "      <th>Social support</th>\n",
       "    </tr>\n",
       "  </thead>\n",
       "  <tbody>\n",
       "    <tr>\n",
       "      <th>6</th>\n",
       "      <td>Benin</td>\n",
       "      <td>4.493431</td>\n",
       "      <td>0.435524</td>\n",
       "    </tr>\n",
       "    <tr>\n",
       "      <th>63</th>\n",
       "      <td>Morocco</td>\n",
       "      <td>5.326249</td>\n",
       "      <td>0.504564</td>\n",
       "    </tr>\n",
       "    <tr>\n",
       "      <th>55</th>\n",
       "      <td>Lebanon</td>\n",
       "      <td>2.178809</td>\n",
       "      <td>0.506775</td>\n",
       "    </tr>\n",
       "    <tr>\n",
       "      <th>46</th>\n",
       "      <td>Ivory Coast</td>\n",
       "      <td>5.055807</td>\n",
       "      <td>0.554225</td>\n",
       "    </tr>\n",
       "    <tr>\n",
       "      <th>57</th>\n",
       "      <td>Malawi</td>\n",
       "      <td>3.635283</td>\n",
       "      <td>0.557914</td>\n",
       "    </tr>\n",
       "  </tbody>\n",
       "</table>\n",
       "</div>"
      ],
      "text/plain": [
       "        Country  Happiness score  Social support\n",
       "6         Benin         4.493431        0.435524\n",
       "63      Morocco         5.326249        0.504564\n",
       "55      Lebanon         2.178809        0.506775\n",
       "46  Ivory Coast         5.055807        0.554225\n",
       "57       Malawi         3.635283        0.557914"
      ]
     },
     "execution_count": 16,
     "metadata": {},
     "output_type": "execute_result"
    }
   ],
   "source": [
    "# sort dataset and see how many values need to be in each group\n",
    "h0_test = happiness_2021[[\"Country\",\"Happiness score\",\"Social support\"]]\n",
    "h0_test = h0_test.sort_values(\"Social support\")\n",
    "size = h0_test.count() # 110 countries total\n",
    "# size/3 = 36.666667 - make 2 groups at 37 and one at 36\n",
    "h0_test.head()"
   ]
  },
  {
   "cell_type": "code",
   "execution_count": 17,
   "id": "dea3dec1",
   "metadata": {},
   "outputs": [
    {
     "data": {
      "text/html": [
       "<div>\n",
       "<style scoped>\n",
       "    .dataframe tbody tr th:only-of-type {\n",
       "        vertical-align: middle;\n",
       "    }\n",
       "\n",
       "    .dataframe tbody tr th {\n",
       "        vertical-align: top;\n",
       "    }\n",
       "\n",
       "    .dataframe thead th {\n",
       "        text-align: right;\n",
       "    }\n",
       "</style>\n",
       "<table border=\"1\" class=\"dataframe\">\n",
       "  <thead>\n",
       "    <tr style=\"text-align: right;\">\n",
       "      <th></th>\n",
       "      <th>Country</th>\n",
       "      <th>Happiness score</th>\n",
       "      <th>Social support</th>\n",
       "    </tr>\n",
       "  </thead>\n",
       "  <tbody>\n",
       "    <tr>\n",
       "      <th>6</th>\n",
       "      <td>Benin</td>\n",
       "      <td>4.493431</td>\n",
       "      <td>0.435524</td>\n",
       "    </tr>\n",
       "    <tr>\n",
       "      <th>63</th>\n",
       "      <td>Morocco</td>\n",
       "      <td>5.326249</td>\n",
       "      <td>0.504564</td>\n",
       "    </tr>\n",
       "    <tr>\n",
       "      <th>55</th>\n",
       "      <td>Lebanon</td>\n",
       "      <td>2.178809</td>\n",
       "      <td>0.506775</td>\n",
       "    </tr>\n",
       "    <tr>\n",
       "      <th>46</th>\n",
       "      <td>Ivory Coast</td>\n",
       "      <td>5.055807</td>\n",
       "      <td>0.554225</td>\n",
       "    </tr>\n",
       "    <tr>\n",
       "      <th>57</th>\n",
       "      <td>Malawi</td>\n",
       "      <td>3.635283</td>\n",
       "      <td>0.557914</td>\n",
       "    </tr>\n",
       "    <tr>\n",
       "      <th>18</th>\n",
       "      <td>Congo (Brazzaville)</td>\n",
       "      <td>4.920531</td>\n",
       "      <td>0.567651</td>\n",
       "    </tr>\n",
       "    <tr>\n",
       "      <th>39</th>\n",
       "      <td>India</td>\n",
       "      <td>3.558254</td>\n",
       "      <td>0.569733</td>\n",
       "    </tr>\n",
       "    <tr>\n",
       "      <th>58</th>\n",
       "      <td>Mali</td>\n",
       "      <td>4.113096</td>\n",
       "      <td>0.573394</td>\n",
       "    </tr>\n",
       "    <tr>\n",
       "      <th>97</th>\n",
       "      <td>Togo</td>\n",
       "      <td>4.036544</td>\n",
       "      <td>0.603400</td>\n",
       "    </tr>\n",
       "    <tr>\n",
       "      <th>74</th>\n",
       "      <td>Pakistan</td>\n",
       "      <td>4.486835</td>\n",
       "      <td>0.608396</td>\n",
       "    </tr>\n",
       "    <tr>\n",
       "      <th>86</th>\n",
       "      <td>Sierra Leone</td>\n",
       "      <td>3.714294</td>\n",
       "      <td>0.609334</td>\n",
       "    </tr>\n",
       "    <tr>\n",
       "      <th>95</th>\n",
       "      <td>Tanzania</td>\n",
       "      <td>3.680568</td>\n",
       "      <td>0.618984</td>\n",
       "    </tr>\n",
       "    <tr>\n",
       "      <th>108</th>\n",
       "      <td>Zambia</td>\n",
       "      <td>3.082155</td>\n",
       "      <td>0.619071</td>\n",
       "    </tr>\n",
       "    <tr>\n",
       "      <th>35</th>\n",
       "      <td>Guinea</td>\n",
       "      <td>4.944540</td>\n",
       "      <td>0.627239</td>\n",
       "    </tr>\n",
       "    <tr>\n",
       "      <th>33</th>\n",
       "      <td>Ghana</td>\n",
       "      <td>4.377951</td>\n",
       "      <td>0.632730</td>\n",
       "    </tr>\n",
       "    <tr>\n",
       "      <th>84</th>\n",
       "      <td>Senegal</td>\n",
       "      <td>4.902831</td>\n",
       "      <td>0.645179</td>\n",
       "    </tr>\n",
       "    <tr>\n",
       "      <th>53</th>\n",
       "      <td>Laos</td>\n",
       "      <td>4.926522</td>\n",
       "      <td>0.649893</td>\n",
       "    </tr>\n",
       "    <tr>\n",
       "      <th>11</th>\n",
       "      <td>Burkina Faso</td>\n",
       "      <td>4.635509</td>\n",
       "      <td>0.657544</td>\n",
       "    </tr>\n",
       "    <tr>\n",
       "      <th>64</th>\n",
       "      <td>Mozambique</td>\n",
       "      <td>5.178487</td>\n",
       "      <td>0.664023</td>\n",
       "    </tr>\n",
       "    <tr>\n",
       "      <th>31</th>\n",
       "      <td>Georgia</td>\n",
       "      <td>4.911273</td>\n",
       "      <td>0.670689</td>\n",
       "    </tr>\n",
       "    <tr>\n",
       "      <th>109</th>\n",
       "      <td>Zimbabwe</td>\n",
       "      <td>3.154578</td>\n",
       "      <td>0.685151</td>\n",
       "    </tr>\n",
       "    <tr>\n",
       "      <th>13</th>\n",
       "      <td>Cameroon</td>\n",
       "      <td>4.962748</td>\n",
       "      <td>0.694936</td>\n",
       "    </tr>\n",
       "    <tr>\n",
       "      <th>67</th>\n",
       "      <td>Nepal</td>\n",
       "      <td>4.622300</td>\n",
       "      <td>0.698646</td>\n",
       "    </tr>\n",
       "    <tr>\n",
       "      <th>0</th>\n",
       "      <td>Albania</td>\n",
       "      <td>5.255482</td>\n",
       "      <td>0.701883</td>\n",
       "    </tr>\n",
       "    <tr>\n",
       "      <th>51</th>\n",
       "      <td>Kenya</td>\n",
       "      <td>4.464541</td>\n",
       "      <td>0.702201</td>\n",
       "    </tr>\n",
       "    <tr>\n",
       "      <th>49</th>\n",
       "      <td>Jordan</td>\n",
       "      <td>3.909149</td>\n",
       "      <td>0.702918</td>\n",
       "    </tr>\n",
       "    <tr>\n",
       "      <th>98</th>\n",
       "      <td>Tunisia</td>\n",
       "      <td>4.499486</td>\n",
       "      <td>0.711322</td>\n",
       "    </tr>\n",
       "    <tr>\n",
       "      <th>12</th>\n",
       "      <td>Cambodia</td>\n",
       "      <td>4.555141</td>\n",
       "      <td>0.712758</td>\n",
       "    </tr>\n",
       "    <tr>\n",
       "      <th>25</th>\n",
       "      <td>Egypt</td>\n",
       "      <td>4.025748</td>\n",
       "      <td>0.717022</td>\n",
       "    </tr>\n",
       "    <tr>\n",
       "      <th>42</th>\n",
       "      <td>Iraq</td>\n",
       "      <td>5.093668</td>\n",
       "      <td>0.730213</td>\n",
       "    </tr>\n",
       "    <tr>\n",
       "      <th>99</th>\n",
       "      <td>Turkey</td>\n",
       "      <td>4.366640</td>\n",
       "      <td>0.736195</td>\n",
       "    </tr>\n",
       "    <tr>\n",
       "      <th>71</th>\n",
       "      <td>Nigeria</td>\n",
       "      <td>4.479266</td>\n",
       "      <td>0.741560</td>\n",
       "    </tr>\n",
       "    <tr>\n",
       "      <th>30</th>\n",
       "      <td>Gabon</td>\n",
       "      <td>5.075422</td>\n",
       "      <td>0.753872</td>\n",
       "    </tr>\n",
       "    <tr>\n",
       "      <th>3</th>\n",
       "      <td>Armenia</td>\n",
       "      <td>5.300569</td>\n",
       "      <td>0.762044</td>\n",
       "    </tr>\n",
       "    <tr>\n",
       "      <th>41</th>\n",
       "      <td>Iran</td>\n",
       "      <td>4.787814</td>\n",
       "      <td>0.771470</td>\n",
       "    </tr>\n",
       "    <tr>\n",
       "      <th>78</th>\n",
       "      <td>Philippines</td>\n",
       "      <td>5.965058</td>\n",
       "      <td>0.778192</td>\n",
       "    </tr>\n",
       "    <tr>\n",
       "      <th>60</th>\n",
       "      <td>Mexico</td>\n",
       "      <td>5.990751</td>\n",
       "      <td>0.778605</td>\n",
       "    </tr>\n",
       "  </tbody>\n",
       "</table>\n",
       "</div>"
      ],
      "text/plain": [
       "                 Country  Happiness score  Social support\n",
       "6                  Benin         4.493431        0.435524\n",
       "63               Morocco         5.326249        0.504564\n",
       "55               Lebanon         2.178809        0.506775\n",
       "46           Ivory Coast         5.055807        0.554225\n",
       "57                Malawi         3.635283        0.557914\n",
       "18   Congo (Brazzaville)         4.920531        0.567651\n",
       "39                 India         3.558254        0.569733\n",
       "58                  Mali         4.113096        0.573394\n",
       "97                  Togo         4.036544        0.603400\n",
       "74              Pakistan         4.486835        0.608396\n",
       "86          Sierra Leone         3.714294        0.609334\n",
       "95              Tanzania         3.680568        0.618984\n",
       "108               Zambia         3.082155        0.619071\n",
       "35                Guinea         4.944540        0.627239\n",
       "33                 Ghana         4.377951        0.632730\n",
       "84               Senegal         4.902831        0.645179\n",
       "53                  Laos         4.926522        0.649893\n",
       "11          Burkina Faso         4.635509        0.657544\n",
       "64            Mozambique         5.178487        0.664023\n",
       "31               Georgia         4.911273        0.670689\n",
       "109             Zimbabwe         3.154578        0.685151\n",
       "13              Cameroon         4.962748        0.694936\n",
       "67                 Nepal         4.622300        0.698646\n",
       "0                Albania         5.255482        0.701883\n",
       "51                 Kenya         4.464541        0.702201\n",
       "49                Jordan         3.909149        0.702918\n",
       "98               Tunisia         4.499486        0.711322\n",
       "12              Cambodia         4.555141        0.712758\n",
       "25                 Egypt         4.025748        0.717022\n",
       "42                  Iraq         5.093668        0.730213\n",
       "99                Turkey         4.366640        0.736195\n",
       "71               Nigeria         4.479266        0.741560\n",
       "30                 Gabon         5.075422        0.753872\n",
       "3                Armenia         5.300569        0.762044\n",
       "41                  Iran         4.787814        0.771470\n",
       "78           Philippines         5.965058        0.778192\n",
       "60                Mexico         5.990751        0.778605"
      ]
     },
     "execution_count": 17,
     "metadata": {},
     "output_type": "execute_result"
    }
   ],
   "source": [
    "bottom_third = h0_test.iloc[0:37,:]\n",
    "bottom_third"
   ]
  },
  {
   "cell_type": "code",
   "execution_count": 18,
   "id": "ad3749d2",
   "metadata": {},
   "outputs": [
    {
     "data": {
      "text/html": [
       "<div>\n",
       "<style scoped>\n",
       "    .dataframe tbody tr th:only-of-type {\n",
       "        vertical-align: middle;\n",
       "    }\n",
       "\n",
       "    .dataframe tbody tr th {\n",
       "        vertical-align: top;\n",
       "    }\n",
       "\n",
       "    .dataframe thead th {\n",
       "        text-align: right;\n",
       "    }\n",
       "</style>\n",
       "<table border=\"1\" class=\"dataframe\">\n",
       "  <thead>\n",
       "    <tr style=\"text-align: right;\">\n",
       "      <th></th>\n",
       "      <th>Country</th>\n",
       "      <th>Happiness score</th>\n",
       "      <th>Social support</th>\n",
       "    </tr>\n",
       "  </thead>\n",
       "  <tbody>\n",
       "    <tr>\n",
       "      <th>65</th>\n",
       "      <td>Myanmar</td>\n",
       "      <td>4.314040</td>\n",
       "      <td>0.779576</td>\n",
       "    </tr>\n",
       "    <tr>\n",
       "      <th>24</th>\n",
       "      <td>Ecuador</td>\n",
       "      <td>5.434872</td>\n",
       "      <td>0.785532</td>\n",
       "    </tr>\n",
       "    <tr>\n",
       "      <th>17</th>\n",
       "      <td>Colombia</td>\n",
       "      <td>5.289958</td>\n",
       "      <td>0.792831</td>\n",
       "    </tr>\n",
       "    <tr>\n",
       "      <th>100</th>\n",
       "      <td>Uganda</td>\n",
       "      <td>4.224534</td>\n",
       "      <td>0.793350</td>\n",
       "    </tr>\n",
       "    <tr>\n",
       "      <th>26</th>\n",
       "      <td>El Salvador</td>\n",
       "      <td>6.431447</td>\n",
       "      <td>0.796106</td>\n",
       "    </tr>\n",
       "    <tr>\n",
       "      <th>7</th>\n",
       "      <td>Bolivia</td>\n",
       "      <td>5.568624</td>\n",
       "      <td>0.797810</td>\n",
       "    </tr>\n",
       "    <tr>\n",
       "      <th>107</th>\n",
       "      <td>Vietnam</td>\n",
       "      <td>5.540250</td>\n",
       "      <td>0.799494</td>\n",
       "    </tr>\n",
       "    <tr>\n",
       "      <th>36</th>\n",
       "      <td>Honduras</td>\n",
       "      <td>6.113636</td>\n",
       "      <td>0.805981</td>\n",
       "    </tr>\n",
       "    <tr>\n",
       "      <th>66</th>\n",
       "      <td>Namibia</td>\n",
       "      <td>4.491207</td>\n",
       "      <td>0.807801</td>\n",
       "    </tr>\n",
       "    <tr>\n",
       "      <th>72</th>\n",
       "      <td>North Macedonia</td>\n",
       "      <td>5.534750</td>\n",
       "      <td>0.808857</td>\n",
       "    </tr>\n",
       "    <tr>\n",
       "      <th>90</th>\n",
       "      <td>South Korea</td>\n",
       "      <td>6.112745</td>\n",
       "      <td>0.810741</td>\n",
       "    </tr>\n",
       "    <tr>\n",
       "      <th>92</th>\n",
       "      <td>Sri Lanka</td>\n",
       "      <td>4.103447</td>\n",
       "      <td>0.812374</td>\n",
       "    </tr>\n",
       "    <tr>\n",
       "      <th>9</th>\n",
       "      <td>Brazil</td>\n",
       "      <td>6.009953</td>\n",
       "      <td>0.814329</td>\n",
       "    </tr>\n",
       "    <tr>\n",
       "      <th>40</th>\n",
       "      <td>Indonesia</td>\n",
       "      <td>5.433173</td>\n",
       "      <td>0.816925</td>\n",
       "    </tr>\n",
       "    <tr>\n",
       "      <th>77</th>\n",
       "      <td>Peru</td>\n",
       "      <td>5.694318</td>\n",
       "      <td>0.818539</td>\n",
       "    </tr>\n",
       "    <tr>\n",
       "      <th>102</th>\n",
       "      <td>United Arab Emirates</td>\n",
       "      <td>6.733068</td>\n",
       "      <td>0.826061</td>\n",
       "    </tr>\n",
       "    <tr>\n",
       "      <th>81</th>\n",
       "      <td>Romania</td>\n",
       "      <td>6.548726</td>\n",
       "      <td>0.834509</td>\n",
       "    </tr>\n",
       "    <tr>\n",
       "      <th>1</th>\n",
       "      <td>Algeria</td>\n",
       "      <td>5.217018</td>\n",
       "      <td>0.840710</td>\n",
       "    </tr>\n",
       "    <tr>\n",
       "      <th>70</th>\n",
       "      <td>Nicaragua</td>\n",
       "      <td>6.095349</td>\n",
       "      <td>0.848263</td>\n",
       "    </tr>\n",
       "    <tr>\n",
       "      <th>43</th>\n",
       "      <td>Ireland</td>\n",
       "      <td>6.827652</td>\n",
       "      <td>0.849838</td>\n",
       "    </tr>\n",
       "    <tr>\n",
       "      <th>34</th>\n",
       "      <td>Greece</td>\n",
       "      <td>6.104214</td>\n",
       "      <td>0.850326</td>\n",
       "    </tr>\n",
       "    <tr>\n",
       "      <th>103</th>\n",
       "      <td>United Kingdom</td>\n",
       "      <td>6.866962</td>\n",
       "      <td>0.854030</td>\n",
       "    </tr>\n",
       "    <tr>\n",
       "      <th>16</th>\n",
       "      <td>China</td>\n",
       "      <td>5.862864</td>\n",
       "      <td>0.856007</td>\n",
       "    </tr>\n",
       "    <tr>\n",
       "      <th>23</th>\n",
       "      <td>Dominican Republic</td>\n",
       "      <td>6.030537</td>\n",
       "      <td>0.857107</td>\n",
       "    </tr>\n",
       "    <tr>\n",
       "      <th>47</th>\n",
       "      <td>Jamaica</td>\n",
       "      <td>5.813734</td>\n",
       "      <td>0.857368</td>\n",
       "    </tr>\n",
       "    <tr>\n",
       "      <th>83</th>\n",
       "      <td>Saudi Arabia</td>\n",
       "      <td>6.445294</td>\n",
       "      <td>0.859361</td>\n",
       "    </tr>\n",
       "    <tr>\n",
       "      <th>8</th>\n",
       "      <td>Bosnia and Herzegovina</td>\n",
       "      <td>5.748823</td>\n",
       "      <td>0.859954</td>\n",
       "    </tr>\n",
       "    <tr>\n",
       "      <th>82</th>\n",
       "      <td>Russia</td>\n",
       "      <td>5.448261</td>\n",
       "      <td>0.861717</td>\n",
       "    </tr>\n",
       "    <tr>\n",
       "      <th>5</th>\n",
       "      <td>Austria</td>\n",
       "      <td>7.079641</td>\n",
       "      <td>0.862976</td>\n",
       "    </tr>\n",
       "    <tr>\n",
       "      <th>32</th>\n",
       "      <td>Germany</td>\n",
       "      <td>6.754524</td>\n",
       "      <td>0.867583</td>\n",
       "    </tr>\n",
       "    <tr>\n",
       "      <th>19</th>\n",
       "      <td>Costa Rica</td>\n",
       "      <td>6.408448</td>\n",
       "      <td>0.876052</td>\n",
       "    </tr>\n",
       "    <tr>\n",
       "      <th>101</th>\n",
       "      <td>Ukraine</td>\n",
       "      <td>5.311355</td>\n",
       "      <td>0.879309</td>\n",
       "    </tr>\n",
       "    <tr>\n",
       "      <th>61</th>\n",
       "      <td>Moldova</td>\n",
       "      <td>5.959049</td>\n",
       "      <td>0.879554</td>\n",
       "    </tr>\n",
       "    <tr>\n",
       "      <th>2</th>\n",
       "      <td>Argentina</td>\n",
       "      <td>5.908279</td>\n",
       "      <td>0.882305</td>\n",
       "    </tr>\n",
       "    <tr>\n",
       "      <th>96</th>\n",
       "      <td>Thailand</td>\n",
       "      <td>5.638097</td>\n",
       "      <td>0.882822</td>\n",
       "    </tr>\n",
       "    <tr>\n",
       "      <th>10</th>\n",
       "      <td>Bulgaria</td>\n",
       "      <td>5.421693</td>\n",
       "      <td>0.883621</td>\n",
       "    </tr>\n",
       "    <tr>\n",
       "      <th>45</th>\n",
       "      <td>Italy</td>\n",
       "      <td>6.466745</td>\n",
       "      <td>0.885534</td>\n",
       "    </tr>\n",
       "  </tbody>\n",
       "</table>\n",
       "</div>"
      ],
      "text/plain": [
       "                    Country  Happiness score  Social support\n",
       "65                  Myanmar         4.314040        0.779576\n",
       "24                  Ecuador         5.434872        0.785532\n",
       "17                 Colombia         5.289958        0.792831\n",
       "100                  Uganda         4.224534        0.793350\n",
       "26              El Salvador         6.431447        0.796106\n",
       "7                   Bolivia         5.568624        0.797810\n",
       "107                 Vietnam         5.540250        0.799494\n",
       "36                 Honduras         6.113636        0.805981\n",
       "66                  Namibia         4.491207        0.807801\n",
       "72          North Macedonia         5.534750        0.808857\n",
       "90              South Korea         6.112745        0.810741\n",
       "92                Sri Lanka         4.103447        0.812374\n",
       "9                    Brazil         6.009953        0.814329\n",
       "40                Indonesia         5.433173        0.816925\n",
       "77                     Peru         5.694318        0.818539\n",
       "102    United Arab Emirates         6.733068        0.826061\n",
       "81                  Romania         6.548726        0.834509\n",
       "1                   Algeria         5.217018        0.840710\n",
       "70                Nicaragua         6.095349        0.848263\n",
       "43                  Ireland         6.827652        0.849838\n",
       "34                   Greece         6.104214        0.850326\n",
       "103          United Kingdom         6.866962        0.854030\n",
       "16                    China         5.862864        0.856007\n",
       "23       Dominican Republic         6.030537        0.857107\n",
       "47                  Jamaica         5.813734        0.857368\n",
       "83             Saudi Arabia         6.445294        0.859361\n",
       "8    Bosnia and Herzegovina         5.748823        0.859954\n",
       "82                   Russia         5.448261        0.861717\n",
       "5                   Austria         7.079641        0.862976\n",
       "32                  Germany         6.754524        0.867583\n",
       "19               Costa Rica         6.408448        0.876052\n",
       "101                 Ukraine         5.311355        0.879309\n",
       "61                  Moldova         5.959049        0.879554\n",
       "2                 Argentina         5.908279        0.882305\n",
       "96                 Thailand         5.638097        0.882822\n",
       "10                 Bulgaria         5.421693        0.883621\n",
       "45                    Italy         6.466745        0.885534"
      ]
     },
     "execution_count": 18,
     "metadata": {},
     "output_type": "execute_result"
    }
   ],
   "source": [
    "middle_third = h0_test.iloc[37:74,:]\n",
    "middle_third"
   ]
  },
  {
   "cell_type": "code",
   "execution_count": 19,
   "id": "199b7a67",
   "metadata": {},
   "outputs": [
    {
     "data": {
      "text/html": [
       "<div>\n",
       "<style scoped>\n",
       "    .dataframe tbody tr th:only-of-type {\n",
       "        vertical-align: middle;\n",
       "    }\n",
       "\n",
       "    .dataframe tbody tr th {\n",
       "        vertical-align: top;\n",
       "    }\n",
       "\n",
       "    .dataframe thead th {\n",
       "        text-align: right;\n",
       "    }\n",
       "</style>\n",
       "<table border=\"1\" class=\"dataframe\">\n",
       "  <thead>\n",
       "    <tr style=\"text-align: right;\">\n",
       "      <th></th>\n",
       "      <th>Country</th>\n",
       "      <th>Happiness score</th>\n",
       "      <th>Social support</th>\n",
       "    </tr>\n",
       "  </thead>\n",
       "  <tbody>\n",
       "    <tr>\n",
       "      <th>59</th>\n",
       "      <td>Mauritius</td>\n",
       "      <td>5.949120</td>\n",
       "      <td>0.886510</td>\n",
       "    </tr>\n",
       "    <tr>\n",
       "      <th>85</th>\n",
       "      <td>Serbia</td>\n",
       "      <td>6.245267</td>\n",
       "      <td>0.890106</td>\n",
       "    </tr>\n",
       "    <tr>\n",
       "      <th>15</th>\n",
       "      <td>Chile</td>\n",
       "      <td>6.435631</td>\n",
       "      <td>0.891461</td>\n",
       "    </tr>\n",
       "    <tr>\n",
       "      <th>80</th>\n",
       "      <td>Portugal</td>\n",
       "      <td>6.183014</td>\n",
       "      <td>0.894942</td>\n",
       "    </tr>\n",
       "    <tr>\n",
       "      <th>106</th>\n",
       "      <td>Uzbekistan</td>\n",
       "      <td>6.185308</td>\n",
       "      <td>0.895504</td>\n",
       "    </tr>\n",
       "    <tr>\n",
       "      <th>48</th>\n",
       "      <td>Japan</td>\n",
       "      <td>6.091325</td>\n",
       "      <td>0.895738</td>\n",
       "    </tr>\n",
       "    <tr>\n",
       "      <th>75</th>\n",
       "      <td>Panama</td>\n",
       "      <td>6.552779</td>\n",
       "      <td>0.898621</td>\n",
       "    </tr>\n",
       "    <tr>\n",
       "      <th>52</th>\n",
       "      <td>Kyrgyzstan</td>\n",
       "      <td>5.563700</td>\n",
       "      <td>0.904273</td>\n",
       "    </tr>\n",
       "    <tr>\n",
       "      <th>50</th>\n",
       "      <td>Kazakhstan</td>\n",
       "      <td>6.259634</td>\n",
       "      <td>0.906053</td>\n",
       "    </tr>\n",
       "    <tr>\n",
       "      <th>76</th>\n",
       "      <td>Paraguay</td>\n",
       "      <td>5.575535</td>\n",
       "      <td>0.907542</td>\n",
       "    </tr>\n",
       "    <tr>\n",
       "      <th>105</th>\n",
       "      <td>Uruguay</td>\n",
       "      <td>6.501700</td>\n",
       "      <td>0.913873</td>\n",
       "    </tr>\n",
       "    <tr>\n",
       "      <th>29</th>\n",
       "      <td>France</td>\n",
       "      <td>6.656207</td>\n",
       "      <td>0.914598</td>\n",
       "    </tr>\n",
       "    <tr>\n",
       "      <th>44</th>\n",
       "      <td>Israel</td>\n",
       "      <td>7.577528</td>\n",
       "      <td>0.916583</td>\n",
       "    </tr>\n",
       "    <tr>\n",
       "      <th>20</th>\n",
       "      <td>Croatia</td>\n",
       "      <td>6.286790</td>\n",
       "      <td>0.917742</td>\n",
       "    </tr>\n",
       "    <tr>\n",
       "      <th>68</th>\n",
       "      <td>Netherlands</td>\n",
       "      <td>7.314151</td>\n",
       "      <td>0.918759</td>\n",
       "    </tr>\n",
       "    <tr>\n",
       "      <th>4</th>\n",
       "      <td>Australia</td>\n",
       "      <td>7.111599</td>\n",
       "      <td>0.919755</td>\n",
       "    </tr>\n",
       "    <tr>\n",
       "      <th>104</th>\n",
       "      <td>United States</td>\n",
       "      <td>6.959088</td>\n",
       "      <td>0.920009</td>\n",
       "    </tr>\n",
       "    <tr>\n",
       "      <th>89</th>\n",
       "      <td>South Africa</td>\n",
       "      <td>5.598654</td>\n",
       "      <td>0.922239</td>\n",
       "    </tr>\n",
       "    <tr>\n",
       "      <th>14</th>\n",
       "      <td>Canada</td>\n",
       "      <td>6.939435</td>\n",
       "      <td>0.926076</td>\n",
       "    </tr>\n",
       "    <tr>\n",
       "      <th>91</th>\n",
       "      <td>Spain</td>\n",
       "      <td>6.469611</td>\n",
       "      <td>0.926417</td>\n",
       "    </tr>\n",
       "    <tr>\n",
       "      <th>62</th>\n",
       "      <td>Mongolia</td>\n",
       "      <td>5.721034</td>\n",
       "      <td>0.927117</td>\n",
       "    </tr>\n",
       "    <tr>\n",
       "      <th>56</th>\n",
       "      <td>Lithuania</td>\n",
       "      <td>6.864573</td>\n",
       "      <td>0.928175</td>\n",
       "    </tr>\n",
       "    <tr>\n",
       "      <th>93</th>\n",
       "      <td>Sweden</td>\n",
       "      <td>7.439280</td>\n",
       "      <td>0.931820</td>\n",
       "    </tr>\n",
       "    <tr>\n",
       "      <th>94</th>\n",
       "      <td>Switzerland</td>\n",
       "      <td>7.327672</td>\n",
       "      <td>0.934393</td>\n",
       "    </tr>\n",
       "    <tr>\n",
       "      <th>79</th>\n",
       "      <td>Poland</td>\n",
       "      <td>5.978069</td>\n",
       "      <td>0.935535</td>\n",
       "    </tr>\n",
       "    <tr>\n",
       "      <th>22</th>\n",
       "      <td>Denmark</td>\n",
       "      <td>7.698747</td>\n",
       "      <td>0.944927</td>\n",
       "    </tr>\n",
       "    <tr>\n",
       "      <th>27</th>\n",
       "      <td>Estonia</td>\n",
       "      <td>6.553916</td>\n",
       "      <td>0.945865</td>\n",
       "    </tr>\n",
       "    <tr>\n",
       "      <th>73</th>\n",
       "      <td>Norway</td>\n",
       "      <td>7.361574</td>\n",
       "      <td>0.947877</td>\n",
       "    </tr>\n",
       "    <tr>\n",
       "      <th>37</th>\n",
       "      <td>Hungary</td>\n",
       "      <td>6.226648</td>\n",
       "      <td>0.947892</td>\n",
       "    </tr>\n",
       "    <tr>\n",
       "      <th>69</th>\n",
       "      <td>New Zealand</td>\n",
       "      <td>7.136701</td>\n",
       "      <td>0.949832</td>\n",
       "    </tr>\n",
       "    <tr>\n",
       "      <th>21</th>\n",
       "      <td>Czechia</td>\n",
       "      <td>6.942497</td>\n",
       "      <td>0.950227</td>\n",
       "    </tr>\n",
       "    <tr>\n",
       "      <th>87</th>\n",
       "      <td>Slovakia</td>\n",
       "      <td>6.418504</td>\n",
       "      <td>0.951164</td>\n",
       "    </tr>\n",
       "    <tr>\n",
       "      <th>54</th>\n",
       "      <td>Latvia</td>\n",
       "      <td>6.353091</td>\n",
       "      <td>0.954086</td>\n",
       "    </tr>\n",
       "    <tr>\n",
       "      <th>88</th>\n",
       "      <td>Slovenia</td>\n",
       "      <td>6.761221</td>\n",
       "      <td>0.955253</td>\n",
       "    </tr>\n",
       "    <tr>\n",
       "      <th>28</th>\n",
       "      <td>Finland</td>\n",
       "      <td>7.794378</td>\n",
       "      <td>0.970289</td>\n",
       "    </tr>\n",
       "    <tr>\n",
       "      <th>38</th>\n",
       "      <td>Iceland</td>\n",
       "      <td>7.564625</td>\n",
       "      <td>0.979858</td>\n",
       "    </tr>\n",
       "  </tbody>\n",
       "</table>\n",
       "</div>"
      ],
      "text/plain": [
       "           Country  Happiness score  Social support\n",
       "59       Mauritius         5.949120        0.886510\n",
       "85          Serbia         6.245267        0.890106\n",
       "15           Chile         6.435631        0.891461\n",
       "80        Portugal         6.183014        0.894942\n",
       "106     Uzbekistan         6.185308        0.895504\n",
       "48           Japan         6.091325        0.895738\n",
       "75          Panama         6.552779        0.898621\n",
       "52      Kyrgyzstan         5.563700        0.904273\n",
       "50      Kazakhstan         6.259634        0.906053\n",
       "76        Paraguay         5.575535        0.907542\n",
       "105        Uruguay         6.501700        0.913873\n",
       "29          France         6.656207        0.914598\n",
       "44          Israel         7.577528        0.916583\n",
       "20         Croatia         6.286790        0.917742\n",
       "68     Netherlands         7.314151        0.918759\n",
       "4        Australia         7.111599        0.919755\n",
       "104  United States         6.959088        0.920009\n",
       "89    South Africa         5.598654        0.922239\n",
       "14          Canada         6.939435        0.926076\n",
       "91           Spain         6.469611        0.926417\n",
       "62        Mongolia         5.721034        0.927117\n",
       "56       Lithuania         6.864573        0.928175\n",
       "93          Sweden         7.439280        0.931820\n",
       "94     Switzerland         7.327672        0.934393\n",
       "79          Poland         5.978069        0.935535\n",
       "22         Denmark         7.698747        0.944927\n",
       "27         Estonia         6.553916        0.945865\n",
       "73          Norway         7.361574        0.947877\n",
       "37         Hungary         6.226648        0.947892\n",
       "69     New Zealand         7.136701        0.949832\n",
       "21         Czechia         6.942497        0.950227\n",
       "87        Slovakia         6.418504        0.951164\n",
       "54          Latvia         6.353091        0.954086\n",
       "88        Slovenia         6.761221        0.955253\n",
       "28         Finland         7.794378        0.970289\n",
       "38         Iceland         7.564625        0.979858"
      ]
     },
     "execution_count": 19,
     "metadata": {},
     "output_type": "execute_result"
    }
   ],
   "source": [
    "top_third = h0_test.iloc[74:110,:]\n",
    "top_third"
   ]
  },
  {
   "cell_type": "code",
   "execution_count": 20,
   "id": "c1683bc9",
   "metadata": {},
   "outputs": [
    {
     "data": {
      "text/plain": [
       "Country      Happiness score  Social support\n",
       "Albania      5.255482         0.701883          1\n",
       "New Zealand  7.136701         0.949832          1\n",
       "Portugal     6.183014         0.894942          1\n",
       "Poland       5.978069         0.935535          1\n",
       "Philippines  5.965058         0.778192          1\n",
       "                                               ..\n",
       "Ghana        4.377951         0.632730          1\n",
       "Germany      6.754524         0.867583          1\n",
       "Georgia      4.911273         0.670689          1\n",
       "Gabon        5.075422         0.753872          1\n",
       "Zimbabwe     3.154578         0.685151          1\n",
       "Length: 110, dtype: int64"
      ]
     },
     "execution_count": 20,
     "metadata": {},
     "output_type": "execute_result"
    }
   ],
   "source": [
    "# concatenate the thirds back together just to triple check there aren't duplicate countries\n",
    "check_df = pd.concat([top_third,middle_third,bottom_third])\n",
    "check_df.value_counts()"
   ]
  },
  {
   "cell_type": "code",
   "execution_count": 21,
   "id": "4893f167",
   "metadata": {},
   "outputs": [
    {
     "name": "stdout",
     "output_type": "stream",
     "text": [
      "110\n"
     ]
    }
   ],
   "source": [
    "# get only the happiness score for each group and double check the count is correct\n",
    "top_happiness = top_third[\"Happiness score\"]\n",
    "middle_happiness = middle_third[\"Happiness score\"]\n",
    "bottom_happiness = bottom_third[\"Happiness score\"]\n",
    "total = top_happiness.count() + middle_happiness.count() + bottom_happiness.count()\n",
    "print(total)"
   ]
  },
  {
   "cell_type": "code",
   "execution_count": 22,
   "id": "ddaaac6e",
   "metadata": {},
   "outputs": [
    {
     "data": {
      "text/plain": [
       "F_onewayResult(statistic=81.59422930551752, pvalue=3.0050980152485063e-22)"
      ]
     },
     "execution_count": 22,
     "metadata": {},
     "output_type": "execute_result"
    }
   ],
   "source": [
    "# run ANOVA test!\n",
    "st.f_oneway(top_happiness,middle_happiness,bottom_happiness)"
   ]
  },
  {
   "cell_type": "code",
   "execution_count": 23,
   "id": "3939ba10",
   "metadata": {},
   "outputs": [
    {
     "data": {
      "text/plain": [
       "0.0836019454461819"
      ]
     },
     "execution_count": 23,
     "metadata": {},
     "output_type": "execute_result"
    }
   ],
   "source": [
    "bottom_third['Social support'].std()"
   ]
  },
  {
   "cell_type": "code",
   "execution_count": 24,
   "id": "429ffcea",
   "metadata": {},
   "outputs": [
    {
     "data": {
      "text/plain": [
       "0.0327845657402368"
      ]
     },
     "execution_count": 24,
     "metadata": {},
     "output_type": "execute_result"
    }
   ],
   "source": [
    "middle_third['Social support'].std()"
   ]
  },
  {
   "cell_type": "code",
   "execution_count": 25,
   "id": "c725fee4",
   "metadata": {},
   "outputs": [
    {
     "data": {
      "text/plain": [
       "0.023656948674724176"
      ]
     },
     "execution_count": 25,
     "metadata": {},
     "output_type": "execute_result"
    }
   ],
   "source": [
    "top_third['Social support'].std()"
   ]
  },
  {
   "cell_type": "code",
   "execution_count": 26,
   "id": "2005038c",
   "metadata": {},
   "outputs": [
    {
     "data": {
      "text/plain": [
       "KruskalResult(statistic=69.45942035401498, pvalue=8.261872947301994e-16)"
      ]
     },
     "execution_count": 26,
     "metadata": {},
     "output_type": "execute_result"
    }
   ],
   "source": [
    "# Run Kruskal test as standard deviations might be different\n",
    "st.kruskal(top_happiness,middle_happiness,bottom_happiness)"
   ]
  },
  {
   "cell_type": "markdown",
   "id": "dce25ce1",
   "metadata": {},
   "source": [
    "### Result\n",
    "The pvalue is either 3.0050980152485063e-22 or 8.261872947301994e-16 (depending on test), both of which are quite smaller than 0.05! This rejects the null hypothesis that says the means of all three groups are the same, indicating there is a statistically significant correlation between happiness and social support."
   ]
  },
  {
   "cell_type": "markdown",
   "id": "2514f82d",
   "metadata": {},
   "source": [
    "### Other analysis"
   ]
  },
  {
   "cell_type": "code",
   "execution_count": null,
   "id": "e53c038e",
   "metadata": {},
   "outputs": [],
   "source": [
    "plt.hist(happiness_2021['Social support'])\n",
    "plt.xlabel(\"Social Support\")\n",
    "plt.title(\"Distribution of social support scores\")\n",
    "plt.show()"
   ]
  },
  {
   "cell_type": "code",
   "execution_count": null,
   "id": "540f5174",
   "metadata": {},
   "outputs": [],
   "source": [
    "x_values = happiness_2021['Social support']\n",
    "y_values = happiness_2021['Happiness score']"
   ]
  },
  {
   "cell_type": "code",
   "execution_count": 28,
   "id": "ec7a8bf3",
   "metadata": {},
   "outputs": [
    {
     "name": "stdout",
     "output_type": "stream",
     "text": [
      "Q1: 0.71382378\n",
      "Q3: 0.905608341\n",
      "IQR: 0.19178456099999996\n",
      "Lower Bound: 0.42614693850000007\n",
      "Upper Bound: 1.1932851825\n"
     ]
    }
   ],
   "source": [
    "quartiles = x_values.quantile([0.25,0.5,0.75])\n",
    "lowerq = quartiles[0.25]\n",
    "upperq = quartiles[0.75]\n",
    "iqr = upperq-lowerq\n",
    "lower_bound = lowerq - (1.5*iqr)\n",
    "upper_bound = upperq + (1.5*iqr)\n",
    "print(f\"Q1: {lowerq}\\nQ3: {upperq}\\nIQR: {iqr}\\nLower Bound: {lower_bound}\\nUpper Bound: {upper_bound}\")"
   ]
  },
  {
   "cell_type": "code",
   "execution_count": 29,
   "id": "9d02c4e7",
   "metadata": {},
   "outputs": [
    {
     "data": {
      "text/html": [
       "<div>\n",
       "<style scoped>\n",
       "    .dataframe tbody tr th:only-of-type {\n",
       "        vertical-align: middle;\n",
       "    }\n",
       "\n",
       "    .dataframe tbody tr th {\n",
       "        vertical-align: top;\n",
       "    }\n",
       "\n",
       "    .dataframe thead th {\n",
       "        text-align: right;\n",
       "    }\n",
       "</style>\n",
       "<table border=\"1\" class=\"dataframe\">\n",
       "  <thead>\n",
       "    <tr style=\"text-align: right;\">\n",
       "      <th></th>\n",
       "      <th>Country</th>\n",
       "      <th>Happiness score</th>\n",
       "      <th>GDP per capita</th>\n",
       "      <th>Social support</th>\n",
       "      <th>Healthy life expectancy</th>\n",
       "      <th>Freedom to make life choices</th>\n",
       "      <th>Latitude</th>\n",
       "      <th>Longitude</th>\n",
       "    </tr>\n",
       "  </thead>\n",
       "  <tbody>\n",
       "  </tbody>\n",
       "</table>\n",
       "</div>"
      ],
      "text/plain": [
       "Empty DataFrame\n",
       "Columns: [Country, Happiness score, GDP per capita, Social support, Healthy life expectancy, Freedom to make life choices, Latitude, Longitude]\n",
       "Index: []"
      ]
     },
     "execution_count": 29,
     "metadata": {},
     "output_type": "execute_result"
    }
   ],
   "source": [
    "outliers = happiness_2021.loc[x_values<lower_bound,:]\n",
    "outliers\n",
    "#outliers.sort_values('Social support')"
   ]
  },
  {
   "cell_type": "code",
   "execution_count": 30,
   "id": "45b173a2",
   "metadata": {},
   "outputs": [
    {
     "data": {
      "image/png": "[encoded data removed]",
      "text/plain": [
       "<Figure size 432x288 with 1 Axes>"
      ]
     },
     "metadata": {
      "needs_background": "light"
     },
     "output_type": "display_data"
    }
   ],
   "source": [
    "plt.boxplot(x_values, showmeans=True)\n",
    "plt.title(\"Social Support Values\")\n",
    "for country in outliers['Country'].values:\n",
    "    y = outliers.loc[outliers['Country']==country,'Social support']\n",
    "    plt.annotate(country,(1.05,y),fontsize=10,color=\"red\")\n",
    "plt.show()"
   ]
  },
  {
   "cell_type": "code",
   "execution_count": 31,
   "id": "4278a8b2",
   "metadata": {},
   "outputs": [],
   "source": [
    "(slope, intercept, rvalue, pvalue, stderr) = st.linregress(x_values, y_values)\n",
    "regress_values = x_values * slope + intercept\n",
    "line_eq = \"y = \" + str(round(slope,2)) + \"x + \" + str(round(intercept,2))"
   ]
  },
  {
   "cell_type": "code",
   "execution_count": 32,
   "id": "f802a54c",
   "metadata": {},
   "outputs": [
    {
     "data": {
      "image/png": "[encoded data removed]",
      "text/plain": [
       "<Figure size 432x288 with 1 Axes>"
      ]
     },
     "metadata": {
      "needs_background": "light"
     },
     "output_type": "display_data"
    }
   ],
   "source": [
    "plt.scatter(x_values,y_values)\n",
    "plt.plot(x_values,regress_values,\"r-\")\n",
    "plt.annotate(line_eq,(0.7,2.4),fontsize=15,color=\"red\")\n",
    "plt.xlabel(\"Social Support\")\n",
    "plt.ylabel(\"Happiness Score\")\n",
    "plt.title(\"Social Support\\nvs\\nTotal Happiness Score\")\n",
    "plt.show()"
   ]
  },
  {
   "cell_type": "code",
   "execution_count": 33,
   "id": "75d07dfa",
   "metadata": {},
   "outputs": [
    {
     "name": "stdout",
     "output_type": "stream",
     "text": [
      "The correlation between social support and happiness is 0.81, suggesting a strong link between the two factors.\n"
     ]
    }
   ],
   "source": [
    "pr = round(st.pearsonr(x_values,y_values)[0],2)\n",
    "print(f'The correlation between social support and happiness is {pr}, suggesting a strong link between the two factors.')"
   ]
  },
  {
   "cell_type": "code",
   "execution_count": 34,
   "id": "d60c27d7",
   "metadata": {},
   "outputs": [
    {
     "data": {
      "text/html": [
       "<div>\n",
       "<style scoped>\n",
       "    .dataframe tbody tr th:only-of-type {\n",
       "        vertical-align: middle;\n",
       "    }\n",
       "\n",
       "    .dataframe tbody tr th {\n",
       "        vertical-align: top;\n",
       "    }\n",
       "\n",
       "    .dataframe thead th {\n",
       "        text-align: right;\n",
       "    }\n",
       "</style>\n",
       "<table border=\"1\" class=\"dataframe\">\n",
       "  <thead>\n",
       "    <tr style=\"text-align: right;\">\n",
       "      <th></th>\n",
       "      <th>Country</th>\n",
       "      <th>Happiness score</th>\n",
       "      <th>Social support</th>\n",
       "    </tr>\n",
       "  </thead>\n",
       "  <tbody>\n",
       "    <tr>\n",
       "      <th>55</th>\n",
       "      <td>Lebanon</td>\n",
       "      <td>2.178809</td>\n",
       "      <td>0.506775</td>\n",
       "    </tr>\n",
       "    <tr>\n",
       "      <th>39</th>\n",
       "      <td>India</td>\n",
       "      <td>3.558254</td>\n",
       "      <td>0.569733</td>\n",
       "    </tr>\n",
       "    <tr>\n",
       "      <th>57</th>\n",
       "      <td>Malawi</td>\n",
       "      <td>3.635283</td>\n",
       "      <td>0.557914</td>\n",
       "    </tr>\n",
       "    <tr>\n",
       "      <th>58</th>\n",
       "      <td>Mali</td>\n",
       "      <td>4.113096</td>\n",
       "      <td>0.573394</td>\n",
       "    </tr>\n",
       "    <tr>\n",
       "      <th>6</th>\n",
       "      <td>Benin</td>\n",
       "      <td>4.493431</td>\n",
       "      <td>0.435524</td>\n",
       "    </tr>\n",
       "    <tr>\n",
       "      <th>18</th>\n",
       "      <td>Congo (Brazzaville)</td>\n",
       "      <td>4.920531</td>\n",
       "      <td>0.567651</td>\n",
       "    </tr>\n",
       "    <tr>\n",
       "      <th>46</th>\n",
       "      <td>Ivory Coast</td>\n",
       "      <td>5.055807</td>\n",
       "      <td>0.554225</td>\n",
       "    </tr>\n",
       "    <tr>\n",
       "      <th>63</th>\n",
       "      <td>Morocco</td>\n",
       "      <td>5.326249</td>\n",
       "      <td>0.504564</td>\n",
       "    </tr>\n",
       "  </tbody>\n",
       "</table>\n",
       "</div>"
      ],
      "text/plain": [
       "                Country  Happiness score  Social support\n",
       "55              Lebanon         2.178809        0.506775\n",
       "39                India         3.558254        0.569733\n",
       "57               Malawi         3.635283        0.557914\n",
       "58                 Mali         4.113096        0.573394\n",
       "6                 Benin         4.493431        0.435524\n",
       "18  Congo (Brazzaville)         4.920531        0.567651\n",
       "46          Ivory Coast         5.055807        0.554225\n",
       "63              Morocco         5.326249        0.504564"
      ]
     },
     "execution_count": 34,
     "metadata": {},
     "output_type": "execute_result"
    }
   ],
   "source": [
    "bottom_8 = happiness_2021[[\"Country\",\"Happiness score\",\"Social support\"]].sort_values('Social support').head(8)\n",
    "bottom_8.sort_values(['Happiness score','Social support'])"
   ]
  },
  {
   "cell_type": "code",
   "execution_count": 35,
   "id": "038fca55",
   "metadata": {},
   "outputs": [
    {
     "data": {
      "image/png": "[encoded data removed]",
      "text/plain": [
       "<Figure size 432x288 with 1 Axes>"
      ]
     },
     "metadata": {
      "needs_background": "light"
     },
     "output_type": "display_data"
    },
    {
     "name": "stdout",
     "output_type": "stream",
     "text": [
      "The correlation between social support and happiness for bottom 8 countries is -0.02\n"
     ]
    }
   ],
   "source": [
    "x_values = bottom_8['Social support']\n",
    "y_values = bottom_8['Happiness score']\n",
    "(slope, intercept, rvalue, pvalue, stderr) = st.linregress(x_values, y_values)\n",
    "regress_values = x_values * slope + intercept\n",
    "line_eq = \"y = \" + str(round(slope,2)) + \"x + \" + str(round(intercept,2))\n",
    "plt.scatter(x_values,y_values)\n",
    "plt.plot(x_values,regress_values,\"r-\")\n",
    "plt.annotate(line_eq,(0.51,2.4),fontsize=15,color=\"red\")\n",
    "plt.xlabel(\"Social Support\")\n",
    "plt.ylabel(\"Happiness Score\")\n",
    "plt.title(\"Social Support\\nvs\\nTotal Happiness Score\")\n",
    "plt.show()\n",
    "pr = round(st.pearsonr(x_values,y_values)[0],2)\n",
    "print(f'The correlation between social support and happiness for bottom 8 countries is {pr}')"
   ]
  },
  {
   "cell_type": "code",
   "execution_count": 36,
   "id": "7b4332bd",
   "metadata": {},
   "outputs": [],
   "source": [
    "top_ten = happiness_2021.sort_values(['Social support','Happiness score'], ascending = False).head(10)"
   ]
  },
  {
   "cell_type": "code",
   "execution_count": 37,
   "id": "fc79d4e9",
   "metadata": {},
   "outputs": [
    {
     "data": {
      "application/vnd.jupyter.widget-view+json": {
       "model_id": "bae105f6563a4688a1f3094f10267ff6",
       "version_major": 2,
       "version_minor": 0
      },
      "text/plain": [
       "Figure(layout=FigureLayout(height='420px'))"
      ]
     },
     "metadata": {},
     "output_type": "display_data"
    }
   ],
   "source": [
    "gmaps.configure(api_key = gkey)\n",
    "fig = gmaps.figure()\n",
    "\n",
    "social_sorted = happiness_2021.sort_values('Social support')\n",
    "top_locations = social_sorted.iloc[74:110,[6,7]]\n",
    "top_social = social_sorted.iloc[74:110,3]\n",
    "middle_locations = social_sorted.iloc[37:74,[6,7]]\n",
    "middle_social = social_sorted.iloc[37:74,3]\n",
    "bottom_locations = social_sorted.iloc[0:37,[6,7]]\n",
    "bottom_social = social_sorted.iloc[0:37,3]\n",
    "\n",
    "all_locations = happiness_2021[[\"Latitude\",\"Longitude\"]]\n",
    "all_social = happiness_2021['Social support']\n",
    "                                        \n",
    "fig = gmaps.figure()\n",
    "\n",
    "symbols_top = gmaps.symbol_layer(top_locations, fill_color='#028833', stroke_color='#028833')\n",
    "fig.add_layer(symbols_top)\n",
    "\n",
    "symbols_middle = gmaps.symbol_layer(middle_locations, fill_color='blue', stroke_color='blue')\n",
    "fig.add_layer(symbols_middle)\n",
    "\n",
    "symbols_bottom = gmaps.symbol_layer(bottom_locations, fill_color='#E65300', stroke_color='#E65300')\n",
    "fig.add_layer(symbols_bottom)\n",
    "\n",
    "fig\n"
   ]
  },
  {
   "cell_type": "code",
   "execution_count": null,
   "id": "192b1701",
   "metadata": {},
   "outputs": [],
   "source": [
    "# End of Amanda's code"
   ]
  },
  {
   "cell_type": "code",
   "execution_count": 39,
   "id": "d137802c",
   "metadata": {},
   "outputs": [],
   "source": [
    "# Start John's code"
   ]
  },
  {
   "cell_type": "code",
   "execution_count": 40,
   "id": "e7c3ed72",
   "metadata": {},
   "outputs": [],
   "source": [
    "happiness_2021 = pd.read_csv('cleaned_happiness_2021.csv')"
   ]
  },
  {
   "cell_type": "code",
   "execution_count": 41,
   "id": "be234afb",
   "metadata": {},
   "outputs": [
    {
     "data": {
      "text/html": [
       "<div>\n",
       "<style scoped>\n",
       "    .dataframe tbody tr th:only-of-type {\n",
       "        vertical-align: middle;\n",
       "    }\n",
       "\n",
       "    .dataframe tbody tr th {\n",
       "        vertical-align: top;\n",
       "    }\n",
       "\n",
       "    .dataframe thead th {\n",
       "        text-align: right;\n",
       "    }\n",
       "</style>\n",
       "<table border=\"1\" class=\"dataframe\">\n",
       "  <thead>\n",
       "    <tr style=\"text-align: right;\">\n",
       "      <th></th>\n",
       "      <th>Happiness score</th>\n",
       "      <th>GDP per capita</th>\n",
       "      <th>Social support</th>\n",
       "      <th>Healthy life expectancy</th>\n",
       "      <th>Freedom to make life choices</th>\n",
       "      <th>Latitude</th>\n",
       "      <th>Longitude</th>\n",
       "    </tr>\n",
       "    <tr>\n",
       "      <th>Country</th>\n",
       "      <th></th>\n",
       "      <th></th>\n",
       "      <th></th>\n",
       "      <th></th>\n",
       "      <th></th>\n",
       "      <th></th>\n",
       "      <th></th>\n",
       "    </tr>\n",
       "  </thead>\n",
       "  <tbody>\n",
       "    <tr>\n",
       "      <th>Albania</th>\n",
       "      <td>5.255482</td>\n",
       "      <td>9.562287</td>\n",
       "      <td>0.701883</td>\n",
       "      <td>69.150002</td>\n",
       "      <td>0.827453</td>\n",
       "      <td>41.153332</td>\n",
       "      <td>20.168331</td>\n",
       "    </tr>\n",
       "    <tr>\n",
       "      <th>Algeria</th>\n",
       "      <td>5.217018</td>\n",
       "      <td>9.303516</td>\n",
       "      <td>0.840710</td>\n",
       "      <td>66.599998</td>\n",
       "      <td>0.558487</td>\n",
       "      <td>28.033886</td>\n",
       "      <td>1.659626</td>\n",
       "    </tr>\n",
       "    <tr>\n",
       "      <th>Argentina</th>\n",
       "      <td>5.908279</td>\n",
       "      <td>9.955421</td>\n",
       "      <td>0.882305</td>\n",
       "      <td>67.199997</td>\n",
       "      <td>0.819479</td>\n",
       "      <td>-38.416097</td>\n",
       "      <td>-63.616672</td>\n",
       "    </tr>\n",
       "    <tr>\n",
       "      <th>Armenia</th>\n",
       "      <td>5.300569</td>\n",
       "      <td>9.500485</td>\n",
       "      <td>0.762044</td>\n",
       "      <td>67.650002</td>\n",
       "      <td>0.795170</td>\n",
       "      <td>40.069099</td>\n",
       "      <td>45.038189</td>\n",
       "    </tr>\n",
       "    <tr>\n",
       "      <th>Australia</th>\n",
       "      <td>7.111599</td>\n",
       "      <td>10.818342</td>\n",
       "      <td>0.919755</td>\n",
       "      <td>71.050003</td>\n",
       "      <td>0.912402</td>\n",
       "      <td>-25.274398</td>\n",
       "      <td>133.775136</td>\n",
       "    </tr>\n",
       "    <tr>\n",
       "      <th>...</th>\n",
       "      <td>...</td>\n",
       "      <td>...</td>\n",
       "      <td>...</td>\n",
       "      <td>...</td>\n",
       "      <td>...</td>\n",
       "      <td>...</td>\n",
       "      <td>...</td>\n",
       "    </tr>\n",
       "    <tr>\n",
       "      <th>Uruguay</th>\n",
       "      <td>6.501700</td>\n",
       "      <td>10.010917</td>\n",
       "      <td>0.913873</td>\n",
       "      <td>67.500000</td>\n",
       "      <td>0.898724</td>\n",
       "      <td>-32.522779</td>\n",
       "      <td>-55.765835</td>\n",
       "    </tr>\n",
       "    <tr>\n",
       "      <th>Uzbekistan</th>\n",
       "      <td>6.185308</td>\n",
       "      <td>8.941695</td>\n",
       "      <td>0.895504</td>\n",
       "      <td>65.300003</td>\n",
       "      <td>0.927415</td>\n",
       "      <td>41.377491</td>\n",
       "      <td>64.585262</td>\n",
       "    </tr>\n",
       "    <tr>\n",
       "      <th>Vietnam</th>\n",
       "      <td>5.540250</td>\n",
       "      <td>9.028702</td>\n",
       "      <td>0.799494</td>\n",
       "      <td>65.500000</td>\n",
       "      <td>0.896800</td>\n",
       "      <td>14.058324</td>\n",
       "      <td>108.277199</td>\n",
       "    </tr>\n",
       "    <tr>\n",
       "      <th>Zambia</th>\n",
       "      <td>3.082155</td>\n",
       "      <td>8.087629</td>\n",
       "      <td>0.619071</td>\n",
       "      <td>55.250000</td>\n",
       "      <td>0.832574</td>\n",
       "      <td>-13.133897</td>\n",
       "      <td>27.849332</td>\n",
       "    </tr>\n",
       "    <tr>\n",
       "      <th>Zimbabwe</th>\n",
       "      <td>3.154578</td>\n",
       "      <td>8.153248</td>\n",
       "      <td>0.685151</td>\n",
       "      <td>54.049999</td>\n",
       "      <td>0.667636</td>\n",
       "      <td>-19.015438</td>\n",
       "      <td>29.154857</td>\n",
       "    </tr>\n",
       "  </tbody>\n",
       "</table>\n",
       "<p>110 rows × 7 columns</p>\n",
       "</div>"
      ],
      "text/plain": [
       "            Happiness score  GDP per capita  Social support  \\\n",
       "Country                                                       \n",
       "Albania            5.255482        9.562287        0.701883   \n",
       "Algeria            5.217018        9.303516        0.840710   \n",
       "Argentina          5.908279        9.955421        0.882305   \n",
       "Armenia            5.300569        9.500485        0.762044   \n",
       "Australia          7.111599       10.818342        0.919755   \n",
       "...                     ...             ...             ...   \n",
       "Uruguay            6.501700       10.010917        0.913873   \n",
       "Uzbekistan         6.185308        8.941695        0.895504   \n",
       "Vietnam            5.540250        9.028702        0.799494   \n",
       "Zambia             3.082155        8.087629        0.619071   \n",
       "Zimbabwe           3.154578        8.153248        0.685151   \n",
       "\n",
       "            Healthy life expectancy  Freedom to make life choices   Latitude  \\\n",
       "Country                                                                        \n",
       "Albania                   69.150002                      0.827453  41.153332   \n",
       "Algeria                   66.599998                      0.558487  28.033886   \n",
       "Argentina                 67.199997                      0.819479 -38.416097   \n",
       "Armenia                   67.650002                      0.795170  40.069099   \n",
       "Australia                 71.050003                      0.912402 -25.274398   \n",
       "...                             ...                           ...        ...   \n",
       "Uruguay                   67.500000                      0.898724 -32.522779   \n",
       "Uzbekistan                65.300003                      0.927415  41.377491   \n",
       "Vietnam                   65.500000                      0.896800  14.058324   \n",
       "Zambia                    55.250000                      0.832574 -13.133897   \n",
       "Zimbabwe                  54.049999                      0.667636 -19.015438   \n",
       "\n",
       "             Longitude  \n",
       "Country                 \n",
       "Albania      20.168331  \n",
       "Algeria       1.659626  \n",
       "Argentina   -63.616672  \n",
       "Armenia      45.038189  \n",
       "Australia   133.775136  \n",
       "...                ...  \n",
       "Uruguay     -55.765835  \n",
       "Uzbekistan   64.585262  \n",
       "Vietnam     108.277199  \n",
       "Zambia       27.849332  \n",
       "Zimbabwe     29.154857  \n",
       "\n",
       "[110 rows x 7 columns]"
      ]
     },
     "execution_count": 41,
     "metadata": {},
     "output_type": "execute_result"
    }
   ],
   "source": [
    "happiness_2021.set_index('Country')"
   ]
  },
  {
   "cell_type": "markdown",
   "id": "ae649fa3",
   "metadata": {},
   "source": [
    "### Healthy Life Expectancy\n",
    "Per the World Happiness Report: \n",
    ">Healthy Life Expectancy (HLE). Healthy life expectancies at birth are based\n",
    "on the data extracted from the World Health Organization’s (WHO) Global\n",
    "Health Observatory data repository (Last updated: 2020-09-28)"
   ]
  },
  {
   "cell_type": "code",
   "execution_count": 42,
   "id": "9ace4604",
   "metadata": {},
   "outputs": [],
   "source": [
    "x_values = happiness_2021['Healthy life expectancy']\n",
    "y_values = happiness_2021['Happiness score']"
   ]
  },
  {
   "cell_type": "code",
   "execution_count": 43,
   "id": "ccbfd584",
   "metadata": {},
   "outputs": [
    {
     "name": "stdout",
     "output_type": "stream",
     "text": [
      "Q1: 61.862499235\n",
      "Q3: 69.299999235\n",
      "IQR: 7.4375\n",
      "Lower Bound: 50.706249235\n",
      "Upper Bound: 80.456249235\n"
     ]
    }
   ],
   "source": [
    "quartiles = x_values.quantile([0.25,0.5,0.75])\n",
    "lowerq = quartiles[0.25]\n",
    "upperq = quartiles[0.75]\n",
    "iqr = upperq-lowerq\n",
    "lower_bound = lowerq - (1.5*iqr)\n",
    "upper_bound = upperq + (1.5*iqr)\n",
    "print(f\"Q1: {lowerq}\\nQ3: {upperq}\\nIQR: {iqr}\\nLower Bound: {lower_bound}\\nUpper Bound: {upper_bound}\")"
   ]
  },
  {
   "cell_type": "code",
   "execution_count": 44,
   "id": "6023ed3b",
   "metadata": {},
   "outputs": [
    {
     "data": {
      "text/html": [
       "<div>\n",
       "<style scoped>\n",
       "    .dataframe tbody tr th:only-of-type {\n",
       "        vertical-align: middle;\n",
       "    }\n",
       "\n",
       "    .dataframe tbody tr th {\n",
       "        vertical-align: top;\n",
       "    }\n",
       "\n",
       "    .dataframe thead th {\n",
       "        text-align: right;\n",
       "    }\n",
       "</style>\n",
       "<table border=\"1\" class=\"dataframe\">\n",
       "  <thead>\n",
       "    <tr style=\"text-align: right;\">\n",
       "      <th></th>\n",
       "      <th>Country</th>\n",
       "      <th>Happiness score</th>\n",
       "      <th>GDP per capita</th>\n",
       "      <th>Social support</th>\n",
       "      <th>Healthy life expectancy</th>\n",
       "      <th>Freedom to make life choices</th>\n",
       "      <th>Latitude</th>\n",
       "      <th>Longitude</th>\n",
       "    </tr>\n",
       "  </thead>\n",
       "  <tbody>\n",
       "  </tbody>\n",
       "</table>\n",
       "</div>"
      ],
      "text/plain": [
       "Empty DataFrame\n",
       "Columns: [Country, Happiness score, GDP per capita, Social support, Healthy life expectancy, Freedom to make life choices, Latitude, Longitude]\n",
       "Index: []"
      ]
     },
     "execution_count": 44,
     "metadata": {},
     "output_type": "execute_result"
    }
   ],
   "source": [
    "outliers = happiness_2021.loc[x_values < lower_bound,:]\n",
    "outliers\n",
    "outliers.sort_values('Healthy life expectancy')"
   ]
  },
  {
   "cell_type": "code",
   "execution_count": 45,
   "id": "2fe2f9e2",
   "metadata": {},
   "outputs": [
    {
     "data": {
      "image/png": "[encoded data removed]",
      "text/plain": [
       "<Figure size 432x288 with 1 Axes>"
      ]
     },
     "metadata": {
      "needs_background": "light"
     },
     "output_type": "display_data"
    }
   ],
   "source": [
    "plt.boxplot(x_values, showmeans=True)\n",
    "plt.title(\"Life Expectancy\")\n",
    "for country in outliers['Country'].values:\n",
    "    y = outliers.loc[outliers['Country'] ==country,'Healthy life expectancy']\n",
    "    plt.annotate(Country, (1.05, y), fontsize=10, color=\"blue\")\n",
    "plt.show()"
   ]
  },
  {
   "cell_type": "markdown",
   "id": "a2a2a447",
   "metadata": {},
   "source": [
    "### There are no outliers in Healthy life expectancy"
   ]
  },
  {
   "cell_type": "code",
   "execution_count": 46,
   "id": "6c2fc7c3",
   "metadata": {},
   "outputs": [],
   "source": [
    "(slope, intercept, rvalue, pvalue, stderr) = st.linregress(x_values, y_values)\n",
    "regress_values = x_values * slope + intercept\n",
    "line_eq = \"y = \" + str(round(slope,2)) + \"x + \" + str(round(intercept,2))"
   ]
  },
  {
   "cell_type": "code",
   "execution_count": 47,
   "id": "23e456f4",
   "metadata": {},
   "outputs": [
    {
     "data": {
      "image/png": "[encoded data removed]",
      "text/plain": [
       "<Figure size 432x288 with 1 Axes>"
      ]
     },
     "metadata": {
      "needs_background": "light"
     },
     "output_type": "display_data"
    }
   ],
   "source": [
    "plt.scatter(x_values,y_values)\n",
    "plt.plot(x_values,regress_values,\"r-\")\n",
    "plt.annotate(line_eq,(52,7),fontsize=15,color=\"indigo\")\n",
    "plt.xlabel(\"Healthy Life Expectancy\")\n",
    "plt.ylabel(\"Happiness Score\")\n",
    "plt.title(\"Life Expectancy & Happiness\")\n",
    "plt.show()"
   ]
  },
  {
   "cell_type": "markdown",
   "id": "66140041",
   "metadata": {},
   "source": [
    "# Hypothesis:\n",
    "\n",
    ">When healthy life expectancy is high, there is a measurable increase in the Cantrill happiness score. <br>Null Hypothesis (H<sub>0</sub>):  When healthy life expectancy is high, there is no measurable impact in the Cantrill happiness score whatsoever.<br>If p-value is < 0.05 then we reject the null hypothesis. "
   ]
  },
  {
   "cell_type": "code",
   "execution_count": 48,
   "id": "c632298e",
   "metadata": {},
   "outputs": [
    {
     "name": "stdout",
     "output_type": "stream",
     "text": [
      "The correlation between Life Expectancy and Happiness is 0.71, suggesting a strong link between the two factors.\n"
     ]
    }
   ],
   "source": [
    "pr = round(st.pearsonr(x_values,y_values)[0],2)\n",
    "if pr > 0.7 :\n",
    "    link = \"strong\"\n",
    "else :\n",
    "    link = \"not strong\"\n",
    "    \n",
    "print(f'The correlation between Life Expectancy and Happiness is {pr}, suggesting a {link} link between the two factors.')"
   ]
  },
  {
   "cell_type": "code",
   "execution_count": 49,
   "id": "ff8e7998",
   "metadata": {},
   "outputs": [],
   "source": [
    "# Sort Data by Healthy life expectancy\n",
    "hle_test = happiness_2021[['Country', 'Happiness score', \"Healthy life expectancy\"]]\n",
    "hle_test = hle_test.sort_values('Healthy life expectancy')\n",
    "size = hle_test.count()\n",
    "#size ## 110 countries in total\n",
    "#groups will have 22 in each, graded A, B, C, D, & F"
   ]
  },
  {
   "cell_type": "code",
   "execution_count": 50,
   "id": "34222ac1",
   "metadata": {},
   "outputs": [
    {
     "data": {
      "text/plain": [
       "1.9676788204916722"
      ]
     },
     "execution_count": 50,
     "metadata": {},
     "output_type": "execute_result"
    }
   ],
   "source": [
    "F = hle_test.iloc[0: 22, :]\n",
    "F['Healthy life expectancy'].std()  # Highest Deviation"
   ]
  },
  {
   "cell_type": "code",
   "execution_count": 51,
   "id": "73bc76fc",
   "metadata": {},
   "outputs": [
    {
     "data": {
      "text/plain": [
       "1.635443791249594"
      ]
     },
     "execution_count": 51,
     "metadata": {},
     "output_type": "execute_result"
    }
   ],
   "source": [
    "D = hle_test.iloc[22: 44, :]\n",
    "D['Healthy life expectancy'].std()  # High Deviation"
   ]
  },
  {
   "cell_type": "code",
   "execution_count": 52,
   "id": "5ebe6381",
   "metadata": {},
   "outputs": [
    {
     "data": {
      "text/plain": [
       "0.5654599620421148"
      ]
     },
     "execution_count": 52,
     "metadata": {},
     "output_type": "execute_result"
    }
   ],
   "source": [
    "C = hle_test.iloc[44: 66, :]\n",
    "C['Healthy life expectancy'].std()  # Lowest Deviation"
   ]
  },
  {
   "cell_type": "code",
   "execution_count": 53,
   "id": "cf7e9241",
   "metadata": {},
   "outputs": [
    {
     "data": {
      "text/plain": [
       "0.9483868369077247"
      ]
     },
     "execution_count": 53,
     "metadata": {},
     "output_type": "execute_result"
    }
   ],
   "source": [
    "B = hle_test.iloc[66: 88, :]\n",
    "B['Healthy life expectancy'].std()  # Low Deviation"
   ]
  },
  {
   "cell_type": "code",
   "execution_count": 54,
   "id": "e710080a",
   "metadata": {},
   "outputs": [
    {
     "data": {
      "text/plain": [
       "0.9424363724186268"
      ]
     },
     "execution_count": 54,
     "metadata": {},
     "output_type": "execute_result"
    }
   ],
   "source": [
    "A = hle_test.iloc[88: 110, :]\n",
    "A['Healthy life expectancy'].std()  # Low Deviation"
   ]
  },
  {
   "cell_type": "code",
   "execution_count": 55,
   "id": "173d07c0",
   "metadata": {},
   "outputs": [
    {
     "data": {
      "text/plain": [
       "ShapiroResult(statistic=0.9410234689712524, pvalue=0.00010451104753883556)"
      ]
     },
     "execution_count": 55,
     "metadata": {},
     "output_type": "execute_result"
    }
   ],
   "source": [
    "st.shapiro(happiness_2021['Healthy life expectancy'])"
   ]
  },
  {
   "cell_type": "markdown",
   "id": "e037e660",
   "metadata": {},
   "source": [
    "### Overall, we reject the H<sub>0</sub> using the Shapiro-Wilk test"
   ]
  },
  {
   "cell_type": "code",
   "execution_count": 56,
   "id": "fd8daf96",
   "metadata": {},
   "outputs": [
    {
     "data": {
      "text/plain": [
       "ShapiroResult(statistic=0.961149275302887, pvalue=0.5128583908081055)"
      ]
     },
     "execution_count": 56,
     "metadata": {},
     "output_type": "execute_result"
    }
   ],
   "source": [
    "st.shapiro(F['Healthy life expectancy'])"
   ]
  },
  {
   "cell_type": "code",
   "execution_count": 57,
   "id": "1bd0a65f",
   "metadata": {},
   "outputs": [
    {
     "data": {
      "text/plain": [
       "ShapiroResult(statistic=0.9270840883255005, pvalue=0.1066826581954956)"
      ]
     },
     "execution_count": 57,
     "metadata": {},
     "output_type": "execute_result"
    }
   ],
   "source": [
    "st.shapiro(D['Healthy life expectancy'])"
   ]
  },
  {
   "cell_type": "code",
   "execution_count": 58,
   "id": "ec5bf5a3",
   "metadata": {},
   "outputs": [
    {
     "data": {
      "text/plain": [
       "ShapiroResult(statistic=0.9260108470916748, pvalue=0.10133292526006699)"
      ]
     },
     "execution_count": 58,
     "metadata": {},
     "output_type": "execute_result"
    }
   ],
   "source": [
    "st.shapiro(C['Healthy life expectancy'])"
   ]
  },
  {
   "cell_type": "code",
   "execution_count": 59,
   "id": "35f3d18c",
   "metadata": {},
   "outputs": [
    {
     "data": {
      "text/plain": [
       "ShapiroResult(statistic=0.9206434488296509, pvalue=0.07838799804449081)"
      ]
     },
     "execution_count": 59,
     "metadata": {},
     "output_type": "execute_result"
    }
   ],
   "source": [
    "st.shapiro(B['Healthy life expectancy'])"
   ]
  },
  {
   "cell_type": "code",
   "execution_count": 60,
   "id": "8c912e66",
   "metadata": {},
   "outputs": [
    {
     "data": {
      "text/plain": [
       "ShapiroResult(statistic=0.8887973427772522, pvalue=0.017857756465673447)"
      ]
     },
     "execution_count": 60,
     "metadata": {},
     "output_type": "execute_result"
    }
   ],
   "source": [
    "st.shapiro(A['Healthy life expectancy'])"
   ]
  },
  {
   "cell_type": "markdown",
   "id": "eb0392d5",
   "metadata": {},
   "source": [
    "#### Granularly, we fail to reject the H<sub>0</sub> in subset nations with the 20% lowest healthy life expectancy<br>and as we increase life expectancy, we creep closer to our threshold until we reach the nations<br>with the 20% highest expectancy in which we do reject the null hypothesis even within that subset."
   ]
  },
  {
   "cell_type": "code",
   "execution_count": 61,
   "id": "f9a8716f",
   "metadata": {},
   "outputs": [],
   "source": [
    "grF = happiness_2021[happiness_2021['Healthy life expectancy'] < 60][\"Happiness score\"]\n",
    "grD = happiness_2021[happiness_2021['Healthy life expectancy'].between(59.99, 65.40, inclusive='both')][\"Happiness score\"]\n",
    "grC = happiness_2021[happiness_2021['Healthy life expectancy'].between(65.40, 67.20, inclusive='both')][\"Happiness score\"]\n",
    "grB = happiness_2021[happiness_2021['Healthy life expectancy'].between(67.20, 70.33, inclusive='both')][\"Happiness score\"]\n",
    "grA = happiness_2021[happiness_2021['Healthy life expectancy'] > 70.33][\"Happiness score\"]"
   ]
  },
  {
   "cell_type": "code",
   "execution_count": 62,
   "id": "ce675cbb",
   "metadata": {},
   "outputs": [
    {
     "data": {
      "text/plain": [
       "F_onewayResult(statistic=31.559923638910274, pvalue=2.9603982004555786e-17)"
      ]
     },
     "execution_count": 62,
     "metadata": {},
     "output_type": "execute_result"
    }
   ],
   "source": [
    "st.f_oneway(grA, grB, grC, grD, grF)"
   ]
  },
  {
   "cell_type": "markdown",
   "id": "5e4810cf",
   "metadata": {},
   "source": [
    "### Using the ANOVA test, H<sub>0</sub> is rejected."
   ]
  },
  {
   "cell_type": "code",
   "execution_count": 63,
   "id": "91cf3652",
   "metadata": {},
   "outputs": [
    {
     "data": {
      "text/plain": [
       "KruskalResult(statistic=64.21255304891667, pvalue=3.7699154417581336e-13)"
      ]
     },
     "execution_count": 63,
     "metadata": {},
     "output_type": "execute_result"
    }
   ],
   "source": [
    "st.kruskal(grA, grB, grC, grD, grF)"
   ]
  },
  {
   "cell_type": "markdown",
   "id": "a72e6861",
   "metadata": {},
   "source": [
    "### Using the Kruskal-Wallis H-test, H<sub>0</sub> is rejected."
   ]
  },
  {
   "cell_type": "code",
   "execution_count": 64,
   "id": "d659374e",
   "metadata": {},
   "outputs": [
    {
     "data": {
      "image/png": "[encoded data removed]",
      "text/plain": [
       "<Figure size 864x360 with 1 Axes>"
      ]
     },
     "metadata": {
      "needs_background": "light"
     },
     "output_type": "display_data"
    }
   ],
   "source": [
    "happiness_2021.boxplot('Happiness score', by='Healthy life expectancy', figsize=(12, 5))\n",
    "plt.ylabel('Happiness Score')\n",
    "plt.xticks(rotation=90)\n",
    "plt.show()"
   ]
  },
  {
   "cell_type": "code",
   "execution_count": 65,
   "id": "90efa50c",
   "metadata": {},
   "outputs": [
    {
     "data": {
      "image/png": "[encoded data removed]",
      "text/plain": [
       "<Figure size 864x360 with 1 Axes>"
      ]
     },
     "metadata": {
      "needs_background": "light"
     },
     "output_type": "display_data"
    }
   ],
   "source": [
    "F.boxplot('Happiness score', by='Healthy life expectancy', figsize=(12, 5))\n",
    "plt.ylabel('Happiness Score')\n",
    "plt.xticks(rotation=90)\n",
    "plt.show()"
   ]
  },
  {
   "cell_type": "markdown",
   "id": "bbd4ee61",
   "metadata": {},
   "source": [
    "#### Group F - Lowest 22 life expectancy nations<br>Range 51.3 yrs to 59.4 yrs<br>Happiness scores between 3.0 and 5.5"
   ]
  },
  {
   "cell_type": "code",
   "execution_count": 66,
   "id": "3b3c52d0",
   "metadata": {},
   "outputs": [
    {
     "data": {
      "image/png": "[encoded data removed]",
      "text/plain": [
       "<Figure size 864x360 with 1 Axes>"
      ]
     },
     "metadata": {
      "needs_background": "light"
     },
     "output_type": "display_data"
    }
   ],
   "source": [
    "D.boxplot('Happiness score', by='Healthy life expectancy', figsize=(12, 5))\n",
    "plt.ylabel('Happiness Score')\n",
    "plt.xticks(rotation=90)\n",
    "plt.show()"
   ]
  },
  {
   "cell_type": "markdown",
   "id": "87becead",
   "metadata": {},
   "source": [
    "#### Group D - 2nd Lowest 22 life expectancy nations<br>Range 60.0 yrs to 65.3 yrs<br>Happiness scores between 3.5 and 6.5"
   ]
  },
  {
   "cell_type": "code",
   "execution_count": 67,
   "id": "99309b17",
   "metadata": {},
   "outputs": [
    {
     "data": {
      "image/png": "[encoded data removed]",
      "text/plain": [
       "<Figure size 864x360 with 1 Axes>"
      ]
     },
     "metadata": {
      "needs_background": "light"
     },
     "output_type": "display_data"
    }
   ],
   "source": [
    "C.boxplot('Happiness score', by='Healthy life expectancy', figsize=(12, 5))\n",
    "plt.ylabel('Happiness Score')\n",
    "plt.xticks(rotation=90)\n",
    "plt.show()"
   ]
  },
  {
   "cell_type": "markdown",
   "id": "d5a7b18e",
   "metadata": {},
   "source": [
    "#### Group C - Middle 22 life expectancy nations<br>Range 65.5 yrs to 67.1 yrs<br>Happiness scores between 4.0 and 7.0 with one stray scoring 2.2"
   ]
  },
  {
   "cell_type": "code",
   "execution_count": 68,
   "id": "229d7ee6",
   "metadata": {},
   "outputs": [
    {
     "data": {
      "image/png": "[encoded data removed]",
      "text/plain": [
       "<Figure size 864x360 with 1 Axes>"
      ]
     },
     "metadata": {
      "needs_background": "light"
     },
     "output_type": "display_data"
    }
   ],
   "source": [
    "B.boxplot('Happiness score', by='Healthy life expectancy', figsize=(12, 5))\n",
    "plt.ylabel('Happiness Score')\n",
    "plt.xticks(rotation=90)\n",
    "plt.show()"
   ]
  },
  {
   "cell_type": "markdown",
   "id": "43a5bc31",
   "metadata": {},
   "source": [
    "#### Group B - 2nd Highest 22 life expectancy nations<br>Range 67.3 yrs to 70.3 yrs<br>Happiness scores between 4.0 and 7.0"
   ]
  },
  {
   "cell_type": "code",
   "execution_count": 69,
   "id": "1620c94f",
   "metadata": {},
   "outputs": [
    {
     "data": {
      "image/png": "[encoded data removed]",
      "text/plain": [
       "<Figure size 864x360 with 1 Axes>"
      ]
     },
     "metadata": {
      "needs_background": "light"
     },
     "output_type": "display_data"
    }
   ],
   "source": [
    "A.boxplot('Happiness score', by='Healthy life expectancy', figsize=(12, 5))\n",
    "plt.ylabel('Happiness Score')\n",
    "plt.xticks(rotation=90)\n",
    "plt.show()"
   ]
  },
  {
   "cell_type": "markdown",
   "id": "addd8c81",
   "metadata": {},
   "source": [
    "#### Group A - Highest 22 life expectancy nations<br>Range 70.3 yrs to 74.3 yrs<br>Happiness scores between 6.0 and 8.0"
   ]
  },
  {
   "cell_type": "code",
   "execution_count": 85,
   "id": "842d6ea9",
   "metadata": {},
   "outputs": [
    {
     "data": {
      "application/vnd.jupyter.widget-view+json": {
       "model_id": "c8442b12f10143c5b79e00782fed882d",
       "version_major": 2,
       "version_minor": 0
      },
      "text/plain": [
       "Figure(layout=FigureLayout(height='420px'))"
      ]
     },
     "metadata": {},
     "output_type": "display_data"
    }
   ],
   "source": [
    "gmaps.configure(api_key = gkey)\n",
    "fig = gmaps.figure()\n",
    "\n",
    "longevity_df = happiness_2021.sort_values('Freedom to make life choices')\n",
    "healthy_locations = social_sorted.iloc[74:110,[6,7]]\n",
    "long_lives = social_sorted.iloc[74:110,3]\n",
    "medium_locations = social_sorted.iloc[37:74,[6,7]]\n",
    "medium_lives = social_sorted.iloc[37:74,3]\n",
    "unhealthy_locations = social_sorted.iloc[0:37,[6,7]]\n",
    "short_lives = social_sorted.iloc[0:37,3]\n",
    "\n",
    "all_locations = happiness_2021[[\"Latitude\",\"Longitude\"]]\n",
    "all_lives = happiness_2021['Freedom to make life choices']\n",
    "                                        \n",
    "fig = gmaps.figure()\n",
    "\n",
    "sym_healthy = gmaps.symbol_layer(healthy_locations, fill_color='#028833', stroke_color='#028833')\n",
    "fig.add_layer(sym_healthy)\n",
    "\n",
    "sym_medium = gmaps.symbol_layer(medium_locations, fill_color='blue', stroke_color='blue')\n",
    "fig.add_layer(sym_medium)\n",
    "\n",
    "sym_unhealthy = gmaps.symbol_layer(unhealthy_locations, fill_color='#E65300', stroke_color='#E65300')\n",
    "fig.add_layer(sym_unhealthy)\n",
    "\n",
    "fig"
   ]
  },
  {
   "cell_type": "code",
   "execution_count": null,
   "id": "233acd2f",
   "metadata": {},
   "outputs": [],
   "source": []
  },
  {
   "cell_type": "code",
   "execution_count": null,
   "id": "b54ba0a0",
   "metadata": {},
   "outputs": [],
   "source": [
    "# End John's code"
   ]
  },
  {
   "cell_type": "code",
   "execution_count": null,
   "id": "2129edca",
   "metadata": {},
   "outputs": [],
   "source": [
    "# Start Nathan's code"
   ]
  },
  {
   "cell_type": "markdown",
   "id": "4031871d",
   "metadata": {},
   "source": [
    "Before beginning any analysis, it's important to note that with GDP data, we dropped countries in the original data file that have \"na\" values in GDP per capita, all of these countries have \"na\" because the GDP per capita may be in some way hard to determine, therefore what remains should be truthful values that can all be used in analysis. For this reason, to look for outliers would be redundant, because it has effectively been done for us."
   ]
  },
  {
   "cell_type": "code",
   "execution_count": 70,
   "id": "0f8dc5e3",
   "metadata": {
    "scrolled": true
   },
   "outputs": [
    {
     "data": {
      "image/png": "[encoded data removed]",
      "text/plain": [
       "<Figure size 432x288 with 1 Axes>"
      ]
     },
     "metadata": {
      "needs_background": "light"
     },
     "output_type": "display_data"
    }
   ],
   "source": [
    "x_axis = happiness_2021[\"GDP per capita\"]\n",
    "y_axis = happiness_2021[\"Happiness score\"]\n",
    "\n",
    "\n",
    "(slope, intercept, rvalue, pvalue, stderr) = st.linregress(x_axis, y_axis)\n",
    "regress_values = x_axis * slope + intercept\n",
    "line_eq = f\"y = {round(slope, 2)}x + {round(intercept, 2)}\"\n",
    "rsquared = f\"r squared = {round(rvalue * rvalue, 2)}\"\n",
    "\n",
    "plt.plot(x_axis, regress_values, color='red')\n",
    "plt.annotate(line_eq, (7,7.1), fontsize=15, color=\"red\")\n",
    "plt.annotate(rsquared, (7,6.6), fontsize=15, color=\"red\")\n",
    "\n",
    "plt.title(\"GDP Per Capita vs Happiness\")\n",
    "plt.ylabel(\"Happiness\")\n",
    "plt.xlabel(\"GDP Per Capita\")\n",
    "\n",
    "plt.scatter(x_axis, y_axis)\n",
    "plt.show()"
   ]
  },
  {
   "cell_type": "markdown",
   "id": "c9003aac",
   "metadata": {},
   "source": [
    "This is a simple scatterplot of the data, along with a linear regression, showing a general trend where higher GDP Per Capita leads to a higher happiness score."
   ]
  },
  {
   "cell_type": "code",
   "execution_count": 71,
   "id": "33f6c3a2",
   "metadata": {},
   "outputs": [
    {
     "data": {
      "image/png": "[encoded data removed]",
      "text/plain": [
       "<Figure size 432x288 with 1 Axes>"
      ]
     },
     "metadata": {
      "needs_background": "light"
     },
     "output_type": "display_data"
    }
   ],
   "source": [
    "happiness_2021[\"GDP per capita\"].hist(bins=25)\n",
    "\n",
    "plt.xlabel(\"GDP Per Capita\")\n",
    "plt.ylabel(\"Counts\")\n",
    "plt.title(\"Distribution of GDP Per Capita data\")\n",
    "\n",
    "plt.show()"
   ]
  },
  {
   "cell_type": "markdown",
   "id": "5617b21a",
   "metadata": {},
   "source": [
    "This plot uses bins of the GDP data to visualize where the GDP is clustered. We can use this to approximate higher, lower, and middle thirds of the data."
   ]
  },
  {
   "cell_type": "code",
   "execution_count": 72,
   "id": "b373eac4",
   "metadata": {},
   "outputs": [
    {
     "data": {
      "text/plain": [
       "F_onewayResult(statistic=66.84719963035289, pvalue=1.4574777104746294e-19)"
      ]
     },
     "execution_count": 72,
     "metadata": {},
     "output_type": "execute_result"
    }
   ],
   "source": [
    "# Extract individual groups\n",
    "group0 = happiness_2021[happiness_2021[\"GDP per capita\"] < 8.75][\"Happiness score\"]\n",
    "group1 = happiness_2021[happiness_2021[\"GDP per capita\"].between(8.75, 10.25, inclusive='both')][\"Happiness score\"]\n",
    "group2 = happiness_2021[happiness_2021[\"GDP per capita\"] > 10.25][\"Happiness score\"]\n",
    "\n",
    "# Perform the ANOVA\n",
    "st.f_oneway(group0, group1, group2)"
   ]
  },
  {
   "cell_type": "markdown",
   "id": "9ef5f1e7",
   "metadata": {},
   "source": [
    "With a P value much lower than .05, we can reject the null hypothesis that GDP per capita has no effect on happiness score."
   ]
  },
  {
   "cell_type": "code",
   "execution_count": null,
   "id": "e26456cd",
   "metadata": {},
   "outputs": [],
   "source": [
    "# End Nathan's code"
   ]
  },
  {
   "cell_type": "code",
   "execution_count": null,
   "id": "031e05e5",
   "metadata": {},
   "outputs": [],
   "source": [
    "# Start Joey's code"
   ]
  },
  {
   "cell_type": "markdown",
   "id": "c4bcf106",
   "metadata": {},
   "source": [
    "# Freedom to Make Life Choices\n",
    "\n",
    "> Freedom to make life choices is the national average of a binary response (0=no, 1=yes) to the question \"Are you satisfied or dissatisfied with your freedom to choice what to do with your life?"
   ]
  },
  {
   "cell_type": "code",
   "execution_count": 73,
   "id": "89721b5d",
   "metadata": {},
   "outputs": [
    {
     "data": {
      "text/html": [
       "<div>\n",
       "<style scoped>\n",
       "    .dataframe tbody tr th:only-of-type {\n",
       "        vertical-align: middle;\n",
       "    }\n",
       "\n",
       "    .dataframe tbody tr th {\n",
       "        vertical-align: top;\n",
       "    }\n",
       "\n",
       "    .dataframe thead th {\n",
       "        text-align: right;\n",
       "    }\n",
       "</style>\n",
       "<table border=\"1\" class=\"dataframe\">\n",
       "  <thead>\n",
       "    <tr style=\"text-align: right;\">\n",
       "      <th></th>\n",
       "      <th>Country</th>\n",
       "      <th>Happiness score</th>\n",
       "      <th>GDP per capita</th>\n",
       "      <th>Social support</th>\n",
       "      <th>Healthy life expectancy</th>\n",
       "      <th>Freedom to make life choices</th>\n",
       "      <th>Latitude</th>\n",
       "      <th>Longitude</th>\n",
       "    </tr>\n",
       "  </thead>\n",
       "  <tbody>\n",
       "    <tr>\n",
       "      <th>0</th>\n",
       "      <td>Albania</td>\n",
       "      <td>5.255482</td>\n",
       "      <td>9.562287</td>\n",
       "      <td>0.701883</td>\n",
       "      <td>69.150002</td>\n",
       "      <td>0.827453</td>\n",
       "      <td>41.153332</td>\n",
       "      <td>20.168331</td>\n",
       "    </tr>\n",
       "    <tr>\n",
       "      <th>1</th>\n",
       "      <td>Algeria</td>\n",
       "      <td>5.217018</td>\n",
       "      <td>9.303516</td>\n",
       "      <td>0.840710</td>\n",
       "      <td>66.599998</td>\n",
       "      <td>0.558487</td>\n",
       "      <td>28.033886</td>\n",
       "      <td>1.659626</td>\n",
       "    </tr>\n",
       "    <tr>\n",
       "      <th>2</th>\n",
       "      <td>Argentina</td>\n",
       "      <td>5.908279</td>\n",
       "      <td>9.955421</td>\n",
       "      <td>0.882305</td>\n",
       "      <td>67.199997</td>\n",
       "      <td>0.819479</td>\n",
       "      <td>-38.416097</td>\n",
       "      <td>-63.616672</td>\n",
       "    </tr>\n",
       "    <tr>\n",
       "      <th>3</th>\n",
       "      <td>Armenia</td>\n",
       "      <td>5.300569</td>\n",
       "      <td>9.500485</td>\n",
       "      <td>0.762044</td>\n",
       "      <td>67.650002</td>\n",
       "      <td>0.795170</td>\n",
       "      <td>40.069099</td>\n",
       "      <td>45.038189</td>\n",
       "    </tr>\n",
       "    <tr>\n",
       "      <th>4</th>\n",
       "      <td>Australia</td>\n",
       "      <td>7.111599</td>\n",
       "      <td>10.818342</td>\n",
       "      <td>0.919755</td>\n",
       "      <td>71.050003</td>\n",
       "      <td>0.912402</td>\n",
       "      <td>-25.274398</td>\n",
       "      <td>133.775136</td>\n",
       "    </tr>\n",
       "    <tr>\n",
       "      <th>...</th>\n",
       "      <td>...</td>\n",
       "      <td>...</td>\n",
       "      <td>...</td>\n",
       "      <td>...</td>\n",
       "      <td>...</td>\n",
       "      <td>...</td>\n",
       "      <td>...</td>\n",
       "      <td>...</td>\n",
       "    </tr>\n",
       "    <tr>\n",
       "      <th>105</th>\n",
       "      <td>Uruguay</td>\n",
       "      <td>6.501700</td>\n",
       "      <td>10.010917</td>\n",
       "      <td>0.913873</td>\n",
       "      <td>67.500000</td>\n",
       "      <td>0.898724</td>\n",
       "      <td>-32.522779</td>\n",
       "      <td>-55.765835</td>\n",
       "    </tr>\n",
       "    <tr>\n",
       "      <th>106</th>\n",
       "      <td>Uzbekistan</td>\n",
       "      <td>6.185308</td>\n",
       "      <td>8.941695</td>\n",
       "      <td>0.895504</td>\n",
       "      <td>65.300003</td>\n",
       "      <td>0.927415</td>\n",
       "      <td>41.377491</td>\n",
       "      <td>64.585262</td>\n",
       "    </tr>\n",
       "    <tr>\n",
       "      <th>107</th>\n",
       "      <td>Vietnam</td>\n",
       "      <td>5.540250</td>\n",
       "      <td>9.028702</td>\n",
       "      <td>0.799494</td>\n",
       "      <td>65.500000</td>\n",
       "      <td>0.896800</td>\n",
       "      <td>14.058324</td>\n",
       "      <td>108.277199</td>\n",
       "    </tr>\n",
       "    <tr>\n",
       "      <th>108</th>\n",
       "      <td>Zambia</td>\n",
       "      <td>3.082155</td>\n",
       "      <td>8.087629</td>\n",
       "      <td>0.619071</td>\n",
       "      <td>55.250000</td>\n",
       "      <td>0.832574</td>\n",
       "      <td>-13.133897</td>\n",
       "      <td>27.849332</td>\n",
       "    </tr>\n",
       "    <tr>\n",
       "      <th>109</th>\n",
       "      <td>Zimbabwe</td>\n",
       "      <td>3.154578</td>\n",
       "      <td>8.153248</td>\n",
       "      <td>0.685151</td>\n",
       "      <td>54.049999</td>\n",
       "      <td>0.667636</td>\n",
       "      <td>-19.015438</td>\n",
       "      <td>29.154857</td>\n",
       "    </tr>\n",
       "  </tbody>\n",
       "</table>\n",
       "<p>110 rows × 8 columns</p>\n",
       "</div>"
      ],
      "text/plain": [
       "        Country  Happiness score  GDP per capita  Social support  \\\n",
       "0       Albania         5.255482        9.562287        0.701883   \n",
       "1       Algeria         5.217018        9.303516        0.840710   \n",
       "2     Argentina         5.908279        9.955421        0.882305   \n",
       "3       Armenia         5.300569        9.500485        0.762044   \n",
       "4     Australia         7.111599       10.818342        0.919755   \n",
       "..          ...              ...             ...             ...   \n",
       "105     Uruguay         6.501700       10.010917        0.913873   \n",
       "106  Uzbekistan         6.185308        8.941695        0.895504   \n",
       "107     Vietnam         5.540250        9.028702        0.799494   \n",
       "108      Zambia         3.082155        8.087629        0.619071   \n",
       "109    Zimbabwe         3.154578        8.153248        0.685151   \n",
       "\n",
       "     Healthy life expectancy  Freedom to make life choices   Latitude  \\\n",
       "0                  69.150002                      0.827453  41.153332   \n",
       "1                  66.599998                      0.558487  28.033886   \n",
       "2                  67.199997                      0.819479 -38.416097   \n",
       "3                  67.650002                      0.795170  40.069099   \n",
       "4                  71.050003                      0.912402 -25.274398   \n",
       "..                       ...                           ...        ...   \n",
       "105                67.500000                      0.898724 -32.522779   \n",
       "106                65.300003                      0.927415  41.377491   \n",
       "107                65.500000                      0.896800  14.058324   \n",
       "108                55.250000                      0.832574 -13.133897   \n",
       "109                54.049999                      0.667636 -19.015438   \n",
       "\n",
       "      Longitude  \n",
       "0     20.168331  \n",
       "1      1.659626  \n",
       "2    -63.616672  \n",
       "3     45.038189  \n",
       "4    133.775136  \n",
       "..          ...  \n",
       "105  -55.765835  \n",
       "106   64.585262  \n",
       "107  108.277199  \n",
       "108   27.849332  \n",
       "109   29.154857  \n",
       "\n",
       "[110 rows x 8 columns]"
      ]
     },
     "execution_count": 73,
     "metadata": {},
     "output_type": "execute_result"
    }
   ],
   "source": [
    "happiness_2021"
   ]
  },
  {
   "cell_type": "code",
   "execution_count": 74,
   "id": "18315770",
   "metadata": {},
   "outputs": [
    {
     "data": {
      "image/png": "[encoded data removed]",
      "text/plain": [
       "<Figure size 432x288 with 1 Axes>"
      ]
     },
     "metadata": {
      "needs_background": "light"
     },
     "output_type": "display_data"
    }
   ],
   "source": [
    "happiness_2021['Freedom to make life choices']. hist(bins=25)\n",
    "\n",
    "plt.xlabel('Freedom to Make Life Choices')\n",
    "plt.ylabel('Count')\n",
    "plt.title('Histogram of Freedom to Make Life Choices Results')\n",
    "plt.show()"
   ]
  },
  {
   "cell_type": "code",
   "execution_count": null,
   "id": "3938a879",
   "metadata": {},
   "outputs": [],
   "source": [
    "lowest = happiness_2021.loc[happiness_2021['Freedom to make life choices'] > 0.96]\n",
    "lowest"
   ]
  },
  {
   "cell_type": "code",
   "execution_count": null,
   "id": "943ba99e",
   "metadata": {},
   "outputs": [
    {
     "data": {
      "image/png": "[encoded data removed]",
      "text/plain": [
       "<Figure size 432x288 with 1 Axes>"
      ]
     },
     "metadata": {
      "needs_background": "light"
     },
     "output_type": "display_data"
    }
   ],
   "source": [
    "happiness_2021['Happiness score']. hist(bins=10)\n",
    "\n",
    "plt.xlabel('Happiness Score')\n",
    "plt.ylabel('Count')\n",
    "plt.title('Histogram of Happiness Scores')\n",
    "plt.show()"
   ]
  },
  {
   "cell_type": "code",
   "execution_count": 76,
   "id": "fd2c7ff1",
   "metadata": {},
   "outputs": [
    {
     "data": {
      "image/png": "[encoded data removed]",
      "text/plain": [
       "<Figure size 432x288 with 1 Axes>"
      ]
     },
     "metadata": {
      "needs_background": "light"
     },
     "output_type": "display_data"
    },
    {
     "name": "stdout",
     "output_type": "stream",
     "text": [
      " rvalue = 0.58 \n",
      " r-squared = 0.3352737282074053\n",
      " Pearsons correlation = (0.5790282620109359, 3.44134129890521e-11)\n"
     ]
    }
   ],
   "source": [
    "x_axis = happiness_2021['Freedom to make life choices']\n",
    "y_axis = happiness_2021['Happiness score']\n",
    "\n",
    "(slope, intercept, rvalue, pvalue, stderr) = st.linregress(x_axis, y_axis)\n",
    "regress_values = x_axis * slope + intercept\n",
    "line_eq = f'y = {round(slope, 2)}x + {round(intercept, 2)}'\n",
    "\n",
    "plt.plot(x_axis, regress_values, color='red')\n",
    "plt.annotate(line_eq, (0.45,2.5), fontsize=15, color='red')\n",
    "\n",
    "plt.title('Freedom to Make Life Choices vs Happiness')\n",
    "plt.ylabel('Happiness')\n",
    "plt.xlabel('Freedom to Make Life Choices')\n",
    "\n",
    "res = st.linregress(x_axis, y_axis)\n",
    "\n",
    "plt.scatter(x_axis, y_axis)\n",
    "plt.show()\n",
    "\n",
    "pearson_r = st.pearsonr(x_axis, y_axis)\n",
    "\n",
    "print(f' rvalue = {round(rvalue,2)} ')\n",
    "print(f' r-squared = {res.rvalue**2}')\n",
    "print(f' Pearsons correlation = {pearson_r}')"
   ]
  },
  {
   "cell_type": "code",
   "execution_count": 77,
   "id": "9094b6d1",
   "metadata": {},
   "outputs": [
    {
     "data": {
      "image/png": "[encoded data removed]",
      "text/plain": [
       "<Figure size 432x288 with 1 Axes>"
      ]
     },
     "metadata": {
      "needs_background": "light"
     },
     "output_type": "display_data"
    },
    {
     "name": "stdout",
     "output_type": "stream",
     "text": [
      "Q1: 0.724479601\n",
      "Q3: 0.8697462085000001\n",
      "IQR: 0.1452666075000001\n",
      "Lower Bound: 0.5065796897499999\n",
      "Upper Bound: 1.0876461197500003\n"
     ]
    }
   ],
   "source": [
    "#define upper and lower bounds\n",
    "quartiles = x_axis.quantile([0.25,0.5,0.75])\n",
    "lowerq = quartiles[0.25]\n",
    "upperq = quartiles[0.75]\n",
    "iqr = upperq-lowerq\n",
    "lower_bound = lowerq - (1.5*iqr)\n",
    "upper_bound = upperq + (1.5*iqr)\n",
    "\n",
    "\n",
    "#find freedom outliers\n",
    "outliers = happiness_2021.loc[x_axis<lower_bound,:]\n",
    "outliers\n",
    "outliers.sort_values('Freedom to make life choices')\n",
    "\n",
    "#create boxplot\n",
    "plt.boxplot(x_axis, showmeans=True)\n",
    "plt.title(\"Freedom to Make Life Choices\")\n",
    "for country in outliers['Country'].values:\n",
    "    y = outliers.loc[outliers['Country']==country,'Freedom to make life choices']\n",
    "    plt.annotate(country,(1.05,y),fontsize=10,color=\"red\")\n",
    "plt.show()\n",
    "\n",
    "print(f\"Q1: {lowerq}\\nQ3: {upperq}\\nIQR: {iqr}\\nLower Bound: {lower_bound}\\nUpper Bound: {upper_bound}\")\n"
   ]
  },
  {
   "cell_type": "code",
   "execution_count": 78,
   "id": "0fedc4db",
   "metadata": {},
   "outputs": [
    {
     "data": {
      "image/png": "[encoded data removed]",
      "text/plain": [
       "<Figure size 1440x720 with 1 Axes>"
      ]
     },
     "metadata": {
      "needs_background": "light"
     },
     "output_type": "display_data"
    },
    {
     "data": {
      "text/plain": [
       "F_onewayResult(statistic=20.730358438619355, pvalue=2.459314123330505e-08)"
      ]
     },
     "execution_count": 78,
     "metadata": {},
     "output_type": "execute_result"
    }
   ],
   "source": [
    "#sorting by freedom scores and creating three groups\n",
    "freedom_sort = happiness_2021[['Freedom to make life choices', 'Happiness score']].copy()\n",
    "freedom_sort = freedom_sort.sort_values(by=['Freedom to make life choices'], ascending=True)\n",
    "#freedom_sort = freedom_sort.reset_index\n",
    "freedom_low = freedom_sort.iloc[0:36]\n",
    "freedom_mid = freedom_sort.iloc[36:73]\n",
    "freedom_high = freedom_sort.iloc[73:110]\n",
    "\n",
    "bins = [0, 0.7573, 0.83811, 1]\n",
    "group_names = ['Low', \"Mid\", \"High\"]\n",
    "\n",
    "freedom_sort[\"Freedom Level 1\"] = pd.cut(freedom_sort[\"Freedom to make life choices\"], bins, labels=group_names, include_lowest=True)\n",
    "freedom_sort\n",
    "\n",
    "freedom_sort.boxplot('Happiness score', by='Freedom Level 1', figsize=(20,10))\n",
    "plt.show()\n",
    "\n",
    "st.f_oneway(freedom_low['Happiness score'], freedom_mid['Happiness score'], freedom_high['Happiness score'])\n",
    "#print('There is a statistically significant difference in happiness score between the groups')"
   ]
  },
  {
   "cell_type": "code",
   "execution_count": 79,
   "id": "a4c3a3f2",
   "metadata": {},
   "outputs": [
    {
     "data": {
      "text/plain": [
       "<AxesSubplot:>"
      ]
     },
     "execution_count": 79,
     "metadata": {},
     "output_type": "execute_result"
    },
    {
     "data": {
      "image/png": "[encoded data removed]",
      "text/plain": [
       "<Figure size 432x288 with 1 Axes>"
      ]
     },
     "metadata": {
      "needs_background": "light"
     },
     "output_type": "display_data"
    }
   ],
   "source": [
    "freedom_low['Happiness score'].hist(bins=10)"
   ]
  },
  {
   "cell_type": "code",
   "execution_count": 80,
   "id": "4b1c05a8",
   "metadata": {},
   "outputs": [
    {
     "data": {
      "text/plain": [
       "<AxesSubplot:>"
      ]
     },
     "execution_count": 80,
     "metadata": {},
     "output_type": "execute_result"
    },
    {
     "data": {
      "image/png": "[encoded data removed]",
      "text/plain": [
       "<Figure size 432x288 with 1 Axes>"
      ]
     },
     "metadata": {
      "needs_background": "light"
     },
     "output_type": "display_data"
    }
   ],
   "source": [
    "freedom_mid['Happiness score'].hist(bins=10)"
   ]
  },
  {
   "cell_type": "code",
   "execution_count": 81,
   "id": "2f08ac26",
   "metadata": {},
   "outputs": [
    {
     "data": {
      "text/plain": [
       "<AxesSubplot:>"
      ]
     },
     "execution_count": 81,
     "metadata": {},
     "output_type": "execute_result"
    },
    {
     "data": {
      "image/png": "[encoded data removed]",
      "text/plain": [
       "<Figure size 432x288 with 1 Axes>"
      ]
     },
     "metadata": {
      "needs_background": "light"
     },
     "output_type": "display_data"
    }
   ],
   "source": [
    "freedom_high['Happiness score'].hist(bins=10)"
   ]
  },
  {
   "cell_type": "code",
   "execution_count": 82,
   "id": "e96d91c9",
   "metadata": {},
   "outputs": [
    {
     "data": {
      "image/png": "[encoded data removed]",
      "text/plain": [
       "<Figure size 1440x720 with 1 Axes>"
      ]
     },
     "metadata": {
      "needs_background": "light"
     },
     "output_type": "display_data"
    },
    {
     "data": {
      "text/plain": [
       "F_onewayResult(statistic=8.467796348343313, pvalue=5.8255273456858264e-06)"
      ]
     },
     "execution_count": 82,
     "metadata": {},
     "output_type": "execute_result"
    }
   ],
   "source": [
    "#sorting by freedom scores and creating five groups\n",
    "freedom_sort = happiness_2021[['Freedom to make life choices', 'Happiness score']].copy()\n",
    "freedom_sort = freedom_sort.sort_values(by=['Freedom to make life choices'], ascending=True)\n",
    "#freedom_sort = freedom_sort.reset_index\n",
    "freedom_0_20 = freedom_sort.iloc[0:22]\n",
    "freedom_20_40 = freedom_sort.iloc[22:44]\n",
    "freedom_40_60 = freedom_sort.iloc[44:66]\n",
    "freedom_60_80 = freedom_sort.iloc[66:88]\n",
    "freedom_80_100 = freedom_sort.iloc[88:110]\n",
    "\n",
    "#creating bins by 20%\n",
    "bins = [0, 0.70445, 0.77467, 0.82746, 0.89053, 1]\n",
    "group_names = ['0-20%', '20-40%', '40-60%', '60-80%', '80-100%']\n",
    "\n",
    "freedom_sort[\"Freedom Level 2\"] = pd.cut(freedom_sort[\"Freedom to make life choices\"], bins, labels=group_names, include_lowest=True)\n",
    "freedom_sort\n",
    "\n",
    "#making box plot\n",
    "freedom_sort.boxplot('Happiness score', by='Freedom Level 2', figsize=(20,10))\n",
    "plt.show()\n",
    "\n",
    "#one way ANOVA test\n",
    "st.f_oneway(freedom_0_20['Happiness score'], \n",
    "            freedom_20_40['Happiness score'], \n",
    "            freedom_40_60['Happiness score'], \n",
    "            freedom_60_80['Happiness score'],\n",
    "            freedom_60_80['Happiness score'])"
   ]
  },
  {
   "cell_type": "code",
   "execution_count": null,
   "id": "25aeabcf",
   "metadata": {},
   "outputs": [],
   "source": [
    "# End Joey's code"
   ]
  }
 ],
 "metadata": {
  "kernelspec": {
   "display_name": "Python 3 (ipykernel)",
   "language": "python",
   "name": "python3"
  },
  "language_info": {
   "codemirror_mode": {
    "name": "ipython",
    "version": 3
   },
   "file_extension": ".py",
   "mimetype": "text/x-python",
   "name": "python",
   "nbconvert_exporter": "python",
   "pygments_lexer": "ipython3",
   "version": "3.8.13"
  }
 },
 "nbformat": 4,
 "nbformat_minor": 5
}
